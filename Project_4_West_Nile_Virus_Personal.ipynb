{
  "nbformat": 4,
  "nbformat_minor": 0,
  "metadata": {
    "colab": {
      "name": "Project 4 : West Nile Virus Personal.ipynb",
      "provenance": [],
      "collapsed_sections": [],
      "toc_visible": true,
      "include_colab_link": true
    },
    "kernelspec": {
      "name": "python3",
      "display_name": "Python 3"
    },
    "language_info": {
      "name": "python"
    }
  },
  "cells": [
    {
      "cell_type": "markdown",
      "metadata": {
        "id": "view-in-github",
        "colab_type": "text"
      },
      "source": [
        "<a href=\"https://colab.research.google.com/github/86lekwenshiung/West-Nile-Virus-Prediction/blob/main/Project_4_West_Nile_Virus_Personal.ipynb\" target=\"_parent\"><img src=\"https://colab.research.google.com/assets/colab-badge.svg\" alt=\"Open In Colab\"/></a>"
      ]
    },
    {
      "cell_type": "markdown",
      "metadata": {
        "id": "l8o50XPs3WEC"
      },
      "source": [
        "# Introduction : West Nile Virus\n",
        "___\n",
        "\n",
        "**Problem Statement**\n",
        "\n",
        "1. Given weather, location, testing, and spraying data, predict when and where different species of mosquitos will test positive for West Nile virus. \n",
        "2. Is pesticide effective : Population before 2011 vs Population After 2013.\n",
        "\n",
        "\n",
        "**Key variables**\n",
        "\n",
        "|Data|Description|\n",
        "|---|---|\n",
        "|Id|Id of the Mosquito|\n",
        "|Species|Species of Mosquito|\n",
        "|Address|Location of Trap|\n",
        "|Block| Block nunber of address|\n",
        "|Street| Street Name|\n",
        "|Trap ID| Id of Trap. Letter behind Trap ID indicate it is near a main Trap|\n",
        "|Latitude , Longtitude|Location of Trap , Mosquito|\n",
        "|NumMosquito| No. of Mosquito|\n",
        "|WNV_Present| 1 means WNV is present, and 0 means not present|\n",
        "|Spray CSV| Latitude , Longtitude. Dataset only at 2011, 2013|\n",
        "\n",
        "**Model Explored**\n",
        "\n",
        "**workflow**\n",
        "1. EDA\n",
        "2. Feature Engineering \n",
        "3. Data Preprocessing\n",
        "4. Modelling to predict WNV probability (without pesticide)\n",
        "5. Select best Model to study the effect of pesticide\n",
        "  * 5.1 Hypothesis : Pesticide has no effect on Mosquito population\n",
        "\n",
        "**Key Insight**\n",
        "\n",
        "We need to derive an effective plan to deploy pesticides throughout the city, and that is exactly where you come in!  \n"
      ]
    },
    {
      "cell_type": "markdown",
      "metadata": {
        "id": "93hy_Hb-CqdW"
      },
      "source": [
        "# 0.0 Libraries Import\n",
        "___"
      ]
    },
    {
      "cell_type": "code",
      "metadata": {
        "id": "Sm0J3__y3ZV8"
      },
      "source": [
        "import pandas as pd\n",
        "import numpy as np\n",
        "\n",
        "# Machine Learning Libraries"
      ],
      "execution_count": null,
      "outputs": []
    },
    {
      "cell_type": "markdown",
      "metadata": {
        "id": "XwV_TCE9-aty"
      },
      "source": [
        "# 1.0 Data Import\n",
        "___"
      ]
    },
    {
      "cell_type": "code",
      "metadata": {
        "colab": {
          "base_uri": "https://localhost:8080/"
        },
        "id": "9J_MvyoNBsnO",
        "outputId": "f3d6c42c-2ef6-417e-f851-f21b7e23255f"
      },
      "source": [
        "!wget https://raw.githubusercontent.com/86lekwenshiung/West-Nile-Virus-Prediction/main/dataset/train.csv\n",
        "!wget https://raw.githubusercontent.com/86lekwenshiung/West-Nile-Virus-Prediction/main/dataset/weather.csv\n",
        "!wget https://raw.githubusercontent.com/86lekwenshiung/West-Nile-Virus-Prediction/main/dataset/test.csv\n",
        "!wget https://raw.githubusercontent.com/86lekwenshiung/West-Nile-Virus-Prediction/main/dataset/spray.csv"
      ],
      "execution_count": null,
      "outputs": [
        {
          "output_type": "stream",
          "name": "stdout",
          "text": [
            "--2021-10-14 12:25:12--  https://raw.githubusercontent.com/86lekwenshiung/West-Nile-Virus-Prediction/main/dataset/train.csv\n",
            "Resolving raw.githubusercontent.com (raw.githubusercontent.com)... 185.199.110.133, 185.199.108.133, 185.199.111.133, ...\n",
            "Connecting to raw.githubusercontent.com (raw.githubusercontent.com)|185.199.110.133|:443... connected.\n",
            "HTTP request sent, awaiting response... 200 OK\n",
            "Length: 1797335 (1.7M) [text/plain]\n",
            "Saving to: ‘train.csv’\n",
            "\n",
            "train.csv           100%[===================>]   1.71M  --.-KB/s    in 0.06s   \n",
            "\n",
            "2021-10-14 12:25:12 (27.4 MB/s) - ‘train.csv’ saved [1797335/1797335]\n",
            "\n",
            "--2021-10-14 12:25:12--  https://raw.githubusercontent.com/86lekwenshiung/West-Nile-Virus-Prediction/main/dataset/weather.csv\n",
            "Resolving raw.githubusercontent.com (raw.githubusercontent.com)... 185.199.108.133, 185.199.110.133, 185.199.111.133, ...\n",
            "Connecting to raw.githubusercontent.com (raw.githubusercontent.com)|185.199.108.133|:443... connected.\n",
            "HTTP request sent, awaiting response... 200 OK\n",
            "Length: 358139 (350K) [text/plain]\n",
            "Saving to: ‘weather.csv’\n",
            "\n",
            "weather.csv         100%[===================>] 349.75K  --.-KB/s    in 0.03s   \n",
            "\n",
            "2021-10-14 12:25:13 (9.87 MB/s) - ‘weather.csv’ saved [358139/358139]\n",
            "\n",
            "--2021-10-14 12:25:13--  https://raw.githubusercontent.com/86lekwenshiung/West-Nile-Virus-Prediction/main/dataset/test.csv\n",
            "Resolving raw.githubusercontent.com (raw.githubusercontent.com)... 185.199.111.133, 185.199.110.133, 185.199.108.133, ...\n",
            "Connecting to raw.githubusercontent.com (raw.githubusercontent.com)|185.199.111.133|:443... connected.\n",
            "HTTP request sent, awaiting response... 200 OK\n",
            "Length: 20033097 (19M) [text/plain]\n",
            "Saving to: ‘test.csv’\n",
            "\n",
            "test.csv            100%[===================>]  19.10M   108MB/s    in 0.2s    \n",
            "\n",
            "2021-10-14 12:25:13 (108 MB/s) - ‘test.csv’ saved [20033097/20033097]\n",
            "\n",
            "--2021-10-14 12:25:13--  https://raw.githubusercontent.com/86lekwenshiung/West-Nile-Virus-Prediction/main/dataset/spray.csv\n",
            "Resolving raw.githubusercontent.com (raw.githubusercontent.com)... 185.199.108.133, 185.199.109.133, 185.199.110.133, ...\n",
            "Connecting to raw.githubusercontent.com (raw.githubusercontent.com)|185.199.108.133|:443... connected.\n",
            "HTTP request sent, awaiting response... 200 OK\n",
            "Length: 796163 (778K) [text/plain]\n",
            "Saving to: ‘spray.csv’\n",
            "\n",
            "spray.csv           100%[===================>] 777.50K  --.-KB/s    in 0.05s   \n",
            "\n",
            "2021-10-14 12:25:13 (16.4 MB/s) - ‘spray.csv’ saved [796163/796163]\n",
            "\n"
          ]
        }
      ]
    },
    {
      "cell_type": "code",
      "metadata": {
        "id": "bV0EIVbnBucn"
      },
      "source": [
        "df_train = pd.read_csv('/content/train.csv')\n",
        "df_test = pd.read_csv('/content/test.csv')\n",
        "df_spray = pd.read_csv('/content/spray.csv')\n",
        "df_weather = pd.read_csv('/content/weather.csv')"
      ],
      "execution_count": null,
      "outputs": []
    },
    {
      "cell_type": "markdown",
      "metadata": {
        "id": "TcH2rSLUDp09"
      },
      "source": [
        "# 2.0 EDA (Basic EDA)\n",
        "___"
      ]
    },
    {
      "cell_type": "code",
      "metadata": {
        "colab": {
          "base_uri": "https://localhost:8080/"
        },
        "id": "OpSRDIiJw-nU",
        "outputId": "738866d7-8bd3-4bf9-df00-660409fb9018"
      },
      "source": [
        "df_train.columns"
      ],
      "execution_count": null,
      "outputs": [
        {
          "output_type": "execute_result",
          "data": {
            "text/plain": [
              "Index(['Date', 'Address', 'Species', 'Block', 'Street', 'Trap',\n",
              "       'AddressNumberAndStreet', 'Latitude', 'Longitude', 'AddressAccuracy',\n",
              "       'NumMosquitos', 'WnvPresent'],\n",
              "      dtype='object')"
            ]
          },
          "metadata": {},
          "execution_count": 6
        }
      ]
    },
    {
      "cell_type": "code",
      "metadata": {
        "colab": {
          "base_uri": "https://localhost:8080/",
          "height": 731
        },
        "id": "h1ITy8QZxLih",
        "outputId": "b5566526-112a-43cf-b644-34c37aa1cc9c"
      },
      "source": [
        "df_train['Trap'].value_counts()[:40].plot(kind = 'bar' , figsize = (20,12))"
      ],
      "execution_count": null,
      "outputs": [
        {
          "output_type": "execute_result",
          "data": {
            "text/plain": [
              "<matplotlib.axes._subplots.AxesSubplot at 0x7fa484b7aad0>"
            ]
          },
          "metadata": {},
          "execution_count": 17
        },
        {
          "output_type": "display_data",
          "data": {
            "image/png": "[encoded data removed]",
            "text/plain": [
              "<Figure size 1440x864 with 1 Axes>"
            ]
          },
          "metadata": {
            "needs_background": "light"
          }
        }
      ]
    },
    {
      "cell_type": "markdown",
      "metadata": {
        "id": "ysxIjx2pIIDT"
      },
      "source": [
        "### 2.1 Effect of Spray and Distance(Julian)\n",
        "___"
      ]
    },
    {
      "cell_type": "markdown",
      "metadata": {
        "id": "OkDEsquLL8sC"
      },
      "source": [
        "### 2.2 Weather EDA (Terence)\n",
        "___"
      ]
    }
  ]
}