{
 "cells": [
  {
   "cell_type": "code",
   "execution_count": 1,
   "id": "925ad556",
   "metadata": {},
   "outputs": [],
   "source": [
    "import pandas as pd\n",
    "import matplotlib.pyplot as plt\n",
    "import seaborn as sns\n",
    "import numpy as np\n",
    "\n",
    "from sklearn.preprocessing import StandardScaler\n",
    "from sklearn.model_selection import train_test_split, GridSearchCV, cross_val_score\n",
    "from sklearn.pipeline import Pipeline\n",
    "from sklearn.linear_model import LogisticRegression\n",
    "from sklearn.metrics import (confusion_matrix, classification_report, plot_roc_curve, roc_auc_score, \n",
    "accuracy_score, precision_score, recall_score, f1_score, auc, precision_recall_curve, average_precision_score)\n",
    "\n",
    "from sklearn.tree import DecisionTreeClassifier\n",
    "from sklearn.ensemble import RandomForestClassifier, ExtraTreesClassifier, GradientBoostingClassifier, AdaBoostClassifier\n",
    "\n",
    "from sklearn.svm import SVC\n",
    "\n",
    "pd.set_option('display.max_rows', 500)"
   ]
  },
  {
   "cell_type": "code",
   "execution_count": 2,
   "id": "ae490e4c",
   "metadata": {},
   "outputs": [],
   "source": [
    "df_spray = pd.read_csv('spray.csv/spray.csv')\n",
    "df_test = pd.read_csv('test.csv/test.csv')\n",
    "df_train = pd.read_csv('train.csv/train.csv')\n",
    "df_weather = pd.read_csv('weather.csv/weather.csv')"
   ]
  },
  {
   "cell_type": "code",
   "execution_count": 3,
   "id": "61f9199f",
   "metadata": {
    "scrolled": false
   },
   "outputs": [
    {
     "name": "stdout",
     "output_type": "stream",
     "text": [
      "The training dataset has 10506 rows and 12 features.\n",
      "The test dataset has 116293 rows and 11 features.\n",
      "The spray dataset has 14835 rows and 4 features.\n",
      "The weather dataset has 2944 rows and 22 features.\n"
     ]
    }
   ],
   "source": [
    "# Checking data size\n",
    "\n",
    "print(f'The training dataset has {df_train.shape[0]} rows and {df_train.shape[1]} features.')\n",
    "print(f'The test dataset has {df_test.shape[0]} rows and {df_test.shape[1]} features.')\n",
    "print(f'The spray dataset has {df_spray.shape[0]} rows and {df_spray.shape[1]} features.')\n",
    "print(f'The weather dataset has {df_weather.shape[0]} rows and {df_weather.shape[1]} features.')"
   ]
  },
  {
   "cell_type": "code",
   "execution_count": 4,
   "id": "053d354a",
   "metadata": {
    "scrolled": true
   },
   "outputs": [
    {
     "data": {
      "text/plain": [
       "array(['2008-06-11', '2008-06-17', '2008-06-24', '2008-07-01',\n",
       "       '2008-07-04', '2008-07-11', '2008-07-14', '2008-07-21',\n",
       "       '2008-07-23', '2008-07-24', '2008-07-28', '2008-07-29',\n",
       "       '2008-08-04', '2008-08-05', '2008-08-12', '2008-08-13',\n",
       "       '2008-08-19', '2008-08-25', '2008-08-26', '2008-09-02',\n",
       "       '2008-09-03', '2008-09-09', '2008-09-15', '2008-09-19',\n",
       "       '2008-09-29', '2010-06-02', '2010-06-11', '2010-06-18',\n",
       "       '2010-06-25', '2010-06-28', '2010-07-01', '2010-07-02',\n",
       "       '2010-07-12', '2010-07-13', '2010-07-16', '2010-07-19',\n",
       "       '2010-07-23', '2010-07-26', '2010-07-29', '2010-07-30',\n",
       "       '2010-08-05', '2010-08-06', '2010-08-13', '2010-08-19',\n",
       "       '2010-08-20', '2010-08-26', '2010-08-27', '2010-09-02',\n",
       "       '2010-09-10', '2010-09-13', '2010-09-16', '2010-09-17',\n",
       "       '2010-09-23', '2010-09-24', '2010-10-01', '2012-06-08',\n",
       "       '2012-06-15', '2012-06-21', '2012-06-29', '2012-07-09',\n",
       "       '2012-07-13', '2012-07-19', '2012-07-20', '2012-07-27',\n",
       "       '2012-08-03', '2012-08-09', '2012-08-10', '2012-08-16',\n",
       "       '2012-08-17', '2012-08-23', '2012-08-24', '2012-08-30',\n",
       "       '2012-08-31', '2012-09-10', '2012-09-13', '2012-09-20',\n",
       "       '2012-09-28', '2014-06-05', '2014-06-12', '2014-06-19',\n",
       "       '2014-06-26', '2014-07-03', '2014-07-10', '2014-07-17',\n",
       "       '2014-07-24', '2014-07-31', '2014-08-07', '2014-08-14',\n",
       "       '2014-08-21', '2014-08-28', '2014-09-05', '2014-09-11',\n",
       "       '2014-09-18', '2014-09-25', '2014-10-02'], dtype=object)"
      ]
     },
     "execution_count": 4,
     "metadata": {},
     "output_type": "execute_result"
    }
   ],
   "source": [
    "df_test['Date'].unique()"
   ]
  },
  {
   "cell_type": "code",
   "execution_count": 5,
   "id": "4f1ed572",
   "metadata": {
    "scrolled": true
   },
   "outputs": [
    {
     "data": {
      "text/plain": [
       "array(['2007-05-29', '2007-06-05', '2007-06-26', '2007-06-29',\n",
       "       '2007-07-02', '2007-07-11', '2007-07-18', '2007-07-19',\n",
       "       '2007-07-25', '2007-07-27', '2007-08-01', '2007-08-02',\n",
       "       '2007-08-03', '2007-08-07', '2007-08-08', '2007-08-09',\n",
       "       '2007-08-15', '2007-08-16', '2007-08-17', '2007-08-21',\n",
       "       '2007-08-22', '2007-08-24', '2007-08-28', '2007-09-04',\n",
       "       '2007-09-05', '2007-09-06', '2007-09-12', '2007-09-18',\n",
       "       '2007-09-19', '2007-09-24', '2007-09-25', '2007-10-04',\n",
       "       '2007-10-09', '2009-05-28', '2009-06-02', '2009-06-03',\n",
       "       '2009-06-05', '2009-06-12', '2009-06-15', '2009-06-19',\n",
       "       '2009-06-22', '2009-06-26', '2009-06-29', '2009-07-06',\n",
       "       '2009-07-10', '2009-07-13', '2009-07-17', '2009-07-24',\n",
       "       '2009-07-27', '2009-07-31', '2009-08-07', '2009-08-13',\n",
       "       '2009-08-25', '2009-08-27', '2009-09-03', '2009-09-14',\n",
       "       '2009-09-17', '2009-09-25', '2009-10-01', '2011-06-10',\n",
       "       '2011-06-17', '2011-06-24', '2011-06-30', '2011-07-11',\n",
       "       '2011-07-15', '2011-07-25', '2011-07-29', '2011-08-05',\n",
       "       '2011-08-12', '2011-08-19', '2011-08-26', '2011-09-01',\n",
       "       '2011-09-02', '2011-09-12', '2011-09-16', '2011-09-23',\n",
       "       '2011-09-30', '2013-06-07', '2013-06-14', '2013-06-21',\n",
       "       '2013-06-27', '2013-06-28', '2013-07-08', '2013-07-12',\n",
       "       '2013-07-19', '2013-07-25', '2013-08-01', '2013-08-08',\n",
       "       '2013-08-15', '2013-08-22', '2013-08-29', '2013-09-06',\n",
       "       '2013-09-12', '2013-09-19', '2013-09-26'], dtype=object)"
      ]
     },
     "execution_count": 5,
     "metadata": {},
     "output_type": "execute_result"
    }
   ],
   "source": [
    "df_train['Date'].unique()"
   ]
  },
  {
   "cell_type": "code",
   "execution_count": 6,
   "id": "81bf4c81",
   "metadata": {},
   "outputs": [],
   "source": [
    "df_train_test = pd.concat([df_train, df_test], axis=0)"
   ]
  },
  {
   "cell_type": "code",
   "execution_count": 7,
   "id": "320047cb",
   "metadata": {},
   "outputs": [
    {
     "data": {
      "text/plain": [
       "Index(['date', 'address', 'species', 'block', 'street', 'trap',\n",
       "       'addressnumberandstreet', 'latitude', 'longitude', 'addressaccuracy',\n",
       "       'nummosquitos', 'wnvpresent', 'id'],\n",
       "      dtype='object')"
      ]
     },
     "execution_count": 7,
     "metadata": {},
     "output_type": "execute_result"
    }
   ],
   "source": [
    "df_train_test.columns = df_train_test.columns.map(lambda col: col.lower().replace(' ','_'))\n",
    "df_train_test.columns"
   ]
  },
  {
   "cell_type": "code",
   "execution_count": 66,
   "id": "591c629a",
   "metadata": {},
   "outputs": [],
   "source": [
    "df_train_new = df_train_test.iloc[:len(df_train), :]"
   ]
  },
  {
   "cell_type": "code",
   "execution_count": 67,
   "id": "0ef03985",
   "metadata": {},
   "outputs": [
    {
     "data": {
      "image/png": "[encoded data removed]",
      "text/plain": [
       "<Figure size 1080x360 with 2 Axes>"
      ]
     },
     "metadata": {
      "needs_background": "light"
     },
     "output_type": "display_data"
    }
   ],
   "source": [
    "fig, ax = plt.subplots(ncols = 2, figsize=(15,5))\n",
    "\n",
    "# plot sampling efforts by year\n",
    "df_train_new['year'].value_counts().plot(kind = 'barh', ax = ax[0], color='#8383EC')\n",
    "ax[0].set_title('Sampling efforts by year', fontsize=16)\n",
    "ax[0].set_ylabel('year', fontsize=14)\n",
    "ax[0].set_xlabel('Total number of traps sampled',fontsize=14)\n",
    "\n",
    "sns.lineplot(data = df_train_new, x='month', y='wnvpresent', hue='year', ci = None, \n",
    "             palette = 'coolwarm', ax = ax[1])\n",
    "ax[1].legend(fontsize = 13)\n",
    "ax[1].set_title('monthly WNV occurrences by year', fontsize=16)\n",
    "ax[1].set_xlabel('Month',fontsize=14)\n",
    "ax[1].set_ylabel('WNV occurrences',fontsize=14)\n",
    "\n",
    "plt.tight_layout()"
   ]
  },
  {
   "cell_type": "code",
   "execution_count": 68,
   "id": "e7d575bf",
   "metadata": {
    "scrolled": false
   },
   "outputs": [
    {
     "name": "stderr",
     "output_type": "stream",
     "text": [
      "C:\\Users\\henri\\anaconda3\\lib\\site-packages\\seaborn\\_decorators.py:36: FutureWarning: Pass the following variable as a keyword arg: x. From version 0.12, the only valid positional argument will be `data`, and passing other arguments without an explicit keyword will result in an error or misinterpretation.\n",
      "  warnings.warn(\n"
     ]
    },
    {
     "data": {
      "image/png": "[encoded data removed]",
      "text/plain": [
       "<Figure size 576x432 with 1 Axes>"
      ]
     },
     "metadata": {
      "needs_background": "light"
     },
     "output_type": "display_data"
    }
   ],
   "source": [
    "plt.figure(figsize=(8,6))\n",
    "sns.countplot(df_train_new[df_train_new['wnvpresent']==1]['species'])\n",
    "plt.title('Count of mosquito species carrying the virus', fontsize=16, y=1.01)\n",
    "plt.tick_params(labelsize=12)\n",
    "plt.xlabel('species', fontsize=14)\n",
    "plt.ylabel('count', fontsize=14)\n",
    "plt.show()"
   ]
  },
  {
   "cell_type": "code",
   "execution_count": 69,
   "id": "bb9aa7b1",
   "metadata": {},
   "outputs": [
    {
     "data": {
      "image/png": "[encoded data removed]",
      "text/plain": [
       "<Figure size 642.25x576 with 1 Axes>"
      ]
     },
     "metadata": {
      "needs_background": "light"
     },
     "output_type": "display_data"
    }
   ],
   "source": [
    "sns.lmplot( x='tmin', y='tmax', data=merged_df, fit_reg=False, hue='wnvpresent', height=8)\n",
    "plt.title('More Mosquitos with West Nile Virus are detected during days with hotter temperatures')\n",
    "plt.xlabel('Minimum Temperature')\n",
    "plt.ylabel('Maximum Temperature');"
   ]
  },
  {
   "cell_type": "code",
   "execution_count": null,
   "id": "841bbec0",
   "metadata": {},
   "outputs": [],
   "source": []
  },
  {
   "cell_type": "code",
   "execution_count": 8,
   "id": "09c7df95",
   "metadata": {},
   "outputs": [
    {
     "data": {
      "text/plain": [
       "Index(['station', 'date', 'tmax', 'tmin', 'tavg', 'depart', 'dewpoint',\n",
       "       'wetbulb', 'heat', 'cool', 'sunrise', 'sunset', 'codesum', 'depth',\n",
       "       'water1', 'snowfall', 'preciptotal', 'stnpressure', 'sealevel',\n",
       "       'resultspeed', 'resultdir', 'avgspeed'],\n",
       "      dtype='object')"
      ]
     },
     "execution_count": 8,
     "metadata": {},
     "output_type": "execute_result"
    }
   ],
   "source": [
    "df_weather.columns = df_weather.columns.map(lambda col: col.lower().replace(' ','_'))\n",
    "df_weather.columns"
   ]
  },
  {
   "cell_type": "code",
   "execution_count": 9,
   "id": "08a39297",
   "metadata": {},
   "outputs": [],
   "source": [
    "# Add Year, Month, Week and Day of Week features\n",
    "df_train_test['date'] = pd.to_datetime(df_train_test['date'])\n",
    "df_train_test['year'] = df_train_test['date'].apply(lambda x: x.year)\n",
    "df_train_test['month'] = df_train_test['date'].apply(lambda x: x.month)\n",
    "df_train_test['week'] = df_train_test['date'].apply(lambda x: x.week)\n",
    "df_train_test['dayofweek'] = df_train_test['date'].apply(lambda x: x.dayofweek)"
   ]
  },
  {
   "cell_type": "code",
   "execution_count": 10,
   "id": "6e3855c0",
   "metadata": {},
   "outputs": [],
   "source": [
    "# Add Year, Month, Week and Day of Week features\n",
    "df_weather['date'] = pd.to_datetime(df_weather['date'])\n",
    "df_weather['year'] = df_weather['date'].apply(lambda x: x.year)\n",
    "df_weather['month'] = df_weather['date'].apply(lambda x: x.month)\n",
    "df_weather['week'] = df_weather['date'].apply(lambda x: x.week)\n",
    "df_weather['dayofweek'] = df_weather['date'].apply(lambda x: x.dayofweek)"
   ]
  },
  {
   "cell_type": "code",
   "execution_count": 12,
   "id": "844d2394",
   "metadata": {},
   "outputs": [],
   "source": [
    "df_train_test.drop(['id','addressaccuracy','address','street','addressnumberandstreet'],axis=1,inplace=True)"
   ]
  },
  {
   "cell_type": "code",
   "execution_count": 13,
   "id": "a2aa3b06",
   "metadata": {
    "scrolled": false
   },
   "outputs": [
    {
     "data": {
      "text/plain": [
       "water1         2944\n",
       "depart         1472\n",
       "depth          1472\n",
       "snowfall       1472\n",
       "tavg             11\n",
       "heat             11\n",
       "cool             11\n",
       "sealevel          9\n",
       "wetbulb           4\n",
       "stnpressure       4\n",
       "avgspeed          3\n",
       "preciptotal       2\n",
       "dtype: int64"
      ]
     },
     "execution_count": 13,
     "metadata": {},
     "output_type": "execute_result"
    }
   ],
   "source": [
    "df_weather.isin(['M']).sum()[df_weather.isin(['M']).sum() > 0].sort_values(ascending=False)"
   ]
  },
  {
   "cell_type": "code",
   "execution_count": 14,
   "id": "d056e4c9",
   "metadata": {},
   "outputs": [
    {
     "name": "stdout",
     "output_type": "stream",
     "text": [
      "11\n"
     ]
    }
   ],
   "source": [
    "# replace trace and missing precip with 0s\n",
    "df_weather.preciptotal.replace(['  T','M'],0,inplace=True)\n",
    "df_weather.preciptotal = df_weather.preciptotal.astype(float)\n",
    "\n",
    "# check number of rows with missing avg temp\n",
    "print(df_weather.tavg.value_counts()['M'])\n",
    "\n",
    "# imputing Tavg manually (increases accuracy)\n",
    "df_weather.tavg = (df_weather.tmax + df_weather.tmin)/2\n",
    "df_weather.tavg = df_weather.tavg.astype(float)"
   ]
  },
  {
   "cell_type": "code",
   "execution_count": 15,
   "id": "3a384c37",
   "metadata": {},
   "outputs": [],
   "source": [
    "df_weather.drop(['water1','depart','depth','snowfall','avgspeed','resultspeed','resultdir','sealevel','stnpressure','codesum','heat','cool'],axis=1,inplace=True)"
   ]
  },
  {
   "cell_type": "code",
   "execution_count": 16,
   "id": "192be83d",
   "metadata": {},
   "outputs": [],
   "source": [
    "merged_df = pd.merge(df_weather, df_train_test, on=['date', 'year', 'week', 'month', 'dayofweek'])"
   ]
  },
  {
   "cell_type": "code",
   "execution_count": 17,
   "id": "e192c84f",
   "metadata": {},
   "outputs": [],
   "source": [
    "merged_df['nummosquitos'] = merged_df['nummosquitos'].fillna(0)"
   ]
  },
  {
   "cell_type": "code",
   "execution_count": 18,
   "id": "013b4fee",
   "metadata": {},
   "outputs": [],
   "source": [
    "merged_df['wnvpresent'] = merged_df['wnvpresent'].fillna(0)"
   ]
  },
  {
   "cell_type": "code",
   "execution_count": 19,
   "id": "eb40ad79",
   "metadata": {},
   "outputs": [],
   "source": [
    "merged_df['species'] = merged_df['species'].map({'CULEX PIPIENS/RESTUANS': 2, 'CULEX PIPIENS': 2, 'CULEX RESTUANS': 1}) \\\n",
    "                                   .fillna(0)"
   ]
  },
  {
   "cell_type": "code",
   "execution_count": 20,
   "id": "0d338644",
   "metadata": {},
   "outputs": [],
   "source": [
    "merged_df = pd.get_dummies(merged_df, columns=['trap'])"
   ]
  },
  {
   "cell_type": "code",
   "execution_count": 21,
   "id": "2d7c11a6",
   "metadata": {},
   "outputs": [
    {
     "data": {
      "text/plain": [
       "sunrise    126799\n",
       "sunset     126799\n",
       "dtype: int64"
      ]
     },
     "execution_count": 21,
     "metadata": {},
     "output_type": "execute_result"
    }
   ],
   "source": [
    "merged_df.isin(['-']).sum()[merged_df.isin(['-']).sum() > 0].sort_values(ascending=False)"
   ]
  },
  {
   "cell_type": "code",
   "execution_count": 26,
   "id": "16c875ac",
   "metadata": {},
   "outputs": [],
   "source": [
    "merged_df['sunrise'] = np.where(merged_df['sunrise'].isin(['-']),0,merged_df['sunrise'])"
   ]
  },
  {
   "cell_type": "code",
   "execution_count": 27,
   "id": "2273b505",
   "metadata": {},
   "outputs": [],
   "source": [
    "merged_df['sunset'] = np.where(merged_df['sunset'].isin(['-']),0,merged_df['sunset'])"
   ]
  },
  {
   "cell_type": "code",
   "execution_count": 41,
   "id": "45fed9b6",
   "metadata": {},
   "outputs": [],
   "source": [
    "merged_df['wetbulb'] = np.where(merged_df['sunset'].isin(['-']),0,merged_df['sunset'])"
   ]
  },
  {
   "cell_type": "code",
   "execution_count": 42,
   "id": "c0380e0f",
   "metadata": {},
   "outputs": [],
   "source": [
    "df_train_new = merged_df.iloc[:len(df_train) :]"
   ]
  },
  {
   "cell_type": "code",
   "execution_count": 43,
   "id": "84cacbc7",
   "metadata": {},
   "outputs": [],
   "source": [
    "df_weather_new = merged_df.iloc[:len(df_weather) :]"
   ]
  },
  {
   "cell_type": "code",
   "execution_count": 44,
   "id": "82fd2c6a",
   "metadata": {},
   "outputs": [],
   "source": [
    "df_merged_new = pd.concat([df_train_new, df_weather_new], axis=0)"
   ]
  },
  {
   "cell_type": "code",
   "execution_count": 53,
   "id": "90ddd57c",
   "metadata": {},
   "outputs": [],
   "source": [
    "X = df_merged_new.drop(['date','wnvpresent'], axis=1)\n",
    "y = df_merged_new['wnvpresent']"
   ]
  },
  {
   "cell_type": "code",
   "execution_count": 54,
   "id": "2623138f",
   "metadata": {},
   "outputs": [],
   "source": [
    "X_train, X_test, y_train, y_test = train_test_split(X, y, test_size=0.3, stratify=y, random_state=42)"
   ]
  },
  {
   "cell_type": "code",
   "execution_count": 55,
   "id": "53198cb4",
   "metadata": {},
   "outputs": [
    {
     "data": {
      "text/plain": [
       "0.0    0.960892\n",
       "1.0    0.039108\n",
       "Name: wnvpresent, dtype: float64"
      ]
     },
     "execution_count": 55,
     "metadata": {},
     "output_type": "execute_result"
    }
   ],
   "source": [
    "# Baseline\n",
    "y = df_merged_new['wnvpresent']\n",
    "y.value_counts(normalize=True)"
   ]
  },
  {
   "cell_type": "code",
   "execution_count": 56,
   "id": "cbfe2110",
   "metadata": {},
   "outputs": [
    {
     "data": {
      "text/plain": [
       "Index(['station', 'tmax', 'tmin', 'tavg', 'dewpoint', 'wetbulb', 'sunrise',\n",
       "       'sunset', 'preciptotal', 'year',\n",
       "       ...\n",
       "       'trap_T231', 'trap_T232', 'trap_T233', 'trap_T234', 'trap_T235',\n",
       "       'trap_T236', 'trap_T237', 'trap_T238', 'trap_T900', 'trap_T903'],\n",
       "      dtype='object', length=167)"
      ]
     },
     "execution_count": 56,
     "metadata": {},
     "output_type": "execute_result"
    }
   ],
   "source": [
    "X_train.columns"
   ]
  },
  {
   "cell_type": "code",
   "execution_count": 57,
   "id": "0199612b",
   "metadata": {},
   "outputs": [],
   "source": [
    "# Instiantiate models\n",
    "models = {'lr': LogisticRegression(max_iter=5_000, random_state=42, solver='saga'),\n",
    "          'rf': RandomForestClassifier(random_state=42),\n",
    "          'gb': GradientBoostingClassifier(random_state=42),\n",
    "          'dt': DecisionTreeClassifier(random_state=42),\n",
    "          'et': ExtraTreesClassifier(random_state=42),\n",
    "          'ada': AdaBoostClassifier(random_state=42),\n",
    "          'svc': SVC(random_state=42, probability=True),\n",
    "        }"
   ]
  },
  {
   "cell_type": "code",
   "execution_count": 58,
   "id": "07a7c4e2",
   "metadata": {},
   "outputs": [],
   "source": [
    "# Instantiate lists to store results\n",
    "init_list = []\n",
    "gs_list = []\n",
    "\n",
    "# Function to run model -- input scaler and model\n",
    "def run_model(mod, mod_params={}, grid_search=False):\n",
    "    \n",
    "    # Initial dictionary to hold model results\n",
    "    results = {}\n",
    "    \n",
    "    pipe = Pipeline([\n",
    "            ('ss', StandardScaler()),\n",
    "            (mod, models[mod])\n",
    "            ])\n",
    "    \n",
    "    if grid_search:\n",
    "        # Instantiate list to store gridsearch results\n",
    "        gs = GridSearchCV(pipe, param_grid=mod_params, cv=3, verbose=1, scoring='roc_auc', n_jobs=-1)\n",
    "        gs.fit(X_train, y_train)\n",
    "        pipe = gs\n",
    "        \n",
    "    else:\n",
    "        pipe.fit(X_train, y_train)\n",
    "    \n",
    "    # Retrieve metrics\n",
    "    predictions = pipe.predict(X_test)\n",
    "    tn, fp, fn, tp = confusion_matrix(y_test, predictions).ravel()\n",
    "    y_test_pred_prob = pipe.predict_proba(X_test)[:,1]\n",
    "    y_train_pred_prob = pipe.predict_proba(X_train)[:,1]\n",
    "    \n",
    "    results['model'] = mod\n",
    "    results['train_auc'] = roc_auc_score(y_train, y_train_pred_prob)\n",
    "    results['test_auc'] = roc_auc_score(y_test, y_test_pred_prob)\n",
    "    results['precision'] = precision_score(y_test, predictions)\n",
    "    results['specificity'] = tn / (tn + fp)\n",
    "    results['recall'] = recall_score(y_test, predictions)\n",
    "    results['f_score'] = f1_score(y_test, predictions)\n",
    "    \n",
    "    if grid_search:\n",
    "        gs_list.append(results)\n",
    "        print('### BEST PARAMS ###')\n",
    "        display(pipe.best_params_)\n",
    "        \n",
    "    else:\n",
    "        init_list.append(results)\n",
    "    \n",
    "    print('### METRICS ###')\n",
    "    display(results)\n",
    "    \n",
    "    print(f\"True Negatives: {tn}\")\n",
    "    print(f\"False Positives: {fp}\")\n",
    "    print(f\"False Negatives: {fn}\")\n",
    "    print(f\"True Positives: {tp}\")\n",
    "    \n",
    "    return pipe"
   ]
  },
  {
   "cell_type": "code",
   "execution_count": 59,
   "id": "171ce6a0",
   "metadata": {
    "scrolled": true
   },
   "outputs": [
    {
     "name": "stdout",
     "output_type": "stream",
     "text": [
      "### METRICS ###\n"
     ]
    },
    {
     "data": {
      "text/plain": [
       "{'model': 'lr',\n",
       " 'train_auc': 0.9042309545321293,\n",
       " 'test_auc': 0.8636310209838614,\n",
       " 'precision': 0.5263157894736842,\n",
       " 'specificity': 0.9976786174877482,\n",
       " 'recall': 0.06329113924050633,\n",
       " 'f_score': 0.11299435028248589}"
      ]
     },
     "metadata": {},
     "output_type": "display_data"
    },
    {
     "name": "stdout",
     "output_type": "stream",
     "text": [
      "True Negatives: 3868\n",
      "False Positives: 9\n",
      "False Negatives: 148\n",
      "True Positives: 10\n"
     ]
    }
   ],
   "source": [
    "lr = run_model('lr')"
   ]
  },
  {
   "cell_type": "code",
   "execution_count": 60,
   "id": "ff5ff8df",
   "metadata": {},
   "outputs": [
    {
     "name": "stdout",
     "output_type": "stream",
     "text": [
      "### METRICS ###\n"
     ]
    },
    {
     "data": {
      "text/plain": [
       "{'model': 'rf',\n",
       " 'train_auc': 0.9926766799948098,\n",
       " 'test_auc': 0.9146483807459114,\n",
       " 'precision': 0.4857142857142857,\n",
       " 'specificity': 0.990714469950993,\n",
       " 'recall': 0.21518987341772153,\n",
       " 'f_score': 0.2982456140350877}"
      ]
     },
     "metadata": {},
     "output_type": "display_data"
    },
    {
     "name": "stdout",
     "output_type": "stream",
     "text": [
      "True Negatives: 3841\n",
      "False Positives: 36\n",
      "False Negatives: 124\n",
      "True Positives: 34\n"
     ]
    }
   ],
   "source": [
    "rf = run_model('rf')"
   ]
  },
  {
   "cell_type": "code",
   "execution_count": 61,
   "id": "54fde47f",
   "metadata": {},
   "outputs": [
    {
     "name": "stdout",
     "output_type": "stream",
     "text": [
      "### METRICS ###\n"
     ]
    },
    {
     "data": {
      "text/plain": [
       "{'model': 'gb',\n",
       " 'train_auc': 0.9558571842215291,\n",
       " 'test_auc': 0.9180276084536197,\n",
       " 'precision': 0.5588235294117647,\n",
       " 'specificity': 0.9961310291462471,\n",
       " 'recall': 0.12025316455696203,\n",
       " 'f_score': 0.19791666666666666}"
      ]
     },
     "metadata": {},
     "output_type": "display_data"
    },
    {
     "name": "stdout",
     "output_type": "stream",
     "text": [
      "True Negatives: 3862\n",
      "False Positives: 15\n",
      "False Negatives: 139\n",
      "True Positives: 19\n"
     ]
    }
   ],
   "source": [
    "gb = run_model('gb')"
   ]
  },
  {
   "cell_type": "code",
   "execution_count": 62,
   "id": "4f3293c9",
   "metadata": {},
   "outputs": [
    {
     "name": "stdout",
     "output_type": "stream",
     "text": [
      "### METRICS ###\n"
     ]
    },
    {
     "data": {
      "text/plain": [
       "{'model': 'dt',\n",
       " 'train_auc': 0.9952120508359725,\n",
       " 'test_auc': 0.842008861085989,\n",
       " 'precision': 0.6583333333333333,\n",
       " 'specificity': 0.989424812999742,\n",
       " 'recall': 0.5,\n",
       " 'f_score': 0.5683453237410072}"
      ]
     },
     "metadata": {},
     "output_type": "display_data"
    },
    {
     "name": "stdout",
     "output_type": "stream",
     "text": [
      "True Negatives: 3836\n",
      "False Positives: 41\n",
      "False Negatives: 79\n",
      "True Positives: 79\n"
     ]
    }
   ],
   "source": [
    "dt = run_model('dt')"
   ]
  },
  {
   "cell_type": "code",
   "execution_count": 63,
   "id": "aeffb11a",
   "metadata": {},
   "outputs": [
    {
     "name": "stdout",
     "output_type": "stream",
     "text": [
      "### METRICS ###\n"
     ]
    },
    {
     "data": {
      "text/plain": [
       "{'model': 'et',\n",
       " 'train_auc': 0.9952120508359725,\n",
       " 'test_auc': 0.9000050606791759,\n",
       " 'precision': 0.4523809523809524,\n",
       " 'specificity': 0.9881351560484911,\n",
       " 'recall': 0.24050632911392406,\n",
       " 'f_score': 0.3140495867768595}"
      ]
     },
     "metadata": {},
     "output_type": "display_data"
    },
    {
     "name": "stdout",
     "output_type": "stream",
     "text": [
      "True Negatives: 3831\n",
      "False Positives: 46\n",
      "False Negatives: 120\n",
      "True Positives: 38\n"
     ]
    }
   ],
   "source": [
    "et = run_model('et')"
   ]
  },
  {
   "cell_type": "code",
   "execution_count": 64,
   "id": "d20e7eb4",
   "metadata": {},
   "outputs": [
    {
     "name": "stdout",
     "output_type": "stream",
     "text": [
      "### METRICS ###\n"
     ]
    },
    {
     "data": {
      "text/plain": [
       "{'model': 'ada',\n",
       " 'train_auc': 0.9193339973375751,\n",
       " 'test_auc': 0.8896559717646753,\n",
       " 'precision': 0.3,\n",
       " 'specificity': 0.9945834408047459,\n",
       " 'recall': 0.056962025316455694,\n",
       " 'f_score': 0.09574468085106382}"
      ]
     },
     "metadata": {},
     "output_type": "display_data"
    },
    {
     "name": "stdout",
     "output_type": "stream",
     "text": [
      "True Negatives: 3856\n",
      "False Positives: 21\n",
      "False Negatives: 149\n",
      "True Positives: 9\n"
     ]
    }
   ],
   "source": [
    "ada = run_model('ada')"
   ]
  },
  {
   "cell_type": "code",
   "execution_count": 65,
   "id": "72005b47",
   "metadata": {},
   "outputs": [
    {
     "name": "stdout",
     "output_type": "stream",
     "text": [
      "### METRICS ###\n"
     ]
    },
    {
     "name": "stderr",
     "output_type": "stream",
     "text": [
      "C:\\Users\\henri\\anaconda3\\lib\\site-packages\\sklearn\\metrics\\_classification.py:1245: UndefinedMetricWarning: Precision is ill-defined and being set to 0.0 due to no predicted samples. Use `zero_division` parameter to control this behavior.\n",
      "  _warn_prf(average, modifier, msg_start, len(result))\n"
     ]
    },
    {
     "data": {
      "text/plain": [
       "{'model': 'svc',\n",
       " 'train_auc': 0.955226420240195,\n",
       " 'test_auc': 0.8753938351132775,\n",
       " 'precision': 0.0,\n",
       " 'specificity': 1.0,\n",
       " 'recall': 0.0,\n",
       " 'f_score': 0.0}"
      ]
     },
     "metadata": {},
     "output_type": "display_data"
    },
    {
     "name": "stdout",
     "output_type": "stream",
     "text": [
      "True Negatives: 3877\n",
      "False Positives: 0\n",
      "False Negatives: 158\n",
      "True Positives: 0\n"
     ]
    }
   ],
   "source": [
    "svc = run_model('svc')"
   ]
  }
 ],
 "metadata": {
  "kernelspec": {
   "display_name": "Python 3",
   "language": "python",
   "name": "python3"
  },
  "language_info": {
   "codemirror_mode": {
    "name": "ipython",
    "version": 3
   },
   "file_extension": ".py",
   "mimetype": "text/x-python",
   "name": "python",
   "nbconvert_exporter": "python",
   "pygments_lexer": "ipython3",
   "version": "3.8.8"
  }
 },
 "nbformat": 4,
 "nbformat_minor": 5
}
