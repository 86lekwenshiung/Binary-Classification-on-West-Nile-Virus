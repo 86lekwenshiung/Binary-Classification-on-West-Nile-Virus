{
  "nbformat": 4,
  "nbformat_minor": 0,
  "metadata": {
    "colab": {
      "name": "Project 4 : West Nile Virus Terence.ipynb",
      "provenance": [],
      "collapsed_sections": [],
      "include_colab_link": true
    },
    "kernelspec": {
      "name": "python3",
      "display_name": "Python 3"
    },
    "language_info": {
      "name": "python"
    }
  },
  "cells": [
    {
      "cell_type": "markdown",
      "metadata": {
        "id": "view-in-github",
        "colab_type": "text"
      },
      "source": [
        "<a href=\"https://colab.research.google.com/github/86lekwenshiung/West-Nile-Virus-Prediction/blob/main/Project_4_West_Nile_Virus_Terence.ipynb\" target=\"_parent\"><img src=\"https://colab.research.google.com/assets/colab-badge.svg\" alt=\"Open In Colab\"/></a>"
      ]
    },
    {
      "cell_type": "markdown",
      "metadata": {
        "id": "93hy_Hb-CqdW"
      },
      "source": [
        "# 0.0 Libraries Import\n",
        "___"
      ]
    },
    {
      "cell_type": "code",
      "metadata": {
        "id": "Sm0J3__y3ZV8"
      },
      "source": [
        "# General Utilities\n",
        "import datetime\n",
        "from datetime import date\n",
        "\n",
        "import pandas as pd\n",
        "import numpy as np\n",
        "import matplotlib.pyplot as plt\n",
        "import seaborn as sns\n",
        "\n",
        "from geopy.distance import geodesic\n",
        "import shapely\n",
        "from shapely.geometry import Point , MultiPoint\n",
        "from shapely.ops import nearest_points\n",
        "\n",
        "from sklearn.model_selection import train_test_split , GridSearchCV\n",
        "from sklearn.metrics import f1_score , recall_score , accuracy_score , precision_score , roc_auc_score , confusion_matrix\n",
        "from sklearn.ensemble import RandomForestClassifier , GradientBoostingClassifier , AdaBoostClassifier\n",
        "from xgboost import XGBClassifier\n",
        "from sklearn.linear_model import LogisticRegression\n",
        "from sklearn.pipeline import Pipeline\n",
        "from sklearn.preprocessing import StandardScaler\n",
        "\n",
        "# Machine Learning Libraries"
      ],
      "execution_count": 1,
      "outputs": []
    },
    {
      "cell_type": "markdown",
      "metadata": {
        "id": "XwV_TCE9-aty"
      },
      "source": [
        "# 1.0 Data Import\n",
        "___"
      ]
    },
    {
      "cell_type": "code",
      "metadata": {
        "colab": {
          "base_uri": "https://localhost:8080/"
        },
        "id": "9J_MvyoNBsnO",
        "outputId": "8795ef61-2a63-431a-88cb-8227b51fbf3c"
      },
      "source": [
        "!wget https://raw.githubusercontent.com/86lekwenshiung/West-Nile-Virus-Prediction/main/dataset/train.csv\n",
        "!wget https://raw.githubusercontent.com/86lekwenshiung/West-Nile-Virus-Prediction/main/dataset/weather.csv\n",
        "!wget https://raw.githubusercontent.com/86lekwenshiung/West-Nile-Virus-Prediction/main/dataset/test.csv\n",
        "!wget https://raw.githubusercontent.com/86lekwenshiung/West-Nile-Virus-Prediction/main/dataset/spray.csv"
      ],
      "execution_count": 2,
      "outputs": [
        {
          "output_type": "stream",
          "name": "stdout",
          "text": [
            "--2021-11-02 14:08:21--  https://raw.githubusercontent.com/86lekwenshiung/West-Nile-Virus-Prediction/main/dataset/train.csv\n",
            "Resolving raw.githubusercontent.com (raw.githubusercontent.com)... 185.199.108.133, 185.199.109.133, 185.199.110.133, ...\n",
            "Connecting to raw.githubusercontent.com (raw.githubusercontent.com)|185.199.108.133|:443... connected.\n",
            "HTTP request sent, awaiting response... 200 OK\n",
            "Length: 1797335 (1.7M) [text/plain]\n",
            "Saving to: ‘train.csv.9’\n",
            "\n",
            "\rtrain.csv.9           0%[                    ]       0  --.-KB/s               \rtrain.csv.9         100%[===================>]   1.71M  --.-KB/s    in 0.04s   \n",
            "\n",
            "2021-11-02 14:08:21 (42.3 MB/s) - ‘train.csv.9’ saved [1797335/1797335]\n",
            "\n",
            "--2021-11-02 14:08:22--  https://raw.githubusercontent.com/86lekwenshiung/West-Nile-Virus-Prediction/main/dataset/weather.csv\n",
            "Resolving raw.githubusercontent.com (raw.githubusercontent.com)... 185.199.111.133, 185.199.109.133, 185.199.108.133, ...\n",
            "Connecting to raw.githubusercontent.com (raw.githubusercontent.com)|185.199.111.133|:443... connected.\n",
            "HTTP request sent, awaiting response... 200 OK\n",
            "Length: 358139 (350K) [text/plain]\n",
            "Saving to: ‘weather.csv.9’\n",
            "\n",
            "weather.csv.9       100%[===================>] 349.75K  --.-KB/s    in 0.02s   \n",
            "\n",
            "2021-11-02 14:08:22 (16.1 MB/s) - ‘weather.csv.9’ saved [358139/358139]\n",
            "\n",
            "--2021-11-02 14:08:22--  https://raw.githubusercontent.com/86lekwenshiung/West-Nile-Virus-Prediction/main/dataset/test.csv\n",
            "Resolving raw.githubusercontent.com (raw.githubusercontent.com)... 185.199.108.133, 185.199.109.133, 185.199.110.133, ...\n",
            "Connecting to raw.githubusercontent.com (raw.githubusercontent.com)|185.199.108.133|:443... connected.\n",
            "HTTP request sent, awaiting response... 200 OK\n",
            "Length: 20033097 (19M) [text/plain]\n",
            "Saving to: ‘test.csv.9’\n",
            "\n",
            "test.csv.9          100%[===================>]  19.10M  --.-KB/s    in 0.1s    \n",
            "\n",
            "2021-11-02 14:08:22 (159 MB/s) - ‘test.csv.9’ saved [20033097/20033097]\n",
            "\n",
            "--2021-11-02 14:08:22--  https://raw.githubusercontent.com/86lekwenshiung/West-Nile-Virus-Prediction/main/dataset/spray.csv\n",
            "Resolving raw.githubusercontent.com (raw.githubusercontent.com)... 185.199.108.133, 185.199.109.133, 185.199.110.133, ...\n",
            "Connecting to raw.githubusercontent.com (raw.githubusercontent.com)|185.199.108.133|:443... connected.\n",
            "HTTP request sent, awaiting response... 200 OK\n",
            "Length: 796163 (778K) [text/plain]\n",
            "Saving to: ‘spray.csv.9’\n",
            "\n",
            "spray.csv.9         100%[===================>] 777.50K  --.-KB/s    in 0.03s   \n",
            "\n",
            "2021-11-02 14:08:22 (23.8 MB/s) - ‘spray.csv.9’ saved [796163/796163]\n",
            "\n"
          ]
        }
      ]
    },
    {
      "cell_type": "markdown",
      "metadata": {
        "id": "7mu32D3S-uIQ"
      },
      "source": [
        "### 1.1 Data Exploration on Train Dataset\n",
        "___"
      ]
    },
    {
      "cell_type": "code",
      "metadata": {
        "id": "bV0EIVbnBucn"
      },
      "source": [
        "df_train = pd.read_csv('/content/train.csv')\n",
        "df_test = pd.read_csv('/content/test.csv')\n",
        "df_spray = pd.read_csv('/content/spray.csv')\n",
        "df_weather = pd.read_csv('/content/weather.csv')"
      ],
      "execution_count": 3,
      "outputs": []
    },
    {
      "cell_type": "markdown",
      "metadata": {
        "id": "fcsWrIAIHD85"
      },
      "source": [
        "#3.0 Feature Creation & Data Preprocessing\n",
        "___"
      ]
    },
    {
      "cell_type": "markdown",
      "metadata": {
        "id": "OkpNLZCR7AYk"
      },
      "source": [
        "### 3.1 Date Features\n",
        "___"
      ]
    },
    {
      "cell_type": "code",
      "metadata": {
        "id": "5ePgVcdR2rme"
      },
      "source": [
        "def preprocess_date(df):\n",
        "  df['Year'] = pd.to_datetime(df['Date']).dt.year\n",
        "  df['Month'] = pd.to_datetime(df['Date']).dt.month\n",
        "  df['WeekofYear'] = pd.to_datetime(df['Date']).dt.isocalendar().week\n",
        "\n",
        "  return df"
      ],
      "execution_count": 4,
      "outputs": []
    },
    {
      "cell_type": "code",
      "metadata": {
        "id": "8Lsvv_-dHwgA"
      },
      "source": [
        "df_train = preprocess_date(df_train)\n",
        "df_spray = preprocess_date(df_spray)\n",
        "df_weather = preprocess_date(df_weather)"
      ],
      "execution_count": 5,
      "outputs": []
    },
    {
      "cell_type": "code",
      "metadata": {
        "colab": {
          "base_uri": "https://localhost:8080/",
          "height": 202
        },
        "id": "tXA2q8xq5phN",
        "outputId": "9af5dbde-ea0e-4f58-8d5c-94f8247ccf54"
      },
      "source": [
        "df_spray[df_spray.duplicated()].head()"
      ],
      "execution_count": 6,
      "outputs": [
        {
          "output_type": "execute_result",
          "data": {
            "text/html": [
              "<div>\n",
              "<style scoped>\n",
              "    .dataframe tbody tr th:only-of-type {\n",
              "        vertical-align: middle;\n",
              "    }\n",
              "\n",
              "    .dataframe tbody tr th {\n",
              "        vertical-align: top;\n",
              "    }\n",
              "\n",
              "    .dataframe thead th {\n",
              "        text-align: right;\n",
              "    }\n",
              "</style>\n",
              "<table border=\"1\" class=\"dataframe\">\n",
              "  <thead>\n",
              "    <tr style=\"text-align: right;\">\n",
              "      <th></th>\n",
              "      <th>Date</th>\n",
              "      <th>Time</th>\n",
              "      <th>Latitude</th>\n",
              "      <th>Longitude</th>\n",
              "      <th>Year</th>\n",
              "      <th>Month</th>\n",
              "      <th>WeekofYear</th>\n",
              "    </tr>\n",
              "  </thead>\n",
              "  <tbody>\n",
              "    <tr>\n",
              "      <th>485</th>\n",
              "      <td>2011-09-07</td>\n",
              "      <td>7:43:40 PM</td>\n",
              "      <td>41.983917</td>\n",
              "      <td>-87.793088</td>\n",
              "      <td>2011</td>\n",
              "      <td>9</td>\n",
              "      <td>36</td>\n",
              "    </tr>\n",
              "    <tr>\n",
              "      <th>490</th>\n",
              "      <td>2011-09-07</td>\n",
              "      <td>7:44:32 PM</td>\n",
              "      <td>41.986460</td>\n",
              "      <td>-87.794225</td>\n",
              "      <td>2011</td>\n",
              "      <td>9</td>\n",
              "      <td>36</td>\n",
              "    </tr>\n",
              "    <tr>\n",
              "      <th>491</th>\n",
              "      <td>2011-09-07</td>\n",
              "      <td>7:44:32 PM</td>\n",
              "      <td>41.986460</td>\n",
              "      <td>-87.794225</td>\n",
              "      <td>2011</td>\n",
              "      <td>9</td>\n",
              "      <td>36</td>\n",
              "    </tr>\n",
              "    <tr>\n",
              "      <th>492</th>\n",
              "      <td>2011-09-07</td>\n",
              "      <td>7:44:32 PM</td>\n",
              "      <td>41.986460</td>\n",
              "      <td>-87.794225</td>\n",
              "      <td>2011</td>\n",
              "      <td>9</td>\n",
              "      <td>36</td>\n",
              "    </tr>\n",
              "    <tr>\n",
              "      <th>493</th>\n",
              "      <td>2011-09-07</td>\n",
              "      <td>7:44:32 PM</td>\n",
              "      <td>41.986460</td>\n",
              "      <td>-87.794225</td>\n",
              "      <td>2011</td>\n",
              "      <td>9</td>\n",
              "      <td>36</td>\n",
              "    </tr>\n",
              "  </tbody>\n",
              "</table>\n",
              "</div>"
            ],
            "text/plain": [
              "           Date        Time   Latitude  Longitude  Year  Month  WeekofYear\n",
              "485  2011-09-07  7:43:40 PM  41.983917 -87.793088  2011      9          36\n",
              "490  2011-09-07  7:44:32 PM  41.986460 -87.794225  2011      9          36\n",
              "491  2011-09-07  7:44:32 PM  41.986460 -87.794225  2011      9          36\n",
              "492  2011-09-07  7:44:32 PM  41.986460 -87.794225  2011      9          36\n",
              "493  2011-09-07  7:44:32 PM  41.986460 -87.794225  2011      9          36"
            ]
          },
          "metadata": {},
          "execution_count": 6
        }
      ]
    },
    {
      "cell_type": "code",
      "metadata": {
        "id": "3aobI9ie3TaH"
      },
      "source": [
        "# Drop off Time from df_spray\n",
        "# Drop off duplicate from df_spray\n",
        "\n",
        "df_spray.drop('Time' , axis  = 1 , inplace = True)\n",
        "df_spray.drop_duplicates(keep = 'first' , inplace = True)"
      ],
      "execution_count": 7,
      "outputs": []
    },
    {
      "cell_type": "code",
      "metadata": {
        "colab": {
          "base_uri": "https://localhost:8080/",
          "height": 220
        },
        "id": "4-33K39MoqxU",
        "outputId": "ddf5aefa-6582-41ef-b86b-9b236ddfda76"
      },
      "source": [
        "print(df_spray.shape)\n",
        "df_spray.head()"
      ],
      "execution_count": 8,
      "outputs": [
        {
          "output_type": "stream",
          "name": "stdout",
          "text": [
            "(14294, 6)\n"
          ]
        },
        {
          "output_type": "execute_result",
          "data": {
            "text/html": [
              "<div>\n",
              "<style scoped>\n",
              "    .dataframe tbody tr th:only-of-type {\n",
              "        vertical-align: middle;\n",
              "    }\n",
              "\n",
              "    .dataframe tbody tr th {\n",
              "        vertical-align: top;\n",
              "    }\n",
              "\n",
              "    .dataframe thead th {\n",
              "        text-align: right;\n",
              "    }\n",
              "</style>\n",
              "<table border=\"1\" class=\"dataframe\">\n",
              "  <thead>\n",
              "    <tr style=\"text-align: right;\">\n",
              "      <th></th>\n",
              "      <th>Date</th>\n",
              "      <th>Latitude</th>\n",
              "      <th>Longitude</th>\n",
              "      <th>Year</th>\n",
              "      <th>Month</th>\n",
              "      <th>WeekofYear</th>\n",
              "    </tr>\n",
              "  </thead>\n",
              "  <tbody>\n",
              "    <tr>\n",
              "      <th>0</th>\n",
              "      <td>2011-08-29</td>\n",
              "      <td>42.391623</td>\n",
              "      <td>-88.089163</td>\n",
              "      <td>2011</td>\n",
              "      <td>8</td>\n",
              "      <td>35</td>\n",
              "    </tr>\n",
              "    <tr>\n",
              "      <th>1</th>\n",
              "      <td>2011-08-29</td>\n",
              "      <td>42.391348</td>\n",
              "      <td>-88.089163</td>\n",
              "      <td>2011</td>\n",
              "      <td>8</td>\n",
              "      <td>35</td>\n",
              "    </tr>\n",
              "    <tr>\n",
              "      <th>2</th>\n",
              "      <td>2011-08-29</td>\n",
              "      <td>42.391022</td>\n",
              "      <td>-88.089157</td>\n",
              "      <td>2011</td>\n",
              "      <td>8</td>\n",
              "      <td>35</td>\n",
              "    </tr>\n",
              "    <tr>\n",
              "      <th>3</th>\n",
              "      <td>2011-08-29</td>\n",
              "      <td>42.390637</td>\n",
              "      <td>-88.089158</td>\n",
              "      <td>2011</td>\n",
              "      <td>8</td>\n",
              "      <td>35</td>\n",
              "    </tr>\n",
              "    <tr>\n",
              "      <th>4</th>\n",
              "      <td>2011-08-29</td>\n",
              "      <td>42.390410</td>\n",
              "      <td>-88.088858</td>\n",
              "      <td>2011</td>\n",
              "      <td>8</td>\n",
              "      <td>35</td>\n",
              "    </tr>\n",
              "  </tbody>\n",
              "</table>\n",
              "</div>"
            ],
            "text/plain": [
              "         Date   Latitude  Longitude  Year  Month  WeekofYear\n",
              "0  2011-08-29  42.391623 -88.089163  2011      8          35\n",
              "1  2011-08-29  42.391348 -88.089163  2011      8          35\n",
              "2  2011-08-29  42.391022 -88.089157  2011      8          35\n",
              "3  2011-08-29  42.390637 -88.089158  2011      8          35\n",
              "4  2011-08-29  42.390410 -88.088858  2011      8          35"
            ]
          },
          "metadata": {},
          "execution_count": 8
        }
      ]
    },
    {
      "cell_type": "code",
      "metadata": {
        "id": "xAMESu6RGcr4",
        "colab": {
          "base_uri": "https://localhost:8080/",
          "height": 632
        },
        "outputId": "b11d6ed2-5415-493b-8bce-6eb19d1feca6"
      },
      "source": [
        "df_spray['Date'].astype('datetime64').value_counts().sort_index().plot(kind = 'bar' , figsize = (16,9));"
      ],
      "execution_count": 9,
      "outputs": [
        {
          "output_type": "display_data",
          "data": {
            "image/png": "[encoded data removed]",
            "text/plain": [
              "<Figure size 1152x648 with 1 Axes>"
            ]
          },
          "metadata": {
            "needs_background": "light"
          }
        }
      ]
    },
    {
      "cell_type": "markdown",
      "metadata": {
        "id": "GlW1JIn015V1"
      },
      "source": [
        "### 3.2 Spray Cluster\n",
        "___"
      ]
    },
    {
      "cell_type": "code",
      "metadata": {
        "id": "PpkMzbaJ7I87"
      },
      "source": [
        "df_spray['spray coordinate'] = [Point(x,y) for x,y in zip(df_spray['Latitude'] , df_spray['Longitude'])]"
      ],
      "execution_count": 10,
      "outputs": []
    },
    {
      "cell_type": "code",
      "metadata": {
        "id": "TUhR9TjLCLep"
      },
      "source": [
        "# Create trap coordinate \n",
        "df_train['trap coordinate'] = [Point(x,y) for x,y in zip(df_train['Latitude'] , df_train['Longitude'])]\n",
        "\n",
        "# Create Spray coordinate\n",
        "df_spray['spray coordinate'] = [Point(x,y) for x,y in zip(df_spray['Latitude'] , df_spray['Longitude'])]\n",
        "\n",
        "# Convert spray coodinate to multipoint\n",
        "spray_coord = MultiPoint(df_spray['spray coordinate'].to_list())"
      ],
      "execution_count": 11,
      "outputs": []
    },
    {
      "cell_type": "code",
      "metadata": {
        "colab": {
          "base_uri": "https://localhost:8080/"
        },
        "id": "awGjBoJllQtO",
        "outputId": "66d93942-6049-41ec-d96a-1f70d0d52dda"
      },
      "source": [
        "df_train['WnvPresent']"
      ],
      "execution_count": 12,
      "outputs": [
        {
          "output_type": "execute_result",
          "data": {
            "text/plain": [
              "0        0\n",
              "1        0\n",
              "2        0\n",
              "3        0\n",
              "4        0\n",
              "        ..\n",
              "10501    1\n",
              "10502    0\n",
              "10503    0\n",
              "10504    0\n",
              "10505    0\n",
              "Name: WnvPresent, Length: 10506, dtype: int64"
            ]
          },
          "metadata": {},
          "execution_count": 12
        }
      ]
    },
    {
      "cell_type": "code",
      "metadata": {
        "id": "QxztSu0pBFBN"
      },
      "source": [
        "# df_spray.shape , df_train.shape , len(dist)"
      ],
      "execution_count": 13,
      "outputs": []
    },
    {
      "cell_type": "code",
      "metadata": {
        "id": "1zKT7u8eBpud"
      },
      "source": [
        "# df_spray.merge(df_train , on  = [''])"
      ],
      "execution_count": 14,
      "outputs": []
    },
    {
      "cell_type": "code",
      "metadata": {
        "id": "EEpXvpPQTFWr"
      },
      "source": [
        "dist = []\n",
        "\n",
        "for trap_coord in df_train['trap coordinate']:\n",
        "\n",
        "  nearest = nearest_points(trap_coord , spray_coord)\n",
        "\n",
        "  a , b = (trap_coord.x , trap_coord.y) , (nearest[1].x , nearest[1].y)\n",
        "\n",
        "  dist.append(geodesic(a,b).m)\n",
        "\n",
        "# add distance to trap locations\n",
        "df_train['dist_spray'] = dist\n",
        "df_train['sprayed'] = df_train['dist_spray'].apply(lambda x: 0 if x > 1000 else 1)"
      ],
      "execution_count": 15,
      "outputs": []
    },
    {
      "cell_type": "code",
      "metadata": {
        "colab": {
          "base_uri": "https://localhost:8080/"
        },
        "id": "NhToUjFT81I-",
        "outputId": "a5b957fb-441f-49c4-cb63-7b85601f8d9f"
      },
      "source": [
        "df_train['sprayed'].value_counts()"
      ],
      "execution_count": 16,
      "outputs": [
        {
          "output_type": "execute_result",
          "data": {
            "text/plain": [
              "0    7089\n",
              "1    3417\n",
              "Name: sprayed, dtype: int64"
            ]
          },
          "metadata": {},
          "execution_count": 16
        }
      ]
    },
    {
      "cell_type": "code",
      "metadata": {
        "colab": {
          "base_uri": "https://localhost:8080/",
          "height": 414
        },
        "id": "u5I-1mQG8M5l",
        "outputId": "402ea1e6-06fd-4b4b-f776-e3e395f5982b"
      },
      "source": [
        "df_spray"
      ],
      "execution_count": 17,
      "outputs": [
        {
          "output_type": "execute_result",
          "data": {
            "text/html": [
              "<div>\n",
              "<style scoped>\n",
              "    .dataframe tbody tr th:only-of-type {\n",
              "        vertical-align: middle;\n",
              "    }\n",
              "\n",
              "    .dataframe tbody tr th {\n",
              "        vertical-align: top;\n",
              "    }\n",
              "\n",
              "    .dataframe thead th {\n",
              "        text-align: right;\n",
              "    }\n",
              "</style>\n",
              "<table border=\"1\" class=\"dataframe\">\n",
              "  <thead>\n",
              "    <tr style=\"text-align: right;\">\n",
              "      <th></th>\n",
              "      <th>Date</th>\n",
              "      <th>Latitude</th>\n",
              "      <th>Longitude</th>\n",
              "      <th>Year</th>\n",
              "      <th>Month</th>\n",
              "      <th>WeekofYear</th>\n",
              "      <th>spray coordinate</th>\n",
              "    </tr>\n",
              "  </thead>\n",
              "  <tbody>\n",
              "    <tr>\n",
              "      <th>0</th>\n",
              "      <td>2011-08-29</td>\n",
              "      <td>42.391623</td>\n",
              "      <td>-88.089163</td>\n",
              "      <td>2011</td>\n",
              "      <td>8</td>\n",
              "      <td>35</td>\n",
              "      <td>POINT (42.3916233333333 -88.0891633333333)</td>\n",
              "    </tr>\n",
              "    <tr>\n",
              "      <th>1</th>\n",
              "      <td>2011-08-29</td>\n",
              "      <td>42.391348</td>\n",
              "      <td>-88.089163</td>\n",
              "      <td>2011</td>\n",
              "      <td>8</td>\n",
              "      <td>35</td>\n",
              "      <td>POINT (42.3913483333333 -88.0891633333333)</td>\n",
              "    </tr>\n",
              "    <tr>\n",
              "      <th>2</th>\n",
              "      <td>2011-08-29</td>\n",
              "      <td>42.391022</td>\n",
              "      <td>-88.089157</td>\n",
              "      <td>2011</td>\n",
              "      <td>8</td>\n",
              "      <td>35</td>\n",
              "      <td>POINT (42.3910216666667 -88.0891566666667)</td>\n",
              "    </tr>\n",
              "    <tr>\n",
              "      <th>3</th>\n",
              "      <td>2011-08-29</td>\n",
              "      <td>42.390637</td>\n",
              "      <td>-88.089158</td>\n",
              "      <td>2011</td>\n",
              "      <td>8</td>\n",
              "      <td>35</td>\n",
              "      <td>POINT (42.3906366666667 -88.0891583333333)</td>\n",
              "    </tr>\n",
              "    <tr>\n",
              "      <th>4</th>\n",
              "      <td>2011-08-29</td>\n",
              "      <td>42.390410</td>\n",
              "      <td>-88.088858</td>\n",
              "      <td>2011</td>\n",
              "      <td>8</td>\n",
              "      <td>35</td>\n",
              "      <td>POINT (42.39041 -88.08885833333331)</td>\n",
              "    </tr>\n",
              "    <tr>\n",
              "      <th>...</th>\n",
              "      <td>...</td>\n",
              "      <td>...</td>\n",
              "      <td>...</td>\n",
              "      <td>...</td>\n",
              "      <td>...</td>\n",
              "      <td>...</td>\n",
              "      <td>...</td>\n",
              "    </tr>\n",
              "    <tr>\n",
              "      <th>14830</th>\n",
              "      <td>2013-09-05</td>\n",
              "      <td>42.006587</td>\n",
              "      <td>-87.812355</td>\n",
              "      <td>2013</td>\n",
              "      <td>9</td>\n",
              "      <td>36</td>\n",
              "      <td>POINT (42.00658666666671 -87.81235500000001)</td>\n",
              "    </tr>\n",
              "    <tr>\n",
              "      <th>14831</th>\n",
              "      <td>2013-09-05</td>\n",
              "      <td>42.006192</td>\n",
              "      <td>-87.816015</td>\n",
              "      <td>2013</td>\n",
              "      <td>9</td>\n",
              "      <td>36</td>\n",
              "      <td>POINT (42.0061916666667 -87.81601500000001)</td>\n",
              "    </tr>\n",
              "    <tr>\n",
              "      <th>14832</th>\n",
              "      <td>2013-09-05</td>\n",
              "      <td>42.006022</td>\n",
              "      <td>-87.817392</td>\n",
              "      <td>2013</td>\n",
              "      <td>9</td>\n",
              "      <td>36</td>\n",
              "      <td>POINT (42.0060216666667 -87.81739166666669)</td>\n",
              "    </tr>\n",
              "    <tr>\n",
              "      <th>14833</th>\n",
              "      <td>2013-09-05</td>\n",
              "      <td>42.005453</td>\n",
              "      <td>-87.817423</td>\n",
              "      <td>2013</td>\n",
              "      <td>9</td>\n",
              "      <td>36</td>\n",
              "      <td>POINT (42.0054533333333 -87.81742333333329)</td>\n",
              "    </tr>\n",
              "    <tr>\n",
              "      <th>14834</th>\n",
              "      <td>2013-09-05</td>\n",
              "      <td>42.004805</td>\n",
              "      <td>-87.817460</td>\n",
              "      <td>2013</td>\n",
              "      <td>9</td>\n",
              "      <td>36</td>\n",
              "      <td>POINT (42.004805 -87.81746)</td>\n",
              "    </tr>\n",
              "  </tbody>\n",
              "</table>\n",
              "<p>14294 rows × 7 columns</p>\n",
              "</div>"
            ],
            "text/plain": [
              "             Date  ...                              spray coordinate\n",
              "0      2011-08-29  ...    POINT (42.3916233333333 -88.0891633333333)\n",
              "1      2011-08-29  ...    POINT (42.3913483333333 -88.0891633333333)\n",
              "2      2011-08-29  ...    POINT (42.3910216666667 -88.0891566666667)\n",
              "3      2011-08-29  ...    POINT (42.3906366666667 -88.0891583333333)\n",
              "4      2011-08-29  ...           POINT (42.39041 -88.08885833333331)\n",
              "...           ...  ...                                           ...\n",
              "14830  2013-09-05  ...  POINT (42.00658666666671 -87.81235500000001)\n",
              "14831  2013-09-05  ...   POINT (42.0061916666667 -87.81601500000001)\n",
              "14832  2013-09-05  ...   POINT (42.0060216666667 -87.81739166666669)\n",
              "14833  2013-09-05  ...   POINT (42.0054533333333 -87.81742333333329)\n",
              "14834  2013-09-05  ...                   POINT (42.004805 -87.81746)\n",
              "\n",
              "[14294 rows x 7 columns]"
            ]
          },
          "metadata": {},
          "execution_count": 17
        }
      ]
    },
    {
      "cell_type": "markdown",
      "metadata": {
        "id": "t2pG9ddGTECe"
      },
      "source": [
        "### 3.3 Weather DF\n",
        "___"
      ]
    },
    {
      "cell_type": "code",
      "metadata": {
        "colab": {
          "base_uri": "https://localhost:8080/",
          "height": 581
        },
        "id": "Na9CUxLl-I4-",
        "outputId": "59401d84-7b68-4f95-d496-64c6cd5b2a21"
      },
      "source": [
        "df_weather"
      ],
      "execution_count": 18,
      "outputs": [
        {
          "output_type": "execute_result",
          "data": {
            "text/html": [
              "<div>\n",
              "<style scoped>\n",
              "    .dataframe tbody tr th:only-of-type {\n",
              "        vertical-align: middle;\n",
              "    }\n",
              "\n",
              "    .dataframe tbody tr th {\n",
              "        vertical-align: top;\n",
              "    }\n",
              "\n",
              "    .dataframe thead th {\n",
              "        text-align: right;\n",
              "    }\n",
              "</style>\n",
              "<table border=\"1\" class=\"dataframe\">\n",
              "  <thead>\n",
              "    <tr style=\"text-align: right;\">\n",
              "      <th></th>\n",
              "      <th>Station</th>\n",
              "      <th>Date</th>\n",
              "      <th>Tmax</th>\n",
              "      <th>Tmin</th>\n",
              "      <th>Tavg</th>\n",
              "      <th>Depart</th>\n",
              "      <th>DewPoint</th>\n",
              "      <th>WetBulb</th>\n",
              "      <th>Heat</th>\n",
              "      <th>Cool</th>\n",
              "      <th>Sunrise</th>\n",
              "      <th>Sunset</th>\n",
              "      <th>CodeSum</th>\n",
              "      <th>Depth</th>\n",
              "      <th>Water1</th>\n",
              "      <th>SnowFall</th>\n",
              "      <th>PrecipTotal</th>\n",
              "      <th>StnPressure</th>\n",
              "      <th>SeaLevel</th>\n",
              "      <th>ResultSpeed</th>\n",
              "      <th>ResultDir</th>\n",
              "      <th>AvgSpeed</th>\n",
              "      <th>Year</th>\n",
              "      <th>Month</th>\n",
              "      <th>WeekofYear</th>\n",
              "    </tr>\n",
              "  </thead>\n",
              "  <tbody>\n",
              "    <tr>\n",
              "      <th>0</th>\n",
              "      <td>1</td>\n",
              "      <td>2007-05-01</td>\n",
              "      <td>83</td>\n",
              "      <td>50</td>\n",
              "      <td>67</td>\n",
              "      <td>14</td>\n",
              "      <td>51</td>\n",
              "      <td>56</td>\n",
              "      <td>0</td>\n",
              "      <td>2</td>\n",
              "      <td>0448</td>\n",
              "      <td>1849</td>\n",
              "      <td></td>\n",
              "      <td>0</td>\n",
              "      <td>M</td>\n",
              "      <td>0.0</td>\n",
              "      <td>0.00</td>\n",
              "      <td>29.10</td>\n",
              "      <td>29.82</td>\n",
              "      <td>1.7</td>\n",
              "      <td>27</td>\n",
              "      <td>9.2</td>\n",
              "      <td>2007</td>\n",
              "      <td>5</td>\n",
              "      <td>18</td>\n",
              "    </tr>\n",
              "    <tr>\n",
              "      <th>1</th>\n",
              "      <td>2</td>\n",
              "      <td>2007-05-01</td>\n",
              "      <td>84</td>\n",
              "      <td>52</td>\n",
              "      <td>68</td>\n",
              "      <td>M</td>\n",
              "      <td>51</td>\n",
              "      <td>57</td>\n",
              "      <td>0</td>\n",
              "      <td>3</td>\n",
              "      <td>-</td>\n",
              "      <td>-</td>\n",
              "      <td></td>\n",
              "      <td>M</td>\n",
              "      <td>M</td>\n",
              "      <td>M</td>\n",
              "      <td>0.00</td>\n",
              "      <td>29.18</td>\n",
              "      <td>29.82</td>\n",
              "      <td>2.7</td>\n",
              "      <td>25</td>\n",
              "      <td>9.6</td>\n",
              "      <td>2007</td>\n",
              "      <td>5</td>\n",
              "      <td>18</td>\n",
              "    </tr>\n",
              "    <tr>\n",
              "      <th>2</th>\n",
              "      <td>1</td>\n",
              "      <td>2007-05-02</td>\n",
              "      <td>59</td>\n",
              "      <td>42</td>\n",
              "      <td>51</td>\n",
              "      <td>-3</td>\n",
              "      <td>42</td>\n",
              "      <td>47</td>\n",
              "      <td>14</td>\n",
              "      <td>0</td>\n",
              "      <td>0447</td>\n",
              "      <td>1850</td>\n",
              "      <td>BR</td>\n",
              "      <td>0</td>\n",
              "      <td>M</td>\n",
              "      <td>0.0</td>\n",
              "      <td>0.00</td>\n",
              "      <td>29.38</td>\n",
              "      <td>30.09</td>\n",
              "      <td>13.0</td>\n",
              "      <td>4</td>\n",
              "      <td>13.4</td>\n",
              "      <td>2007</td>\n",
              "      <td>5</td>\n",
              "      <td>18</td>\n",
              "    </tr>\n",
              "    <tr>\n",
              "      <th>3</th>\n",
              "      <td>2</td>\n",
              "      <td>2007-05-02</td>\n",
              "      <td>60</td>\n",
              "      <td>43</td>\n",
              "      <td>52</td>\n",
              "      <td>M</td>\n",
              "      <td>42</td>\n",
              "      <td>47</td>\n",
              "      <td>13</td>\n",
              "      <td>0</td>\n",
              "      <td>-</td>\n",
              "      <td>-</td>\n",
              "      <td>BR HZ</td>\n",
              "      <td>M</td>\n",
              "      <td>M</td>\n",
              "      <td>M</td>\n",
              "      <td>0.00</td>\n",
              "      <td>29.44</td>\n",
              "      <td>30.08</td>\n",
              "      <td>13.3</td>\n",
              "      <td>2</td>\n",
              "      <td>13.4</td>\n",
              "      <td>2007</td>\n",
              "      <td>5</td>\n",
              "      <td>18</td>\n",
              "    </tr>\n",
              "    <tr>\n",
              "      <th>4</th>\n",
              "      <td>1</td>\n",
              "      <td>2007-05-03</td>\n",
              "      <td>66</td>\n",
              "      <td>46</td>\n",
              "      <td>56</td>\n",
              "      <td>2</td>\n",
              "      <td>40</td>\n",
              "      <td>48</td>\n",
              "      <td>9</td>\n",
              "      <td>0</td>\n",
              "      <td>0446</td>\n",
              "      <td>1851</td>\n",
              "      <td></td>\n",
              "      <td>0</td>\n",
              "      <td>M</td>\n",
              "      <td>0.0</td>\n",
              "      <td>0.00</td>\n",
              "      <td>29.39</td>\n",
              "      <td>30.12</td>\n",
              "      <td>11.7</td>\n",
              "      <td>7</td>\n",
              "      <td>11.9</td>\n",
              "      <td>2007</td>\n",
              "      <td>5</td>\n",
              "      <td>18</td>\n",
              "    </tr>\n",
              "    <tr>\n",
              "      <th>...</th>\n",
              "      <td>...</td>\n",
              "      <td>...</td>\n",
              "      <td>...</td>\n",
              "      <td>...</td>\n",
              "      <td>...</td>\n",
              "      <td>...</td>\n",
              "      <td>...</td>\n",
              "      <td>...</td>\n",
              "      <td>...</td>\n",
              "      <td>...</td>\n",
              "      <td>...</td>\n",
              "      <td>...</td>\n",
              "      <td>...</td>\n",
              "      <td>...</td>\n",
              "      <td>...</td>\n",
              "      <td>...</td>\n",
              "      <td>...</td>\n",
              "      <td>...</td>\n",
              "      <td>...</td>\n",
              "      <td>...</td>\n",
              "      <td>...</td>\n",
              "      <td>...</td>\n",
              "      <td>...</td>\n",
              "      <td>...</td>\n",
              "      <td>...</td>\n",
              "    </tr>\n",
              "    <tr>\n",
              "      <th>2939</th>\n",
              "      <td>2</td>\n",
              "      <td>2014-10-29</td>\n",
              "      <td>49</td>\n",
              "      <td>40</td>\n",
              "      <td>45</td>\n",
              "      <td>M</td>\n",
              "      <td>34</td>\n",
              "      <td>42</td>\n",
              "      <td>20</td>\n",
              "      <td>0</td>\n",
              "      <td>-</td>\n",
              "      <td>-</td>\n",
              "      <td></td>\n",
              "      <td>M</td>\n",
              "      <td>M</td>\n",
              "      <td>M</td>\n",
              "      <td>0.00</td>\n",
              "      <td>29.42</td>\n",
              "      <td>30.07</td>\n",
              "      <td>8.5</td>\n",
              "      <td>29</td>\n",
              "      <td>9.0</td>\n",
              "      <td>2014</td>\n",
              "      <td>10</td>\n",
              "      <td>44</td>\n",
              "    </tr>\n",
              "    <tr>\n",
              "      <th>2940</th>\n",
              "      <td>1</td>\n",
              "      <td>2014-10-30</td>\n",
              "      <td>51</td>\n",
              "      <td>32</td>\n",
              "      <td>42</td>\n",
              "      <td>-4</td>\n",
              "      <td>34</td>\n",
              "      <td>40</td>\n",
              "      <td>23</td>\n",
              "      <td>0</td>\n",
              "      <td>0622</td>\n",
              "      <td>1649</td>\n",
              "      <td></td>\n",
              "      <td>0</td>\n",
              "      <td>M</td>\n",
              "      <td>0.0</td>\n",
              "      <td>0.00</td>\n",
              "      <td>29.34</td>\n",
              "      <td>30.09</td>\n",
              "      <td>5.1</td>\n",
              "      <td>24</td>\n",
              "      <td>5.5</td>\n",
              "      <td>2014</td>\n",
              "      <td>10</td>\n",
              "      <td>44</td>\n",
              "    </tr>\n",
              "    <tr>\n",
              "      <th>2941</th>\n",
              "      <td>2</td>\n",
              "      <td>2014-10-30</td>\n",
              "      <td>53</td>\n",
              "      <td>37</td>\n",
              "      <td>45</td>\n",
              "      <td>M</td>\n",
              "      <td>35</td>\n",
              "      <td>42</td>\n",
              "      <td>20</td>\n",
              "      <td>0</td>\n",
              "      <td>-</td>\n",
              "      <td>-</td>\n",
              "      <td>RA</td>\n",
              "      <td>M</td>\n",
              "      <td>M</td>\n",
              "      <td>M</td>\n",
              "      <td>T</td>\n",
              "      <td>29.41</td>\n",
              "      <td>30.10</td>\n",
              "      <td>5.9</td>\n",
              "      <td>23</td>\n",
              "      <td>6.5</td>\n",
              "      <td>2014</td>\n",
              "      <td>10</td>\n",
              "      <td>44</td>\n",
              "    </tr>\n",
              "    <tr>\n",
              "      <th>2942</th>\n",
              "      <td>1</td>\n",
              "      <td>2014-10-31</td>\n",
              "      <td>47</td>\n",
              "      <td>33</td>\n",
              "      <td>40</td>\n",
              "      <td>-6</td>\n",
              "      <td>25</td>\n",
              "      <td>33</td>\n",
              "      <td>25</td>\n",
              "      <td>0</td>\n",
              "      <td>0623</td>\n",
              "      <td>1647</td>\n",
              "      <td>RA SN</td>\n",
              "      <td>0</td>\n",
              "      <td>M</td>\n",
              "      <td>0.1</td>\n",
              "      <td>0.03</td>\n",
              "      <td>29.49</td>\n",
              "      <td>30.20</td>\n",
              "      <td>22.6</td>\n",
              "      <td>34</td>\n",
              "      <td>22.9</td>\n",
              "      <td>2014</td>\n",
              "      <td>10</td>\n",
              "      <td>44</td>\n",
              "    </tr>\n",
              "    <tr>\n",
              "      <th>2943</th>\n",
              "      <td>2</td>\n",
              "      <td>2014-10-31</td>\n",
              "      <td>49</td>\n",
              "      <td>34</td>\n",
              "      <td>42</td>\n",
              "      <td>M</td>\n",
              "      <td>29</td>\n",
              "      <td>36</td>\n",
              "      <td>23</td>\n",
              "      <td>0</td>\n",
              "      <td>-</td>\n",
              "      <td>-</td>\n",
              "      <td>RA SN BR</td>\n",
              "      <td>M</td>\n",
              "      <td>M</td>\n",
              "      <td>M</td>\n",
              "      <td>0.04</td>\n",
              "      <td>29.54</td>\n",
              "      <td>30.20</td>\n",
              "      <td>21.7</td>\n",
              "      <td>34</td>\n",
              "      <td>22.6</td>\n",
              "      <td>2014</td>\n",
              "      <td>10</td>\n",
              "      <td>44</td>\n",
              "    </tr>\n",
              "  </tbody>\n",
              "</table>\n",
              "<p>2944 rows × 25 columns</p>\n",
              "</div>"
            ],
            "text/plain": [
              "      Station        Date  Tmax  Tmin  ... AvgSpeed  Year  Month WeekofYear\n",
              "0           1  2007-05-01    83    50  ...      9.2  2007      5         18\n",
              "1           2  2007-05-01    84    52  ...      9.6  2007      5         18\n",
              "2           1  2007-05-02    59    42  ...     13.4  2007      5         18\n",
              "3           2  2007-05-02    60    43  ...     13.4  2007      5         18\n",
              "4           1  2007-05-03    66    46  ...     11.9  2007      5         18\n",
              "...       ...         ...   ...   ...  ...      ...   ...    ...        ...\n",
              "2939        2  2014-10-29    49    40  ...      9.0  2014     10         44\n",
              "2940        1  2014-10-30    51    32  ...      5.5  2014     10         44\n",
              "2941        2  2014-10-30    53    37  ...      6.5  2014     10         44\n",
              "2942        1  2014-10-31    47    33  ...     22.9  2014     10         44\n",
              "2943        2  2014-10-31    49    34  ...     22.6  2014     10         44\n",
              "\n",
              "[2944 rows x 25 columns]"
            ]
          },
          "metadata": {},
          "execution_count": 18
        }
      ]
    },
    {
      "cell_type": "code",
      "metadata": {
        "colab": {
          "base_uri": "https://localhost:8080/"
        },
        "id": "x7HcCMj5THUe",
        "outputId": "31aed551-e872-42fe-9fa6-99bc7d3e25ae"
      },
      "source": [
        "# replace trace and missing precip with 0s\n",
        "df_weather.PrecipTotal.replace(['  T','M'],0,inplace=True)\n",
        "df_weather.PrecipTotal = df_weather.PrecipTotal.astype(float)\n",
        "\n",
        "# check number of rows with missing avg temp\n",
        "print(df_weather.Tavg.value_counts()['M'])\n",
        "\n",
        "# imputing Tavg manually (increases accuracy)\n",
        "df_weather.Tavg = (df_weather.Tmax + df_weather.Tmin)/2\n",
        "df_weather.Tavg = df_weather.Tavg.astype(float)"
      ],
      "execution_count": 19,
      "outputs": [
        {
          "output_type": "stream",
          "name": "stdout",
          "text": [
            "11\n"
          ]
        }
      ]
    },
    {
      "cell_type": "code",
      "metadata": {
        "colab": {
          "base_uri": "https://localhost:8080/",
          "height": 581
        },
        "id": "iHXdqu_F-tkf",
        "outputId": "60309664-f5b4-44f9-b3e2-2d15b9188722"
      },
      "source": [
        "df_weather[df_weather['Station'] == 2]"
      ],
      "execution_count": 20,
      "outputs": [
        {
          "output_type": "execute_result",
          "data": {
            "text/html": [
              "<div>\n",
              "<style scoped>\n",
              "    .dataframe tbody tr th:only-of-type {\n",
              "        vertical-align: middle;\n",
              "    }\n",
              "\n",
              "    .dataframe tbody tr th {\n",
              "        vertical-align: top;\n",
              "    }\n",
              "\n",
              "    .dataframe thead th {\n",
              "        text-align: right;\n",
              "    }\n",
              "</style>\n",
              "<table border=\"1\" class=\"dataframe\">\n",
              "  <thead>\n",
              "    <tr style=\"text-align: right;\">\n",
              "      <th></th>\n",
              "      <th>Station</th>\n",
              "      <th>Date</th>\n",
              "      <th>Tmax</th>\n",
              "      <th>Tmin</th>\n",
              "      <th>Tavg</th>\n",
              "      <th>Depart</th>\n",
              "      <th>DewPoint</th>\n",
              "      <th>WetBulb</th>\n",
              "      <th>Heat</th>\n",
              "      <th>Cool</th>\n",
              "      <th>Sunrise</th>\n",
              "      <th>Sunset</th>\n",
              "      <th>CodeSum</th>\n",
              "      <th>Depth</th>\n",
              "      <th>Water1</th>\n",
              "      <th>SnowFall</th>\n",
              "      <th>PrecipTotal</th>\n",
              "      <th>StnPressure</th>\n",
              "      <th>SeaLevel</th>\n",
              "      <th>ResultSpeed</th>\n",
              "      <th>ResultDir</th>\n",
              "      <th>AvgSpeed</th>\n",
              "      <th>Year</th>\n",
              "      <th>Month</th>\n",
              "      <th>WeekofYear</th>\n",
              "    </tr>\n",
              "  </thead>\n",
              "  <tbody>\n",
              "    <tr>\n",
              "      <th>1</th>\n",
              "      <td>2</td>\n",
              "      <td>2007-05-01</td>\n",
              "      <td>84</td>\n",
              "      <td>52</td>\n",
              "      <td>68.0</td>\n",
              "      <td>M</td>\n",
              "      <td>51</td>\n",
              "      <td>57</td>\n",
              "      <td>0</td>\n",
              "      <td>3</td>\n",
              "      <td>-</td>\n",
              "      <td>-</td>\n",
              "      <td></td>\n",
              "      <td>M</td>\n",
              "      <td>M</td>\n",
              "      <td>M</td>\n",
              "      <td>0.00</td>\n",
              "      <td>29.18</td>\n",
              "      <td>29.82</td>\n",
              "      <td>2.7</td>\n",
              "      <td>25</td>\n",
              "      <td>9.6</td>\n",
              "      <td>2007</td>\n",
              "      <td>5</td>\n",
              "      <td>18</td>\n",
              "    </tr>\n",
              "    <tr>\n",
              "      <th>3</th>\n",
              "      <td>2</td>\n",
              "      <td>2007-05-02</td>\n",
              "      <td>60</td>\n",
              "      <td>43</td>\n",
              "      <td>51.5</td>\n",
              "      <td>M</td>\n",
              "      <td>42</td>\n",
              "      <td>47</td>\n",
              "      <td>13</td>\n",
              "      <td>0</td>\n",
              "      <td>-</td>\n",
              "      <td>-</td>\n",
              "      <td>BR HZ</td>\n",
              "      <td>M</td>\n",
              "      <td>M</td>\n",
              "      <td>M</td>\n",
              "      <td>0.00</td>\n",
              "      <td>29.44</td>\n",
              "      <td>30.08</td>\n",
              "      <td>13.3</td>\n",
              "      <td>2</td>\n",
              "      <td>13.4</td>\n",
              "      <td>2007</td>\n",
              "      <td>5</td>\n",
              "      <td>18</td>\n",
              "    </tr>\n",
              "    <tr>\n",
              "      <th>5</th>\n",
              "      <td>2</td>\n",
              "      <td>2007-05-03</td>\n",
              "      <td>67</td>\n",
              "      <td>48</td>\n",
              "      <td>57.5</td>\n",
              "      <td>M</td>\n",
              "      <td>40</td>\n",
              "      <td>50</td>\n",
              "      <td>7</td>\n",
              "      <td>0</td>\n",
              "      <td>-</td>\n",
              "      <td>-</td>\n",
              "      <td>HZ</td>\n",
              "      <td>M</td>\n",
              "      <td>M</td>\n",
              "      <td>M</td>\n",
              "      <td>0.00</td>\n",
              "      <td>29.46</td>\n",
              "      <td>30.12</td>\n",
              "      <td>12.9</td>\n",
              "      <td>6</td>\n",
              "      <td>13.2</td>\n",
              "      <td>2007</td>\n",
              "      <td>5</td>\n",
              "      <td>18</td>\n",
              "    </tr>\n",
              "    <tr>\n",
              "      <th>7</th>\n",
              "      <td>2</td>\n",
              "      <td>2007-05-04</td>\n",
              "      <td>78</td>\n",
              "      <td>51</td>\n",
              "      <td>64.5</td>\n",
              "      <td>M</td>\n",
              "      <td>42</td>\n",
              "      <td>50</td>\n",
              "      <td>M</td>\n",
              "      <td>M</td>\n",
              "      <td>-</td>\n",
              "      <td>-</td>\n",
              "      <td></td>\n",
              "      <td>M</td>\n",
              "      <td>M</td>\n",
              "      <td>M</td>\n",
              "      <td>0.00</td>\n",
              "      <td>29.36</td>\n",
              "      <td>30.04</td>\n",
              "      <td>10.1</td>\n",
              "      <td>7</td>\n",
              "      <td>10.4</td>\n",
              "      <td>2007</td>\n",
              "      <td>5</td>\n",
              "      <td>18</td>\n",
              "    </tr>\n",
              "    <tr>\n",
              "      <th>9</th>\n",
              "      <td>2</td>\n",
              "      <td>2007-05-05</td>\n",
              "      <td>66</td>\n",
              "      <td>54</td>\n",
              "      <td>60.0</td>\n",
              "      <td>M</td>\n",
              "      <td>39</td>\n",
              "      <td>50</td>\n",
              "      <td>5</td>\n",
              "      <td>0</td>\n",
              "      <td>-</td>\n",
              "      <td>-</td>\n",
              "      <td></td>\n",
              "      <td>M</td>\n",
              "      <td>M</td>\n",
              "      <td>M</td>\n",
              "      <td>0.00</td>\n",
              "      <td>29.46</td>\n",
              "      <td>30.09</td>\n",
              "      <td>11.2</td>\n",
              "      <td>7</td>\n",
              "      <td>11.5</td>\n",
              "      <td>2007</td>\n",
              "      <td>5</td>\n",
              "      <td>18</td>\n",
              "    </tr>\n",
              "    <tr>\n",
              "      <th>...</th>\n",
              "      <td>...</td>\n",
              "      <td>...</td>\n",
              "      <td>...</td>\n",
              "      <td>...</td>\n",
              "      <td>...</td>\n",
              "      <td>...</td>\n",
              "      <td>...</td>\n",
              "      <td>...</td>\n",
              "      <td>...</td>\n",
              "      <td>...</td>\n",
              "      <td>...</td>\n",
              "      <td>...</td>\n",
              "      <td>...</td>\n",
              "      <td>...</td>\n",
              "      <td>...</td>\n",
              "      <td>...</td>\n",
              "      <td>...</td>\n",
              "      <td>...</td>\n",
              "      <td>...</td>\n",
              "      <td>...</td>\n",
              "      <td>...</td>\n",
              "      <td>...</td>\n",
              "      <td>...</td>\n",
              "      <td>...</td>\n",
              "      <td>...</td>\n",
              "    </tr>\n",
              "    <tr>\n",
              "      <th>2935</th>\n",
              "      <td>2</td>\n",
              "      <td>2014-10-27</td>\n",
              "      <td>79</td>\n",
              "      <td>54</td>\n",
              "      <td>66.5</td>\n",
              "      <td>M</td>\n",
              "      <td>52</td>\n",
              "      <td>59</td>\n",
              "      <td>0</td>\n",
              "      <td>2</td>\n",
              "      <td>-</td>\n",
              "      <td>-</td>\n",
              "      <td>RA</td>\n",
              "      <td>M</td>\n",
              "      <td>M</td>\n",
              "      <td>M</td>\n",
              "      <td>0.02</td>\n",
              "      <td>29.00</td>\n",
              "      <td>29.67</td>\n",
              "      <td>12.7</td>\n",
              "      <td>19</td>\n",
              "      <td>13.6</td>\n",
              "      <td>2014</td>\n",
              "      <td>10</td>\n",
              "      <td>44</td>\n",
              "    </tr>\n",
              "    <tr>\n",
              "      <th>2937</th>\n",
              "      <td>2</td>\n",
              "      <td>2014-10-28</td>\n",
              "      <td>66</td>\n",
              "      <td>48</td>\n",
              "      <td>57.0</td>\n",
              "      <td>M</td>\n",
              "      <td>40</td>\n",
              "      <td>48</td>\n",
              "      <td>8</td>\n",
              "      <td>0</td>\n",
              "      <td>-</td>\n",
              "      <td>-</td>\n",
              "      <td>RA</td>\n",
              "      <td>M</td>\n",
              "      <td>M</td>\n",
              "      <td>M</td>\n",
              "      <td>0.03</td>\n",
              "      <td>29.23</td>\n",
              "      <td>29.85</td>\n",
              "      <td>14.0</td>\n",
              "      <td>26</td>\n",
              "      <td>14.6</td>\n",
              "      <td>2014</td>\n",
              "      <td>10</td>\n",
              "      <td>44</td>\n",
              "    </tr>\n",
              "    <tr>\n",
              "      <th>2939</th>\n",
              "      <td>2</td>\n",
              "      <td>2014-10-29</td>\n",
              "      <td>49</td>\n",
              "      <td>40</td>\n",
              "      <td>44.5</td>\n",
              "      <td>M</td>\n",
              "      <td>34</td>\n",
              "      <td>42</td>\n",
              "      <td>20</td>\n",
              "      <td>0</td>\n",
              "      <td>-</td>\n",
              "      <td>-</td>\n",
              "      <td></td>\n",
              "      <td>M</td>\n",
              "      <td>M</td>\n",
              "      <td>M</td>\n",
              "      <td>0.00</td>\n",
              "      <td>29.42</td>\n",
              "      <td>30.07</td>\n",
              "      <td>8.5</td>\n",
              "      <td>29</td>\n",
              "      <td>9.0</td>\n",
              "      <td>2014</td>\n",
              "      <td>10</td>\n",
              "      <td>44</td>\n",
              "    </tr>\n",
              "    <tr>\n",
              "      <th>2941</th>\n",
              "      <td>2</td>\n",
              "      <td>2014-10-30</td>\n",
              "      <td>53</td>\n",
              "      <td>37</td>\n",
              "      <td>45.0</td>\n",
              "      <td>M</td>\n",
              "      <td>35</td>\n",
              "      <td>42</td>\n",
              "      <td>20</td>\n",
              "      <td>0</td>\n",
              "      <td>-</td>\n",
              "      <td>-</td>\n",
              "      <td>RA</td>\n",
              "      <td>M</td>\n",
              "      <td>M</td>\n",
              "      <td>M</td>\n",
              "      <td>0.00</td>\n",
              "      <td>29.41</td>\n",
              "      <td>30.10</td>\n",
              "      <td>5.9</td>\n",
              "      <td>23</td>\n",
              "      <td>6.5</td>\n",
              "      <td>2014</td>\n",
              "      <td>10</td>\n",
              "      <td>44</td>\n",
              "    </tr>\n",
              "    <tr>\n",
              "      <th>2943</th>\n",
              "      <td>2</td>\n",
              "      <td>2014-10-31</td>\n",
              "      <td>49</td>\n",
              "      <td>34</td>\n",
              "      <td>41.5</td>\n",
              "      <td>M</td>\n",
              "      <td>29</td>\n",
              "      <td>36</td>\n",
              "      <td>23</td>\n",
              "      <td>0</td>\n",
              "      <td>-</td>\n",
              "      <td>-</td>\n",
              "      <td>RA SN BR</td>\n",
              "      <td>M</td>\n",
              "      <td>M</td>\n",
              "      <td>M</td>\n",
              "      <td>0.04</td>\n",
              "      <td>29.54</td>\n",
              "      <td>30.20</td>\n",
              "      <td>21.7</td>\n",
              "      <td>34</td>\n",
              "      <td>22.6</td>\n",
              "      <td>2014</td>\n",
              "      <td>10</td>\n",
              "      <td>44</td>\n",
              "    </tr>\n",
              "  </tbody>\n",
              "</table>\n",
              "<p>1472 rows × 25 columns</p>\n",
              "</div>"
            ],
            "text/plain": [
              "      Station        Date  Tmax  Tmin  ...  AvgSpeed  Year  Month WeekofYear\n",
              "1           2  2007-05-01    84    52  ...       9.6  2007      5         18\n",
              "3           2  2007-05-02    60    43  ...      13.4  2007      5         18\n",
              "5           2  2007-05-03    67    48  ...      13.2  2007      5         18\n",
              "7           2  2007-05-04    78    51  ...      10.4  2007      5         18\n",
              "9           2  2007-05-05    66    54  ...      11.5  2007      5         18\n",
              "...       ...         ...   ...   ...  ...       ...   ...    ...        ...\n",
              "2935        2  2014-10-27    79    54  ...      13.6  2014     10         44\n",
              "2937        2  2014-10-28    66    48  ...      14.6  2014     10         44\n",
              "2939        2  2014-10-29    49    40  ...       9.0  2014     10         44\n",
              "2941        2  2014-10-30    53    37  ...       6.5  2014     10         44\n",
              "2943        2  2014-10-31    49    34  ...      22.6  2014     10         44\n",
              "\n",
              "[1472 rows x 25 columns]"
            ]
          },
          "metadata": {},
          "execution_count": 20
        }
      ]
    },
    {
      "cell_type": "code",
      "metadata": {
        "id": "CLppAGXW-gi3"
      },
      "source": [
        "df_weather = df_weather[df_weather['Station'] == 2]"
      ],
      "execution_count": 21,
      "outputs": []
    },
    {
      "cell_type": "code",
      "metadata": {
        "id": "HKtAytgmTQyu"
      },
      "source": [
        "df_train = pd.merge(df_train, df_weather , on=['Date', 'Year', 'WeekofYear', 'Month'] , how = 'left')"
      ],
      "execution_count": 22,
      "outputs": []
    },
    {
      "cell_type": "code",
      "metadata": {
        "colab": {
          "base_uri": "https://localhost:8080/"
        },
        "id": "354xYNQwTkFO",
        "outputId": "5788ad67-1bc6-4e70-f2c6-41cc013a3e86"
      },
      "source": [
        "# Note that shape changes to double because there are 2 stations for a single coordinate.\n",
        "\n",
        "print('DF weather shape :' ,  df_weather.shape)\n",
        "print('DF train shape :' ,  df_train.shape)"
      ],
      "execution_count": 23,
      "outputs": [
        {
          "output_type": "stream",
          "name": "stdout",
          "text": [
            "DF weather shape : (1472, 25)\n",
            "DF train shape : (10506, 39)\n"
          ]
        }
      ]
    },
    {
      "cell_type": "markdown",
      "metadata": {
        "id": "mXyYYRQmHs5x"
      },
      "source": [
        "# 4.0 Preprocessing Dataframe\n",
        "___"
      ]
    },
    {
      "cell_type": "markdown",
      "metadata": {
        "id": "tWws-WOXL1po"
      },
      "source": [
        "### 4.1 Dropping Redundant Col\n",
        "___"
      ]
    },
    {
      "cell_type": "code",
      "metadata": {
        "id": "yA4H279ZLPjw"
      },
      "source": [
        "df_train.drop(['AddressAccuracy','Address','Street','AddressNumberAndStreet'],axis=1,inplace=True)\n",
        "df_train.drop(['Water1','Depart','Depth','SnowFall','AvgSpeed','ResultSpeed','ResultDir','SeaLevel','StnPressure','CodeSum','Heat','Cool'],axis=1,inplace=True)\n",
        "df_train.drop(['trap coordinate'],axis=1,inplace=True)"
      ],
      "execution_count": 24,
      "outputs": []
    },
    {
      "cell_type": "code",
      "metadata": {
        "colab": {
          "base_uri": "https://localhost:8080/"
        },
        "id": "9wiOvz0vMS44",
        "outputId": "255d6879-843b-47e4-85e5-b0bed01df12a"
      },
      "source": [
        "df_train.columns"
      ],
      "execution_count": 25,
      "outputs": [
        {
          "output_type": "execute_result",
          "data": {
            "text/plain": [
              "Index(['Date', 'Species', 'Block', 'Trap', 'Latitude', 'Longitude',\n",
              "       'NumMosquitos', 'WnvPresent', 'Year', 'Month', 'WeekofYear',\n",
              "       'dist_spray', 'sprayed', 'Station', 'Tmax', 'Tmin', 'Tavg', 'DewPoint',\n",
              "       'WetBulb', 'Sunrise', 'Sunset', 'PrecipTotal'],\n",
              "      dtype='object')"
            ]
          },
          "metadata": {},
          "execution_count": 25
        }
      ]
    },
    {
      "cell_type": "markdown",
      "metadata": {
        "id": "mH1UUe6NOdpO"
      },
      "source": [
        "### 4.2 Preprocessing Dataframe\n",
        "___"
      ]
    },
    {
      "cell_type": "code",
      "metadata": {
        "id": "XgSmRUsiLd2f"
      },
      "source": [
        "def preprocess_df(df):\n",
        "  # df['NumMosquitos'] = df['NumMosquitos'].fillna(0)\n",
        "  # df['WnvPresent'] = df['WnvPresent'].fillna(0)\n",
        "  df['Species'] = df['Species'].map({'CULEX PIPIENS/RESTUANS': 2, 'CULEX PIPIENS': 2, 'CULEX RESTUANS': 1}) \\\n",
        "                                   .fillna(0)\n",
        "\n",
        "  df['Trap'] = df['Trap'].astype('category').cat.codes\n",
        "  df.isin(['-']).sum()[df.isin(['-']).sum() > 0].sort_values(ascending=False)\n",
        "  df['Sunrise'] = np.where(df['Sunrise'].isin(['-']), 0 ,df['Sunrise'])\n",
        "  df['Sunset'] = np.where(df['Sunset'].isin(['-']), 0 ,df['Sunset'])\n",
        "  df['WetBulb'] = np.where(df['Sunset'].isin(['-']) , 0 , df['WetBulb'])\n",
        "  df['WetBulb'] = np.where(df['WetBulb'].isin(['M']) , df['WetBulb'].mode() , df['WetBulb'])\n",
        "\n",
        "  return df                                     "
      ],
      "execution_count": 26,
      "outputs": []
    },
    {
      "cell_type": "code",
      "metadata": {
        "id": "biBIcWazLga7"
      },
      "source": [
        "df_train_processed = preprocess_df(df_train)"
      ],
      "execution_count": 27,
      "outputs": []
    },
    {
      "cell_type": "code",
      "metadata": {
        "id": "n41vYMMFNgw3"
      },
      "source": [
        "X = df_train_processed.drop(['Date','WnvPresent' , 'NumMosquitos' , 'sprayed' , 'dist_spray'], axis=1)\n",
        "y = df_train_processed['WnvPresent']"
      ],
      "execution_count": 28,
      "outputs": []
    },
    {
      "cell_type": "code",
      "metadata": {
        "colab": {
          "base_uri": "https://localhost:8080/",
          "height": 262
        },
        "id": "djFc56ZcOLA3",
        "outputId": "e2d52ce5-9596-4699-c9c6-bd5b24f851e4"
      },
      "source": [
        "y.value_counts().plot(kind = 'bar');"
      ],
      "execution_count": 29,
      "outputs": [
        {
          "output_type": "display_data",
          "data": {
            "image/png": "[encoded data removed]",
            "text/plain": [
              "<Figure size 432x288 with 1 Axes>"
            ]
          },
          "metadata": {
            "needs_background": "light"
          }
        }
      ]
    },
    {
      "cell_type": "markdown",
      "metadata": {
        "id": "SvfRiAHkQV82"
      },
      "source": [
        "### 4.3 Fitting into Model (Baseline No Smote)\n",
        "___"
      ]
    },
    {
      "cell_type": "code",
      "metadata": {
        "id": "XD8l6837Osum"
      },
      "source": [
        "X_train, X_test, y_train, y_test = train_test_split(X, y, test_size=0.3, stratify=y, random_state=42)"
      ],
      "execution_count": 30,
      "outputs": []
    },
    {
      "cell_type": "code",
      "metadata": {
        "id": "49xZujITOy7e"
      },
      "source": [
        "X_train_smote, y_train_smote = X_train , y_train"
      ],
      "execution_count": 31,
      "outputs": []
    },
    {
      "cell_type": "code",
      "metadata": {
        "colab": {
          "base_uri": "https://localhost:8080/",
          "height": 414
        },
        "id": "-I2kuoo1SMW1",
        "outputId": "86dfa335-b2db-4836-d044-3d8d1d26d8be"
      },
      "source": [
        "df_train_processed"
      ],
      "execution_count": 32,
      "outputs": [
        {
          "output_type": "execute_result",
          "data": {
            "text/html": [
              "<div>\n",
              "<style scoped>\n",
              "    .dataframe tbody tr th:only-of-type {\n",
              "        vertical-align: middle;\n",
              "    }\n",
              "\n",
              "    .dataframe tbody tr th {\n",
              "        vertical-align: top;\n",
              "    }\n",
              "\n",
              "    .dataframe thead th {\n",
              "        text-align: right;\n",
              "    }\n",
              "</style>\n",
              "<table border=\"1\" class=\"dataframe\">\n",
              "  <thead>\n",
              "    <tr style=\"text-align: right;\">\n",
              "      <th></th>\n",
              "      <th>Date</th>\n",
              "      <th>Species</th>\n",
              "      <th>Block</th>\n",
              "      <th>Trap</th>\n",
              "      <th>Latitude</th>\n",
              "      <th>Longitude</th>\n",
              "      <th>NumMosquitos</th>\n",
              "      <th>WnvPresent</th>\n",
              "      <th>Year</th>\n",
              "      <th>Month</th>\n",
              "      <th>WeekofYear</th>\n",
              "      <th>dist_spray</th>\n",
              "      <th>sprayed</th>\n",
              "      <th>Station</th>\n",
              "      <th>Tmax</th>\n",
              "      <th>Tmin</th>\n",
              "      <th>Tavg</th>\n",
              "      <th>DewPoint</th>\n",
              "      <th>WetBulb</th>\n",
              "      <th>Sunrise</th>\n",
              "      <th>Sunset</th>\n",
              "      <th>PrecipTotal</th>\n",
              "    </tr>\n",
              "  </thead>\n",
              "  <tbody>\n",
              "    <tr>\n",
              "      <th>0</th>\n",
              "      <td>2007-05-29</td>\n",
              "      <td>2.0</td>\n",
              "      <td>41</td>\n",
              "      <td>1</td>\n",
              "      <td>41.954690</td>\n",
              "      <td>-87.800991</td>\n",
              "      <td>1</td>\n",
              "      <td>0</td>\n",
              "      <td>2007</td>\n",
              "      <td>5</td>\n",
              "      <td>22</td>\n",
              "      <td>255.770357</td>\n",
              "      <td>1</td>\n",
              "      <td>2</td>\n",
              "      <td>88</td>\n",
              "      <td>65</td>\n",
              "      <td>76.5</td>\n",
              "      <td>59</td>\n",
              "      <td>66</td>\n",
              "      <td>0</td>\n",
              "      <td>0</td>\n",
              "      <td>0.0</td>\n",
              "    </tr>\n",
              "    <tr>\n",
              "      <th>1</th>\n",
              "      <td>2007-05-29</td>\n",
              "      <td>1.0</td>\n",
              "      <td>41</td>\n",
              "      <td>1</td>\n",
              "      <td>41.954690</td>\n",
              "      <td>-87.800991</td>\n",
              "      <td>1</td>\n",
              "      <td>0</td>\n",
              "      <td>2007</td>\n",
              "      <td>5</td>\n",
              "      <td>22</td>\n",
              "      <td>255.770357</td>\n",
              "      <td>1</td>\n",
              "      <td>2</td>\n",
              "      <td>88</td>\n",
              "      <td>65</td>\n",
              "      <td>76.5</td>\n",
              "      <td>59</td>\n",
              "      <td>66</td>\n",
              "      <td>0</td>\n",
              "      <td>0</td>\n",
              "      <td>0.0</td>\n",
              "    </tr>\n",
              "    <tr>\n",
              "      <th>2</th>\n",
              "      <td>2007-05-29</td>\n",
              "      <td>1.0</td>\n",
              "      <td>62</td>\n",
              "      <td>6</td>\n",
              "      <td>41.994991</td>\n",
              "      <td>-87.769279</td>\n",
              "      <td>1</td>\n",
              "      <td>0</td>\n",
              "      <td>2007</td>\n",
              "      <td>5</td>\n",
              "      <td>22</td>\n",
              "      <td>347.488585</td>\n",
              "      <td>1</td>\n",
              "      <td>2</td>\n",
              "      <td>88</td>\n",
              "      <td>65</td>\n",
              "      <td>76.5</td>\n",
              "      <td>59</td>\n",
              "      <td>66</td>\n",
              "      <td>0</td>\n",
              "      <td>0</td>\n",
              "      <td>0.0</td>\n",
              "    </tr>\n",
              "    <tr>\n",
              "      <th>3</th>\n",
              "      <td>2007-05-29</td>\n",
              "      <td>2.0</td>\n",
              "      <td>79</td>\n",
              "      <td>13</td>\n",
              "      <td>41.974089</td>\n",
              "      <td>-87.824812</td>\n",
              "      <td>1</td>\n",
              "      <td>0</td>\n",
              "      <td>2007</td>\n",
              "      <td>5</td>\n",
              "      <td>22</td>\n",
              "      <td>11.224465</td>\n",
              "      <td>1</td>\n",
              "      <td>2</td>\n",
              "      <td>88</td>\n",
              "      <td>65</td>\n",
              "      <td>76.5</td>\n",
              "      <td>59</td>\n",
              "      <td>66</td>\n",
              "      <td>0</td>\n",
              "      <td>0</td>\n",
              "      <td>0.0</td>\n",
              "    </tr>\n",
              "    <tr>\n",
              "      <th>4</th>\n",
              "      <td>2007-05-29</td>\n",
              "      <td>1.0</td>\n",
              "      <td>79</td>\n",
              "      <td>13</td>\n",
              "      <td>41.974089</td>\n",
              "      <td>-87.824812</td>\n",
              "      <td>4</td>\n",
              "      <td>0</td>\n",
              "      <td>2007</td>\n",
              "      <td>5</td>\n",
              "      <td>22</td>\n",
              "      <td>11.224465</td>\n",
              "      <td>1</td>\n",
              "      <td>2</td>\n",
              "      <td>88</td>\n",
              "      <td>65</td>\n",
              "      <td>76.5</td>\n",
              "      <td>59</td>\n",
              "      <td>66</td>\n",
              "      <td>0</td>\n",
              "      <td>0</td>\n",
              "      <td>0.0</td>\n",
              "    </tr>\n",
              "    <tr>\n",
              "      <th>...</th>\n",
              "      <td>...</td>\n",
              "      <td>...</td>\n",
              "      <td>...</td>\n",
              "      <td>...</td>\n",
              "      <td>...</td>\n",
              "      <td>...</td>\n",
              "      <td>...</td>\n",
              "      <td>...</td>\n",
              "      <td>...</td>\n",
              "      <td>...</td>\n",
              "      <td>...</td>\n",
              "      <td>...</td>\n",
              "      <td>...</td>\n",
              "      <td>...</td>\n",
              "      <td>...</td>\n",
              "      <td>...</td>\n",
              "      <td>...</td>\n",
              "      <td>...</td>\n",
              "      <td>...</td>\n",
              "      <td>...</td>\n",
              "      <td>...</td>\n",
              "      <td>...</td>\n",
              "    </tr>\n",
              "    <tr>\n",
              "      <th>10501</th>\n",
              "      <td>2013-09-26</td>\n",
              "      <td>2.0</td>\n",
              "      <td>51</td>\n",
              "      <td>25</td>\n",
              "      <td>41.763733</td>\n",
              "      <td>-87.742302</td>\n",
              "      <td>6</td>\n",
              "      <td>1</td>\n",
              "      <td>2013</td>\n",
              "      <td>9</td>\n",
              "      <td>39</td>\n",
              "      <td>860.271370</td>\n",
              "      <td>1</td>\n",
              "      <td>2</td>\n",
              "      <td>75</td>\n",
              "      <td>55</td>\n",
              "      <td>65.0</td>\n",
              "      <td>52</td>\n",
              "      <td>58</td>\n",
              "      <td>0</td>\n",
              "      <td>0</td>\n",
              "      <td>0.0</td>\n",
              "    </tr>\n",
              "    <tr>\n",
              "      <th>10502</th>\n",
              "      <td>2013-09-26</td>\n",
              "      <td>2.0</td>\n",
              "      <td>58</td>\n",
              "      <td>127</td>\n",
              "      <td>41.987280</td>\n",
              "      <td>-87.666066</td>\n",
              "      <td>5</td>\n",
              "      <td>0</td>\n",
              "      <td>2013</td>\n",
              "      <td>9</td>\n",
              "      <td>39</td>\n",
              "      <td>108.214816</td>\n",
              "      <td>1</td>\n",
              "      <td>2</td>\n",
              "      <td>75</td>\n",
              "      <td>55</td>\n",
              "      <td>65.0</td>\n",
              "      <td>52</td>\n",
              "      <td>58</td>\n",
              "      <td>0</td>\n",
              "      <td>0</td>\n",
              "      <td>0.0</td>\n",
              "    </tr>\n",
              "    <tr>\n",
              "      <th>10503</th>\n",
              "      <td>2013-09-26</td>\n",
              "      <td>2.0</td>\n",
              "      <td>17</td>\n",
              "      <td>128</td>\n",
              "      <td>41.912563</td>\n",
              "      <td>-87.668055</td>\n",
              "      <td>1</td>\n",
              "      <td>0</td>\n",
              "      <td>2013</td>\n",
              "      <td>9</td>\n",
              "      <td>39</td>\n",
              "      <td>1078.872587</td>\n",
              "      <td>0</td>\n",
              "      <td>2</td>\n",
              "      <td>75</td>\n",
              "      <td>55</td>\n",
              "      <td>65.0</td>\n",
              "      <td>52</td>\n",
              "      <td>58</td>\n",
              "      <td>0</td>\n",
              "      <td>0</td>\n",
              "      <td>0.0</td>\n",
              "    </tr>\n",
              "    <tr>\n",
              "      <th>10504</th>\n",
              "      <td>2013-09-26</td>\n",
              "      <td>2.0</td>\n",
              "      <td>71</td>\n",
              "      <td>129</td>\n",
              "      <td>42.009876</td>\n",
              "      <td>-87.807277</td>\n",
              "      <td>5</td>\n",
              "      <td>0</td>\n",
              "      <td>2013</td>\n",
              "      <td>9</td>\n",
              "      <td>39</td>\n",
              "      <td>44.600309</td>\n",
              "      <td>1</td>\n",
              "      <td>2</td>\n",
              "      <td>75</td>\n",
              "      <td>55</td>\n",
              "      <td>65.0</td>\n",
              "      <td>52</td>\n",
              "      <td>58</td>\n",
              "      <td>0</td>\n",
              "      <td>0</td>\n",
              "      <td>0.0</td>\n",
              "    </tr>\n",
              "    <tr>\n",
              "      <th>10505</th>\n",
              "      <td>2013-09-26</td>\n",
              "      <td>2.0</td>\n",
              "      <td>42</td>\n",
              "      <td>130</td>\n",
              "      <td>41.776428</td>\n",
              "      <td>-87.627096</td>\n",
              "      <td>1</td>\n",
              "      <td>0</td>\n",
              "      <td>2013</td>\n",
              "      <td>9</td>\n",
              "      <td>39</td>\n",
              "      <td>1428.889647</td>\n",
              "      <td>0</td>\n",
              "      <td>2</td>\n",
              "      <td>75</td>\n",
              "      <td>55</td>\n",
              "      <td>65.0</td>\n",
              "      <td>52</td>\n",
              "      <td>58</td>\n",
              "      <td>0</td>\n",
              "      <td>0</td>\n",
              "      <td>0.0</td>\n",
              "    </tr>\n",
              "  </tbody>\n",
              "</table>\n",
              "<p>10506 rows × 22 columns</p>\n",
              "</div>"
            ],
            "text/plain": [
              "             Date  Species  Block  Trap  ...  WetBulb  Sunrise  Sunset  PrecipTotal\n",
              "0      2007-05-29      2.0     41     1  ...       66        0       0          0.0\n",
              "1      2007-05-29      1.0     41     1  ...       66        0       0          0.0\n",
              "2      2007-05-29      1.0     62     6  ...       66        0       0          0.0\n",
              "3      2007-05-29      2.0     79    13  ...       66        0       0          0.0\n",
              "4      2007-05-29      1.0     79    13  ...       66        0       0          0.0\n",
              "...           ...      ...    ...   ...  ...      ...      ...     ...          ...\n",
              "10501  2013-09-26      2.0     51    25  ...       58        0       0          0.0\n",
              "10502  2013-09-26      2.0     58   127  ...       58        0       0          0.0\n",
              "10503  2013-09-26      2.0     17   128  ...       58        0       0          0.0\n",
              "10504  2013-09-26      2.0     71   129  ...       58        0       0          0.0\n",
              "10505  2013-09-26      2.0     42   130  ...       58        0       0          0.0\n",
              "\n",
              "[10506 rows x 22 columns]"
            ]
          },
          "metadata": {},
          "execution_count": 32
        }
      ]
    },
    {
      "cell_type": "code",
      "metadata": {
        "id": "vBVHIdJTQAuF"
      },
      "source": [
        "# Instiantiate models\n",
        "models = {'lr': LogisticRegression(max_iter=5_000, random_state=42, solver='saga'),\n",
        "          'rf': RandomForestClassifier(random_state=42),\n",
        "          'gb': GradientBoostingClassifier(random_state=42),\n",
        "          'xgb': XGBClassifier(random_state=42),\n",
        "        }"
      ],
      "execution_count": 33,
      "outputs": []
    },
    {
      "cell_type": "code",
      "metadata": {
        "id": "CnX_oUK3Qjt7"
      },
      "source": [
        "# Instantiate lists to store results\n",
        "init_list = []\n",
        "gs_list = []\n",
        "\n",
        "# Function to run model -- input scaler and model\n",
        "def run_model(mod, mod_params={}, grid_search=False):\n",
        "    \n",
        "    # Initial dictionary to hold model results\n",
        "    results = {}\n",
        "    \n",
        "    pipe = Pipeline([\n",
        "            ('ss', StandardScaler()),\n",
        "            (mod, models[mod])\n",
        "            ])\n",
        "    \n",
        "    if grid_search:\n",
        "        # Instantiate list to store gridsearch results\n",
        "        gs = GridSearchCV(pipe, param_grid=mod_params, cv=3, verbose=1, scoring='roc_auc', n_jobs=-1)\n",
        "        gs.fit(X_train_smote, y_train_smote)\n",
        "        pipe = gs\n",
        "        \n",
        "    else:\n",
        "        pipe.fit(X_train_smote, y_train_smote)\n",
        "    \n",
        "    # Retrieve metrics\n",
        "    predictions = pipe.predict(X_test)\n",
        "    tn, fp, fn, tp = confusion_matrix(y_test, predictions).ravel()\n",
        "    y_test_pred_prob = pipe.predict_proba(X_test)[:,1]\n",
        "    y_train_pred_prob = pipe.predict_proba(X_train_smote)[:,1]\n",
        "    \n",
        "    results['model'] = mod\n",
        "    results['train_auc'] = roc_auc_score(y_train_smote, y_train_pred_prob)\n",
        "    results['test_auc'] = roc_auc_score(y_test, y_test_pred_prob)\n",
        "    results['precision'] = precision_score(y_test, predictions)\n",
        "    results['specificity'] = tn / (tn + fp)\n",
        "    results['recall'] = recall_score(y_test, predictions)\n",
        "    results['f_score'] = f1_score(y_test, predictions)\n",
        "    \n",
        "    if grid_search:\n",
        "        gs_list.append(results)\n",
        "        print('### BEST PARAMS ###')\n",
        "        display(pipe.best_params_)\n",
        "        \n",
        "    else:\n",
        "        init_list.append(results)\n",
        "    \n",
        "    print('### METRICS ###')\n",
        "    display(results)\n",
        "    \n",
        "    print(f\"True Negatives: {tn}\")\n",
        "    print(f\"False Positives: {fp}\")\n",
        "    print(f\"False Negatives: {fn}\")\n",
        "    print(f\"True Positives: {tp}\")\n",
        "    \n",
        "    return pipe"
      ],
      "execution_count": 34,
      "outputs": []
    },
    {
      "cell_type": "code",
      "metadata": {
        "id": "Eo1eMoJbQohm"
      },
      "source": [
        "def predictions(pipeline):\n",
        "    pipeline.fit(X_train_smote.values,y_train_smote.values) #fit pipeline to training data\n",
        "    a = [pipeline.predict(X_train_smote.values), \n",
        " #      pipeline.predict(X_val.values),\n",
        "       pipeline.predict(X_test.values)]\n",
        "    b = [pipeline.predict_proba(X_train_smote.values),\n",
        " #      pipeline.predict_proba(X_val.values),\n",
        "       pipeline.predict_proba(X_test.values)]\n",
        "    return a,b"
      ],
      "execution_count": 35,
      "outputs": []
    },
    {
      "cell_type": "code",
      "metadata": {
        "colab": {
          "base_uri": "https://localhost:8080/",
          "height": 230
        },
        "id": "w-HLd6VOQuSF",
        "outputId": "904b8985-cb34-4247-df94-96b09ec55ca8"
      },
      "source": [
        "xgb = run_model('xgb')"
      ],
      "execution_count": 36,
      "outputs": [
        {
          "output_type": "stream",
          "name": "stdout",
          "text": [
            "### METRICS ###\n"
          ]
        },
        {
          "output_type": "display_data",
          "data": {
            "text/plain": [
              "{'f_score': 0.012048192771084336,\n",
              " 'model': 'xgb',\n",
              " 'precision': 1.0,\n",
              " 'recall': 0.006060606060606061,\n",
              " 'specificity': 1.0,\n",
              " 'test_auc': 0.842756997494192,\n",
              " 'train_auc': 0.8890317617770058}"
            ]
          },
          "metadata": {}
        },
        {
          "output_type": "stream",
          "name": "stdout",
          "text": [
            "True Negatives: 2987\n",
            "False Positives: 0\n",
            "False Negatives: 164\n",
            "True Positives: 1\n"
          ]
        }
      ]
    },
    {
      "cell_type": "code",
      "metadata": {
        "colab": {
          "base_uri": "https://localhost:8080/",
          "height": 230
        },
        "id": "MeVc37TjY78h",
        "outputId": "fc785c28-03f3-4e5b-89a3-bbdc911ea8a0"
      },
      "source": [
        "rfc = run_model('rf')"
      ],
      "execution_count": 37,
      "outputs": [
        {
          "output_type": "stream",
          "name": "stdout",
          "text": [
            "### METRICS ###\n"
          ]
        },
        {
          "output_type": "display_data",
          "data": {
            "text/plain": [
              "{'f_score': 0.24719101123595508,\n",
              " 'model': 'rf',\n",
              " 'precision': 0.3235294117647059,\n",
              " 'recall': 0.2,\n",
              " 'specificity': 0.9768998995647807,\n",
              " 'test_auc': 0.7742723519087764,\n",
              " 'train_auc': 0.9866101437808963}"
            ]
          },
          "metadata": {}
        },
        {
          "output_type": "stream",
          "name": "stdout",
          "text": [
            "True Negatives: 2918\n",
            "False Positives: 69\n",
            "False Negatives: 132\n",
            "True Positives: 33\n"
          ]
        }
      ]
    },
    {
      "cell_type": "markdown",
      "metadata": {
        "id": "k2kofkbiZT2T"
      },
      "source": [
        "### 4.4 Fitting into Model (With Smote)\n",
        "___"
      ]
    },
    {
      "cell_type": "code",
      "metadata": {
        "id": "mjzM2IUbZj0K"
      },
      "source": [
        "X_train, X_test, y_train, y_test = train_test_split(X, y, test_size=0.3, stratify=y, random_state=42)"
      ],
      "execution_count": 38,
      "outputs": []
    },
    {
      "cell_type": "code",
      "metadata": {
        "colab": {
          "base_uri": "https://localhost:8080/"
        },
        "id": "3hY4cHCNZrgz",
        "outputId": "58c6be9e-6072-4f73-e26d-99cb7282179c"
      },
      "source": [
        "# borderline-SMOTE with SVM for imbalanced dataset\n",
        "from collections import Counter\n",
        "from sklearn.datasets import make_classification\n",
        "from imblearn.combine import SMOTEENN\n",
        "from matplotlib import pyplot\n",
        "from numpy import where\n",
        "# summarize class distribution\n",
        "counter = Counter(y)\n",
        "print(counter)\n",
        "# transform the dataset\n",
        "smote = SMOTEENN()\n",
        "#X, y = smote.fit_resample(X, y)\n",
        "# summarize the new class distribution\n",
        "counter = Counter(y)\n",
        "print(counter)"
      ],
      "execution_count": 39,
      "outputs": [
        {
          "output_type": "stream",
          "name": "stdout",
          "text": [
            "Counter({0: 9955, 1: 551})\n",
            "Counter({0: 9955, 1: 551})\n"
          ]
        },
        {
          "output_type": "stream",
          "name": "stderr",
          "text": [
            "/usr/local/lib/python3.7/dist-packages/sklearn/externals/six.py:31: FutureWarning: The module is deprecated in version 0.21 and will be removed in version 0.23 since we've dropped support for Python 2.7. Please rely on the official version of six (https://pypi.org/project/six/).\n",
            "  \"(https://pypi.org/project/six/).\", FutureWarning)\n",
            "/usr/local/lib/python3.7/dist-packages/sklearn/utils/deprecation.py:144: FutureWarning: The sklearn.neighbors.base module is  deprecated in version 0.22 and will be removed in version 0.24. The corresponding classes / functions should instead be imported from sklearn.neighbors. Anything that cannot be imported from sklearn.neighbors is now part of the private API.\n",
            "  warnings.warn(message, FutureWarning)\n"
          ]
        }
      ]
    },
    {
      "cell_type": "code",
      "metadata": {
        "colab": {
          "base_uri": "https://localhost:8080/"
        },
        "id": "nAyY7LLmZt96",
        "outputId": "b8de3425-3d17-4a0f-d8d9-fd488cc1325b"
      },
      "source": [
        "X_train_smote, y_train_smote = smote.fit_resample(X_train,y_train)"
      ],
      "execution_count": 40,
      "outputs": [
        {
          "output_type": "stream",
          "name": "stderr",
          "text": [
            "/usr/local/lib/python3.7/dist-packages/sklearn/utils/deprecation.py:87: FutureWarning: Function safe_indexing is deprecated; safe_indexing is deprecated in version 0.22 and will be removed in version 0.24.\n",
            "  warnings.warn(msg, category=FutureWarning)\n",
            "/usr/local/lib/python3.7/dist-packages/sklearn/utils/deprecation.py:87: FutureWarning: Function safe_indexing is deprecated; safe_indexing is deprecated in version 0.22 and will be removed in version 0.24.\n",
            "  warnings.warn(msg, category=FutureWarning)\n",
            "/usr/local/lib/python3.7/dist-packages/sklearn/utils/deprecation.py:87: FutureWarning: Function safe_indexing is deprecated; safe_indexing is deprecated in version 0.22 and will be removed in version 0.24.\n",
            "  warnings.warn(msg, category=FutureWarning)\n",
            "/usr/local/lib/python3.7/dist-packages/sklearn/utils/deprecation.py:87: FutureWarning: Function safe_indexing is deprecated; safe_indexing is deprecated in version 0.22 and will be removed in version 0.24.\n",
            "  warnings.warn(msg, category=FutureWarning)\n"
          ]
        }
      ]
    },
    {
      "cell_type": "code",
      "metadata": {
        "colab": {
          "base_uri": "https://localhost:8080/"
        },
        "id": "Djqi0Y1ibauM",
        "outputId": "36335add-bd97-4dd6-ce83-1f12b5367bc7"
      },
      "source": [
        "print('Before SMNOTE :', np.bincount(y_train))\n",
        "print('After SMNOTE :', np.bincount(y_train_smote))"
      ],
      "execution_count": 41,
      "outputs": [
        {
          "output_type": "stream",
          "name": "stdout",
          "text": [
            "Before SMNOTE : [6968  386]\n",
            "After SMNOTE : [5587 5641]\n"
          ]
        }
      ]
    },
    {
      "cell_type": "code",
      "metadata": {
        "colab": {
          "base_uri": "https://localhost:8080/",
          "height": 230
        },
        "id": "DaEQzAR_ZwRS",
        "outputId": "50beecf2-42f8-482d-b3d3-cd12de664a38"
      },
      "source": [
        "xgb_s = run_model('xgb')"
      ],
      "execution_count": 42,
      "outputs": [
        {
          "output_type": "stream",
          "name": "stdout",
          "text": [
            "### METRICS ###\n"
          ]
        },
        {
          "output_type": "display_data",
          "data": {
            "text/plain": [
              "{'f_score': 0.2664796633941094,\n",
              " 'model': 'xgb',\n",
              " 'precision': 0.17335766423357665,\n",
              " 'recall': 0.5757575757575758,\n",
              " 'specificity': 0.8483428188818212,\n",
              " 'test_auc': 0.8251047468322327,\n",
              " 'train_auc': 0.989920014956086}"
            ]
          },
          "metadata": {}
        },
        {
          "output_type": "stream",
          "name": "stdout",
          "text": [
            "True Negatives: 2534\n",
            "False Positives: 453\n",
            "False Negatives: 70\n",
            "True Positives: 95\n"
          ]
        }
      ]
    },
    {
      "cell_type": "code",
      "metadata": {
        "colab": {
          "base_uri": "https://localhost:8080/",
          "height": 230
        },
        "id": "y75V2lF_Z66D",
        "outputId": "c0232b14-f59e-49a0-fd64-06e9d20b5cd5"
      },
      "source": [
        "rfc_s = run_model('rf')"
      ],
      "execution_count": 43,
      "outputs": [
        {
          "output_type": "stream",
          "name": "stdout",
          "text": [
            "### METRICS ###\n"
          ]
        },
        {
          "output_type": "display_data",
          "data": {
            "text/plain": [
              "{'f_score': 0.24766355140186916,\n",
              " 'model': 'rf',\n",
              " 'precision': 0.20152091254752852,\n",
              " 'recall': 0.3212121212121212,\n",
              " 'specificity': 0.9296953465015065,\n",
              " 'test_auc': 0.7627233161883313,\n",
              " 'train_auc': 1.0}"
            ]
          },
          "metadata": {}
        },
        {
          "output_type": "stream",
          "name": "stdout",
          "text": [
            "True Negatives: 2777\n",
            "False Positives: 210\n",
            "False Negatives: 112\n",
            "True Positives: 53\n"
          ]
        }
      ]
    },
    {
      "cell_type": "code",
      "metadata": {
        "colab": {
          "base_uri": "https://localhost:8080/",
          "height": 230
        },
        "id": "C0CNVOlcaErr",
        "outputId": "ba042042-1290-4461-fae1-4b0a119cc4aa"
      },
      "source": [
        "gb_s = run_model('gb')"
      ],
      "execution_count": 44,
      "outputs": [
        {
          "output_type": "stream",
          "name": "stdout",
          "text": [
            "### METRICS ###\n"
          ]
        },
        {
          "output_type": "display_data",
          "data": {
            "text/plain": [
              "{'f_score': 0.2563380281690141,\n",
              " 'model': 'gb',\n",
              " 'precision': 0.1669724770642202,\n",
              " 'recall': 0.5515151515151515,\n",
              " 'specificity': 0.8480080348175427,\n",
              " 'test_auc': 0.816553550232827,\n",
              " 'train_auc': 0.9911467306708629}"
            ]
          },
          "metadata": {}
        },
        {
          "output_type": "stream",
          "name": "stdout",
          "text": [
            "True Negatives: 2533\n",
            "False Positives: 454\n",
            "False Negatives: 74\n",
            "True Positives: 91\n"
          ]
        }
      ]
    },
    {
      "cell_type": "code",
      "metadata": {
        "colab": {
          "base_uri": "https://localhost:8080/",
          "height": 202
        },
        "id": "FkS7rbdearAi",
        "outputId": "a9690ae8-2542-4d89-c695-47e280df7deb"
      },
      "source": [
        "pd.DataFrame(init_list).sort_values(by='test_auc', ascending=False).reset_index(drop=True)"
      ],
      "execution_count": 45,
      "outputs": [
        {
          "output_type": "execute_result",
          "data": {
            "text/html": [
              "<div>\n",
              "<style scoped>\n",
              "    .dataframe tbody tr th:only-of-type {\n",
              "        vertical-align: middle;\n",
              "    }\n",
              "\n",
              "    .dataframe tbody tr th {\n",
              "        vertical-align: top;\n",
              "    }\n",
              "\n",
              "    .dataframe thead th {\n",
              "        text-align: right;\n",
              "    }\n",
              "</style>\n",
              "<table border=\"1\" class=\"dataframe\">\n",
              "  <thead>\n",
              "    <tr style=\"text-align: right;\">\n",
              "      <th></th>\n",
              "      <th>model</th>\n",
              "      <th>train_auc</th>\n",
              "      <th>test_auc</th>\n",
              "      <th>precision</th>\n",
              "      <th>specificity</th>\n",
              "      <th>recall</th>\n",
              "      <th>f_score</th>\n",
              "    </tr>\n",
              "  </thead>\n",
              "  <tbody>\n",
              "    <tr>\n",
              "      <th>0</th>\n",
              "      <td>xgb</td>\n",
              "      <td>0.889032</td>\n",
              "      <td>0.842757</td>\n",
              "      <td>1.000000</td>\n",
              "      <td>1.000000</td>\n",
              "      <td>0.006061</td>\n",
              "      <td>0.012048</td>\n",
              "    </tr>\n",
              "    <tr>\n",
              "      <th>1</th>\n",
              "      <td>xgb</td>\n",
              "      <td>0.989920</td>\n",
              "      <td>0.825105</td>\n",
              "      <td>0.173358</td>\n",
              "      <td>0.848343</td>\n",
              "      <td>0.575758</td>\n",
              "      <td>0.266480</td>\n",
              "    </tr>\n",
              "    <tr>\n",
              "      <th>2</th>\n",
              "      <td>gb</td>\n",
              "      <td>0.991147</td>\n",
              "      <td>0.816554</td>\n",
              "      <td>0.166972</td>\n",
              "      <td>0.848008</td>\n",
              "      <td>0.551515</td>\n",
              "      <td>0.256338</td>\n",
              "    </tr>\n",
              "    <tr>\n",
              "      <th>3</th>\n",
              "      <td>rf</td>\n",
              "      <td>0.986610</td>\n",
              "      <td>0.774272</td>\n",
              "      <td>0.323529</td>\n",
              "      <td>0.976900</td>\n",
              "      <td>0.200000</td>\n",
              "      <td>0.247191</td>\n",
              "    </tr>\n",
              "    <tr>\n",
              "      <th>4</th>\n",
              "      <td>rf</td>\n",
              "      <td>1.000000</td>\n",
              "      <td>0.762723</td>\n",
              "      <td>0.201521</td>\n",
              "      <td>0.929695</td>\n",
              "      <td>0.321212</td>\n",
              "      <td>0.247664</td>\n",
              "    </tr>\n",
              "  </tbody>\n",
              "</table>\n",
              "</div>"
            ],
            "text/plain": [
              "  model  train_auc  test_auc  precision  specificity    recall   f_score\n",
              "0   xgb   0.889032  0.842757   1.000000     1.000000  0.006061  0.012048\n",
              "1   xgb   0.989920  0.825105   0.173358     0.848343  0.575758  0.266480\n",
              "2    gb   0.991147  0.816554   0.166972     0.848008  0.551515  0.256338\n",
              "3    rf   0.986610  0.774272   0.323529     0.976900  0.200000  0.247191\n",
              "4    rf   1.000000  0.762723   0.201521     0.929695  0.321212  0.247664"
            ]
          },
          "metadata": {},
          "execution_count": 45
        }
      ]
    },
    {
      "cell_type": "code",
      "metadata": {
        "colab": {
          "base_uri": "https://localhost:8080/"
        },
        "id": "AG2ES1au5EZw",
        "outputId": "75277bc4-0327-4767-9a47-354a39908dfe"
      },
      "source": [
        "model = RandomForestClassifier(random_state = 42 , n_estimators = 1000)\n",
        "model.fit(X_train_smote , y_train_smote)"
      ],
      "execution_count": 46,
      "outputs": [
        {
          "output_type": "execute_result",
          "data": {
            "text/plain": [
              "RandomForestClassifier(bootstrap=True, ccp_alpha=0.0, class_weight=None,\n",
              "                       criterion='gini', max_depth=None, max_features='auto',\n",
              "                       max_leaf_nodes=None, max_samples=None,\n",
              "                       min_impurity_decrease=0.0, min_impurity_split=None,\n",
              "                       min_samples_leaf=1, min_samples_split=2,\n",
              "                       min_weight_fraction_leaf=0.0, n_estimators=1000,\n",
              "                       n_jobs=None, oob_score=False, random_state=42, verbose=0,\n",
              "                       warm_start=False)"
            ]
          },
          "metadata": {},
          "execution_count": 46
        }
      ]
    },
    {
      "cell_type": "markdown",
      "metadata": {
        "id": "lS_o56VYrflk"
      },
      "source": [
        "# 5.0 Preprocess test Data\n",
        "___"
      ]
    },
    {
      "cell_type": "code",
      "metadata": {
        "id": "fM2RTf8LzOgc"
      },
      "source": [
        "df_test = pd.read_csv('/content/test.csv')\n",
        "df_test = preprocess_date(df_test)\n",
        "\n",
        "df_test = pd.merge(df_test, df_weather , on=['Date', 'Year', 'WeekofYear', 'Month'] , how = 'left')\n",
        "df_test.drop(['AddressAccuracy','Address','Street','AddressNumberAndStreet'],axis=1,inplace=True)\n",
        "df_test.drop(['Water1','Depart','Depth','SnowFall','AvgSpeed','ResultSpeed','ResultDir','SeaLevel','StnPressure','CodeSum','Heat','Cool'],axis=1,inplace=True)"
      ],
      "execution_count": 47,
      "outputs": []
    },
    {
      "cell_type": "code",
      "metadata": {
        "id": "x-fMCHXoza_7"
      },
      "source": [
        "df_test_processed = preprocess_df(df_test)"
      ],
      "execution_count": 48,
      "outputs": []
    },
    {
      "cell_type": "code",
      "metadata": {
        "colab": {
          "base_uri": "https://localhost:8080/"
        },
        "id": "6omeXy-Zzswy",
        "outputId": "fcfe18c8-5f4f-4237-fb95-919d787349d4"
      },
      "source": [
        "df_test_processed_id = df_test_processed['Id']\n",
        "X_test = df_test_processed.drop(['Id' , 'Date'] , axis = 1)\n",
        "X_test.shape , X_train.shape"
      ],
      "execution_count": 49,
      "outputs": [
        {
          "output_type": "execute_result",
          "data": {
            "text/plain": [
              "((116293, 17), (7354, 17))"
            ]
          },
          "metadata": {},
          "execution_count": 49
        }
      ]
    },
    {
      "cell_type": "code",
      "metadata": {
        "id": "LoSCGsQx02Kq"
      },
      "source": [
        "y_pred = model.predict_proba(X_test)"
      ],
      "execution_count": 52,
      "outputs": []
    },
    {
      "cell_type": "code",
      "metadata": {
        "colab": {
          "base_uri": "https://localhost:8080/"
        },
        "id": "6UC3aNk4Altm",
        "outputId": "ba49ebee-e1c4-45b4-fa11-32a4cbd44f97"
      },
      "source": [
        "y_pred[: , 0]"
      ],
      "execution_count": 54,
      "outputs": [
        {
          "output_type": "execute_result",
          "data": {
            "text/plain": [
              "array([0.941, 0.964, 0.941, ..., 0.727, 0.727, 0.727])"
            ]
          },
          "metadata": {},
          "execution_count": 54
        }
      ]
    },
    {
      "cell_type": "code",
      "metadata": {
        "id": "8gUSfWyP1dY6"
      },
      "source": [
        "df_submission = pd.DataFrame({'Id' : df_test_processed_id,\n",
        "                              'WnvPresent' : y_pred[: , 0]})\n",
        "\n",
        "df_submission.to_csv(path_or_buf = 'df_submission.csv' , index = False)"
      ],
      "execution_count": 55,
      "outputs": []
    },
    {
      "cell_type": "code",
      "metadata": {
        "colab": {
          "base_uri": "https://localhost:8080/",
          "height": 414
        },
        "id": "4K0Ds-WQ8_Y-",
        "outputId": "061c8c77-a4f7-4f5e-bb33-0276a63a6e26"
      },
      "source": [
        "df_submission"
      ],
      "execution_count": 56,
      "outputs": [
        {
          "output_type": "execute_result",
          "data": {
            "text/html": [
              "<div>\n",
              "<style scoped>\n",
              "    .dataframe tbody tr th:only-of-type {\n",
              "        vertical-align: middle;\n",
              "    }\n",
              "\n",
              "    .dataframe tbody tr th {\n",
              "        vertical-align: top;\n",
              "    }\n",
              "\n",
              "    .dataframe thead th {\n",
              "        text-align: right;\n",
              "    }\n",
              "</style>\n",
              "<table border=\"1\" class=\"dataframe\">\n",
              "  <thead>\n",
              "    <tr style=\"text-align: right;\">\n",
              "      <th></th>\n",
              "      <th>Id</th>\n",
              "      <th>WnvPresent</th>\n",
              "    </tr>\n",
              "  </thead>\n",
              "  <tbody>\n",
              "    <tr>\n",
              "      <th>0</th>\n",
              "      <td>1</td>\n",
              "      <td>0.941</td>\n",
              "    </tr>\n",
              "    <tr>\n",
              "      <th>1</th>\n",
              "      <td>2</td>\n",
              "      <td>0.964</td>\n",
              "    </tr>\n",
              "    <tr>\n",
              "      <th>2</th>\n",
              "      <td>3</td>\n",
              "      <td>0.941</td>\n",
              "    </tr>\n",
              "    <tr>\n",
              "      <th>3</th>\n",
              "      <td>4</td>\n",
              "      <td>0.964</td>\n",
              "    </tr>\n",
              "    <tr>\n",
              "      <th>4</th>\n",
              "      <td>5</td>\n",
              "      <td>0.964</td>\n",
              "    </tr>\n",
              "    <tr>\n",
              "      <th>...</th>\n",
              "      <td>...</td>\n",
              "      <td>...</td>\n",
              "    </tr>\n",
              "    <tr>\n",
              "      <th>116288</th>\n",
              "      <td>116289</td>\n",
              "      <td>0.727</td>\n",
              "    </tr>\n",
              "    <tr>\n",
              "      <th>116289</th>\n",
              "      <td>116290</td>\n",
              "      <td>0.727</td>\n",
              "    </tr>\n",
              "    <tr>\n",
              "      <th>116290</th>\n",
              "      <td>116291</td>\n",
              "      <td>0.727</td>\n",
              "    </tr>\n",
              "    <tr>\n",
              "      <th>116291</th>\n",
              "      <td>116292</td>\n",
              "      <td>0.727</td>\n",
              "    </tr>\n",
              "    <tr>\n",
              "      <th>116292</th>\n",
              "      <td>116293</td>\n",
              "      <td>0.727</td>\n",
              "    </tr>\n",
              "  </tbody>\n",
              "</table>\n",
              "<p>116293 rows × 2 columns</p>\n",
              "</div>"
            ],
            "text/plain": [
              "            Id  WnvPresent\n",
              "0            1       0.941\n",
              "1            2       0.964\n",
              "2            3       0.941\n",
              "3            4       0.964\n",
              "4            5       0.964\n",
              "...        ...         ...\n",
              "116288  116289       0.727\n",
              "116289  116290       0.727\n",
              "116290  116291       0.727\n",
              "116291  116292       0.727\n",
              "116292  116293       0.727\n",
              "\n",
              "[116293 rows x 2 columns]"
            ]
          },
          "metadata": {},
          "execution_count": 56
        }
      ]
    },
    {
      "cell_type": "code",
      "metadata": {
        "colab": {
          "base_uri": "https://localhost:8080/"
        },
        "id": "7H6kfG63A5TV",
        "outputId": "6d1ef145-5b9d-4347-f216-3bb0580899ea"
      },
      "source": [
        "y_pred"
      ],
      "execution_count": 57,
      "outputs": [
        {
          "output_type": "execute_result",
          "data": {
            "text/plain": [
              "array([[0.941, 0.059],\n",
              "       [0.964, 0.036],\n",
              "       [0.941, 0.059],\n",
              "       ...,\n",
              "       [0.727, 0.273],\n",
              "       [0.727, 0.273],\n",
              "       [0.727, 0.273]])"
            ]
          },
          "metadata": {},
          "execution_count": 57
        }
      ]
    },
    {
      "cell_type": "code",
      "metadata": {
        "id": "CEQxkUiCBIZt"
      },
      "source": [
        ""
      ],
      "execution_count": null,
      "outputs": []
    }
  ]
}