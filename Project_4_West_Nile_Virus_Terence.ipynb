{
  "nbformat": 4,
  "nbformat_minor": 0,
  "metadata": {
    "colab": {
      "name": "Project 4 : West Nile Virus Terence.ipynb",
      "provenance": [],
      "collapsed_sections": [],
      "toc_visible": true,
      "include_colab_link": true
    },
    "kernelspec": {
      "name": "python3",
      "display_name": "Python 3"
    },
    "language_info": {
      "name": "python"
    }
  },
  "cells": [
    {
      "cell_type": "markdown",
      "metadata": {
        "id": "view-in-github",
        "colab_type": "text"
      },
      "source": [
        "<a href=\"https://colab.research.google.com/github/86lekwenshiung/West-Nile-Virus-Prediction/blob/main/Project_4_West_Nile_Virus_Terence.ipynb\" target=\"_parent\"><img src=\"https://colab.research.google.com/assets/colab-badge.svg\" alt=\"Open In Colab\"/></a>"
      ]
    },
    {
      "cell_type": "markdown",
      "metadata": {
        "id": "93hy_Hb-CqdW"
      },
      "source": [
        "# 0.0 Libraries Import\n",
        "___"
      ]
    },
    {
      "cell_type": "code",
      "metadata": {
        "id": "Sm0J3__y3ZV8"
      },
      "source": [
        "# General Utilities\n",
        "import datetime\n",
        "from datetime import date\n",
        "\n",
        "import pandas as pd\n",
        "import numpy as np\n",
        "import matplotlib.pyplot as plt\n",
        "import seaborn as sns\n",
        "\n",
        "from geopy.distance import geodesic\n",
        "import shapely\n",
        "from shapely.geometry import Point , MultiPoint\n",
        "from shapely.ops import nearest_points\n",
        "\n",
        "from sklearn.model_selection import train_test_split , GridSearchCV\n",
        "from sklearn.metrics import f1_score , recall_score , accuracy_score , precision_score , roc_auc_score , confusion_matrix\n",
        "from sklearn.ensemble import RandomForestClassifier , GradientBoostingClassifier , AdaBoostClassifier\n",
        "from xgboost import XGBClassifier\n",
        "from sklearn.linear_model import LogisticRegression\n",
        "from sklearn.pipeline import Pipeline\n",
        "from sklearn.preprocessing import StandardScaler\n",
        "\n",
        "# Machine Learning Libraries"
      ],
      "execution_count": 21,
      "outputs": []
    },
    {
      "cell_type": "markdown",
      "metadata": {
        "id": "XwV_TCE9-aty"
      },
      "source": [
        "# 1.0 Data Import\n",
        "___"
      ]
    },
    {
      "cell_type": "code",
      "metadata": {
        "colab": {
          "base_uri": "https://localhost:8080/"
        },
        "id": "9J_MvyoNBsnO",
        "outputId": "4ee83b57-f848-4b26-be99-2defa95df2cf"
      },
      "source": [
        "!wget https://raw.githubusercontent.com/86lekwenshiung/West-Nile-Virus-Prediction/main/dataset/train.csv\n",
        "!wget https://raw.githubusercontent.com/86lekwenshiung/West-Nile-Virus-Prediction/main/dataset/weather.csv\n",
        "!wget https://raw.githubusercontent.com/86lekwenshiung/West-Nile-Virus-Prediction/main/dataset/test.csv\n",
        "!wget https://raw.githubusercontent.com/86lekwenshiung/West-Nile-Virus-Prediction/main/dataset/spray.csv"
      ],
      "execution_count": 22,
      "outputs": [
        {
          "output_type": "stream",
          "name": "stdout",
          "text": [
            "--2021-11-02 06:57:00--  https://raw.githubusercontent.com/86lekwenshiung/West-Nile-Virus-Prediction/main/dataset/train.csv\n",
            "Resolving raw.githubusercontent.com (raw.githubusercontent.com)... 185.199.111.133, 185.199.110.133, 185.199.108.133, ...\n",
            "Connecting to raw.githubusercontent.com (raw.githubusercontent.com)|185.199.111.133|:443... connected.\n",
            "HTTP request sent, awaiting response... 200 OK\n",
            "Length: 1797335 (1.7M) [text/plain]\n",
            "Saving to: ‘train.csv.5’\n",
            "\n",
            "\rtrain.csv.5           0%[                    ]       0  --.-KB/s               \rtrain.csv.5         100%[===================>]   1.71M  --.-KB/s    in 0.03s   \n",
            "\n",
            "2021-11-02 06:57:00 (65.1 MB/s) - ‘train.csv.5’ saved [1797335/1797335]\n",
            "\n",
            "--2021-11-02 06:57:00--  https://raw.githubusercontent.com/86lekwenshiung/West-Nile-Virus-Prediction/main/dataset/weather.csv\n",
            "Resolving raw.githubusercontent.com (raw.githubusercontent.com)... 185.199.108.133, 185.199.109.133, 185.199.110.133, ...\n",
            "Connecting to raw.githubusercontent.com (raw.githubusercontent.com)|185.199.108.133|:443... connected.\n",
            "HTTP request sent, awaiting response... 200 OK\n",
            "Length: 358139 (350K) [text/plain]\n",
            "Saving to: ‘weather.csv.5’\n",
            "\n",
            "weather.csv.5       100%[===================>] 349.75K  --.-KB/s    in 0.01s   \n",
            "\n",
            "2021-11-02 06:57:00 (24.6 MB/s) - ‘weather.csv.5’ saved [358139/358139]\n",
            "\n",
            "--2021-11-02 06:57:00--  https://raw.githubusercontent.com/86lekwenshiung/West-Nile-Virus-Prediction/main/dataset/test.csv\n",
            "Resolving raw.githubusercontent.com (raw.githubusercontent.com)... 185.199.111.133, 185.199.110.133, 185.199.108.133, ...\n",
            "Connecting to raw.githubusercontent.com (raw.githubusercontent.com)|185.199.111.133|:443... connected.\n",
            "HTTP request sent, awaiting response... 200 OK\n",
            "Length: 20033097 (19M) [text/plain]\n",
            "Saving to: ‘test.csv.5’\n",
            "\n",
            "test.csv.5          100%[===================>]  19.10M  --.-KB/s    in 0.09s   \n",
            "\n",
            "2021-11-02 06:57:01 (205 MB/s) - ‘test.csv.5’ saved [20033097/20033097]\n",
            "\n",
            "--2021-11-02 06:57:01--  https://raw.githubusercontent.com/86lekwenshiung/West-Nile-Virus-Prediction/main/dataset/spray.csv\n",
            "Resolving raw.githubusercontent.com (raw.githubusercontent.com)... 185.199.110.133, 185.199.108.133, 185.199.109.133, ...\n",
            "Connecting to raw.githubusercontent.com (raw.githubusercontent.com)|185.199.110.133|:443... connected.\n",
            "HTTP request sent, awaiting response... 200 OK\n",
            "Length: 796163 (778K) [text/plain]\n",
            "Saving to: ‘spray.csv.5’\n",
            "\n",
            "spray.csv.5         100%[===================>] 777.50K  --.-KB/s    in 0.02s   \n",
            "\n",
            "2021-11-02 06:57:01 (39.1 MB/s) - ‘spray.csv.5’ saved [796163/796163]\n",
            "\n"
          ]
        }
      ]
    },
    {
      "cell_type": "markdown",
      "metadata": {
        "id": "7mu32D3S-uIQ"
      },
      "source": [
        "### 1.1 Data Exploration on Train Dataset\n",
        "___"
      ]
    },
    {
      "cell_type": "code",
      "metadata": {
        "id": "bV0EIVbnBucn"
      },
      "source": [
        "df_train = pd.read_csv('/content/train.csv')\n",
        "df_test = pd.read_csv('/content/test.csv')\n",
        "df_spray = pd.read_csv('/content/spray.csv')\n",
        "df_weather = pd.read_csv('/content/weather.csv')"
      ],
      "execution_count": 23,
      "outputs": []
    },
    {
      "cell_type": "markdown",
      "metadata": {
        "id": "fcsWrIAIHD85"
      },
      "source": [
        "#3.0 Feature Creation & Data Preprocessing\n",
        "___"
      ]
    },
    {
      "cell_type": "markdown",
      "metadata": {
        "id": "OkpNLZCR7AYk"
      },
      "source": [
        "### 3.1 Date Features\n",
        "___"
      ]
    },
    {
      "cell_type": "code",
      "metadata": {
        "id": "5ePgVcdR2rme"
      },
      "source": [
        "def preprocess_date(df):\n",
        "  df['Year'] = pd.to_datetime(df['Date']).dt.year\n",
        "  df['Month'] = pd.to_datetime(df['Date']).dt.month\n",
        "  df['WeekofYear'] = pd.to_datetime(df['Date']).dt.isocalendar().week\n",
        "\n",
        "  return df"
      ],
      "execution_count": 24,
      "outputs": []
    },
    {
      "cell_type": "code",
      "metadata": {
        "id": "8Lsvv_-dHwgA"
      },
      "source": [
        "df_train = preprocess_date(df_train)\n",
        "df_spray = preprocess_date(df_spray)\n",
        "df_weather = preprocess_date(df_weather)"
      ],
      "execution_count": 25,
      "outputs": []
    },
    {
      "cell_type": "code",
      "metadata": {
        "colab": {
          "base_uri": "https://localhost:8080/",
          "height": 206
        },
        "id": "tXA2q8xq5phN",
        "outputId": "8a295ee1-790e-470d-e09d-d06847355002"
      },
      "source": [
        "df_spray[df_spray.duplicated()].head()"
      ],
      "execution_count": 26,
      "outputs": [
        {
          "output_type": "execute_result",
          "data": {
            "text/html": [
              "<div>\n",
              "<style scoped>\n",
              "    .dataframe tbody tr th:only-of-type {\n",
              "        vertical-align: middle;\n",
              "    }\n",
              "\n",
              "    .dataframe tbody tr th {\n",
              "        vertical-align: top;\n",
              "    }\n",
              "\n",
              "    .dataframe thead th {\n",
              "        text-align: right;\n",
              "    }\n",
              "</style>\n",
              "<table border=\"1\" class=\"dataframe\">\n",
              "  <thead>\n",
              "    <tr style=\"text-align: right;\">\n",
              "      <th></th>\n",
              "      <th>Date</th>\n",
              "      <th>Time</th>\n",
              "      <th>Latitude</th>\n",
              "      <th>Longitude</th>\n",
              "      <th>Year</th>\n",
              "      <th>Month</th>\n",
              "      <th>WeekofYear</th>\n",
              "    </tr>\n",
              "  </thead>\n",
              "  <tbody>\n",
              "    <tr>\n",
              "      <th>485</th>\n",
              "      <td>2011-09-07</td>\n",
              "      <td>7:43:40 PM</td>\n",
              "      <td>41.983917</td>\n",
              "      <td>-87.793088</td>\n",
              "      <td>2011</td>\n",
              "      <td>9</td>\n",
              "      <td>36</td>\n",
              "    </tr>\n",
              "    <tr>\n",
              "      <th>490</th>\n",
              "      <td>2011-09-07</td>\n",
              "      <td>7:44:32 PM</td>\n",
              "      <td>41.986460</td>\n",
              "      <td>-87.794225</td>\n",
              "      <td>2011</td>\n",
              "      <td>9</td>\n",
              "      <td>36</td>\n",
              "    </tr>\n",
              "    <tr>\n",
              "      <th>491</th>\n",
              "      <td>2011-09-07</td>\n",
              "      <td>7:44:32 PM</td>\n",
              "      <td>41.986460</td>\n",
              "      <td>-87.794225</td>\n",
              "      <td>2011</td>\n",
              "      <td>9</td>\n",
              "      <td>36</td>\n",
              "    </tr>\n",
              "    <tr>\n",
              "      <th>492</th>\n",
              "      <td>2011-09-07</td>\n",
              "      <td>7:44:32 PM</td>\n",
              "      <td>41.986460</td>\n",
              "      <td>-87.794225</td>\n",
              "      <td>2011</td>\n",
              "      <td>9</td>\n",
              "      <td>36</td>\n",
              "    </tr>\n",
              "    <tr>\n",
              "      <th>493</th>\n",
              "      <td>2011-09-07</td>\n",
              "      <td>7:44:32 PM</td>\n",
              "      <td>41.986460</td>\n",
              "      <td>-87.794225</td>\n",
              "      <td>2011</td>\n",
              "      <td>9</td>\n",
              "      <td>36</td>\n",
              "    </tr>\n",
              "  </tbody>\n",
              "</table>\n",
              "</div>"
            ],
            "text/plain": [
              "           Date        Time   Latitude  Longitude  Year  Month  WeekofYear\n",
              "485  2011-09-07  7:43:40 PM  41.983917 -87.793088  2011      9          36\n",
              "490  2011-09-07  7:44:32 PM  41.986460 -87.794225  2011      9          36\n",
              "491  2011-09-07  7:44:32 PM  41.986460 -87.794225  2011      9          36\n",
              "492  2011-09-07  7:44:32 PM  41.986460 -87.794225  2011      9          36\n",
              "493  2011-09-07  7:44:32 PM  41.986460 -87.794225  2011      9          36"
            ]
          },
          "metadata": {},
          "execution_count": 26
        }
      ]
    },
    {
      "cell_type": "code",
      "metadata": {
        "id": "3aobI9ie3TaH"
      },
      "source": [
        "# Drop off Time from df_spray\n",
        "# Drop off duplicate from df_spray\n",
        "\n",
        "df_spray.drop('Time' , axis  = 1 , inplace = True)\n",
        "df_spray.drop_duplicates(keep = 'first' , inplace = True)"
      ],
      "execution_count": 27,
      "outputs": []
    },
    {
      "cell_type": "code",
      "metadata": {
        "colab": {
          "base_uri": "https://localhost:8080/",
          "height": 224
        },
        "id": "4-33K39MoqxU",
        "outputId": "fbfd3490-f31b-4e8a-94d3-677a38495d34"
      },
      "source": [
        "print(df_spray.shape)\n",
        "df_spray.head()"
      ],
      "execution_count": 28,
      "outputs": [
        {
          "output_type": "stream",
          "name": "stdout",
          "text": [
            "(14294, 6)\n"
          ]
        },
        {
          "output_type": "execute_result",
          "data": {
            "text/html": [
              "<div>\n",
              "<style scoped>\n",
              "    .dataframe tbody tr th:only-of-type {\n",
              "        vertical-align: middle;\n",
              "    }\n",
              "\n",
              "    .dataframe tbody tr th {\n",
              "        vertical-align: top;\n",
              "    }\n",
              "\n",
              "    .dataframe thead th {\n",
              "        text-align: right;\n",
              "    }\n",
              "</style>\n",
              "<table border=\"1\" class=\"dataframe\">\n",
              "  <thead>\n",
              "    <tr style=\"text-align: right;\">\n",
              "      <th></th>\n",
              "      <th>Date</th>\n",
              "      <th>Latitude</th>\n",
              "      <th>Longitude</th>\n",
              "      <th>Year</th>\n",
              "      <th>Month</th>\n",
              "      <th>WeekofYear</th>\n",
              "    </tr>\n",
              "  </thead>\n",
              "  <tbody>\n",
              "    <tr>\n",
              "      <th>0</th>\n",
              "      <td>2011-08-29</td>\n",
              "      <td>42.391623</td>\n",
              "      <td>-88.089163</td>\n",
              "      <td>2011</td>\n",
              "      <td>8</td>\n",
              "      <td>35</td>\n",
              "    </tr>\n",
              "    <tr>\n",
              "      <th>1</th>\n",
              "      <td>2011-08-29</td>\n",
              "      <td>42.391348</td>\n",
              "      <td>-88.089163</td>\n",
              "      <td>2011</td>\n",
              "      <td>8</td>\n",
              "      <td>35</td>\n",
              "    </tr>\n",
              "    <tr>\n",
              "      <th>2</th>\n",
              "      <td>2011-08-29</td>\n",
              "      <td>42.391022</td>\n",
              "      <td>-88.089157</td>\n",
              "      <td>2011</td>\n",
              "      <td>8</td>\n",
              "      <td>35</td>\n",
              "    </tr>\n",
              "    <tr>\n",
              "      <th>3</th>\n",
              "      <td>2011-08-29</td>\n",
              "      <td>42.390637</td>\n",
              "      <td>-88.089158</td>\n",
              "      <td>2011</td>\n",
              "      <td>8</td>\n",
              "      <td>35</td>\n",
              "    </tr>\n",
              "    <tr>\n",
              "      <th>4</th>\n",
              "      <td>2011-08-29</td>\n",
              "      <td>42.390410</td>\n",
              "      <td>-88.088858</td>\n",
              "      <td>2011</td>\n",
              "      <td>8</td>\n",
              "      <td>35</td>\n",
              "    </tr>\n",
              "  </tbody>\n",
              "</table>\n",
              "</div>"
            ],
            "text/plain": [
              "         Date   Latitude  Longitude  Year  Month  WeekofYear\n",
              "0  2011-08-29  42.391623 -88.089163  2011      8          35\n",
              "1  2011-08-29  42.391348 -88.089163  2011      8          35\n",
              "2  2011-08-29  42.391022 -88.089157  2011      8          35\n",
              "3  2011-08-29  42.390637 -88.089158  2011      8          35\n",
              "4  2011-08-29  42.390410 -88.088858  2011      8          35"
            ]
          },
          "metadata": {},
          "execution_count": 28
        }
      ]
    },
    {
      "cell_type": "code",
      "metadata": {
        "id": "xAMESu6RGcr4",
        "colab": {
          "base_uri": "https://localhost:8080/",
          "height": 632
        },
        "outputId": "4c6f4b3f-a8b6-4761-870b-6b35b33e4624"
      },
      "source": [
        "df_spray['Date'].astype('datetime64').value_counts().sort_index().plot(kind = 'bar' , figsize = (16,9));"
      ],
      "execution_count": 29,
      "outputs": [
        {
          "output_type": "display_data",
          "data": {
            "image/png": "[encoded data removed]",
            "text/plain": [
              "<Figure size 1152x648 with 1 Axes>"
            ]
          },
          "metadata": {
            "needs_background": "light"
          }
        }
      ]
    },
    {
      "cell_type": "markdown",
      "metadata": {
        "id": "GlW1JIn015V1"
      },
      "source": [
        "### 3.2 Spray Cluster\n",
        "___"
      ]
    },
    {
      "cell_type": "code",
      "metadata": {
        "id": "PpkMzbaJ7I87"
      },
      "source": [
        "df_spray['spray coordinate'] = [Point(x,y) for x,y in zip(df_spray['Latitude'] , df_spray['Longitude'])]"
      ],
      "execution_count": 30,
      "outputs": []
    },
    {
      "cell_type": "code",
      "metadata": {
        "id": "TUhR9TjLCLep"
      },
      "source": [
        "# Create trap coordinate \n",
        "df_train['trap coordinate'] = [Point(x,y) for x,y in zip(df_train['Latitude'] , df_train['Longitude'])]\n",
        "\n",
        "# Create Spray coordinate\n",
        "df_spray['spray coordinate'] = [Point(x,y) for x,y in zip(df_spray['Latitude'] , df_spray['Longitude'])]\n",
        "\n",
        "# Convert spray coodinate to multipoint\n",
        "spray_coord = MultiPoint(df_spray['spray coordinate'].to_list())"
      ],
      "execution_count": 31,
      "outputs": []
    },
    {
      "cell_type": "code",
      "metadata": {
        "id": "EEpXvpPQTFWr"
      },
      "source": [
        "dist = []\n",
        "\n",
        "for trap_coord in df_train['trap coordinate']:\n",
        "\n",
        "  nearest = nearest_points(trap_coord , spray_coord)\n",
        "\n",
        "  a , b = (trap_coord.x , trap_coord.y) , (nearest[1].x , nearest[1].y)\n",
        "\n",
        "  dist.append(geodesic(a,b).m)\n",
        "\n",
        "# add distance to trap locations\n",
        "df_train['dist_spray'] = dist\n",
        "df_train['sprayed'] = df_train['dist_spray'].apply(lambda x: 0 if x > 500 else 1)"
      ],
      "execution_count": 32,
      "outputs": []
    },
    {
      "cell_type": "code",
      "metadata": {
        "colab": {
          "base_uri": "https://localhost:8080/"
        },
        "id": "NhToUjFT81I-",
        "outputId": "77b81875-b28a-4cfd-e2b9-39023d13764d"
      },
      "source": [
        "df_train['sprayed'].value_counts()"
      ],
      "execution_count": 33,
      "outputs": [
        {
          "output_type": "execute_result",
          "data": {
            "text/plain": [
              "0    7450\n",
              "1    3056\n",
              "Name: sprayed, dtype: int64"
            ]
          },
          "metadata": {},
          "execution_count": 33
        }
      ]
    },
    {
      "cell_type": "code",
      "metadata": {
        "colab": {
          "base_uri": "https://localhost:8080/",
          "height": 206
        },
        "id": "u5I-1mQG8M5l",
        "outputId": "ee0da5a4-36df-487e-8fb4-f080c4385dd8"
      },
      "source": [
        "df_spray.head()"
      ],
      "execution_count": 34,
      "outputs": [
        {
          "output_type": "execute_result",
          "data": {
            "text/html": [
              "<div>\n",
              "<style scoped>\n",
              "    .dataframe tbody tr th:only-of-type {\n",
              "        vertical-align: middle;\n",
              "    }\n",
              "\n",
              "    .dataframe tbody tr th {\n",
              "        vertical-align: top;\n",
              "    }\n",
              "\n",
              "    .dataframe thead th {\n",
              "        text-align: right;\n",
              "    }\n",
              "</style>\n",
              "<table border=\"1\" class=\"dataframe\">\n",
              "  <thead>\n",
              "    <tr style=\"text-align: right;\">\n",
              "      <th></th>\n",
              "      <th>Date</th>\n",
              "      <th>Latitude</th>\n",
              "      <th>Longitude</th>\n",
              "      <th>Year</th>\n",
              "      <th>Month</th>\n",
              "      <th>WeekofYear</th>\n",
              "      <th>spray coordinate</th>\n",
              "    </tr>\n",
              "  </thead>\n",
              "  <tbody>\n",
              "    <tr>\n",
              "      <th>0</th>\n",
              "      <td>2011-08-29</td>\n",
              "      <td>42.391623</td>\n",
              "      <td>-88.089163</td>\n",
              "      <td>2011</td>\n",
              "      <td>8</td>\n",
              "      <td>35</td>\n",
              "      <td>POINT (42.3916233333333 -88.0891633333333)</td>\n",
              "    </tr>\n",
              "    <tr>\n",
              "      <th>1</th>\n",
              "      <td>2011-08-29</td>\n",
              "      <td>42.391348</td>\n",
              "      <td>-88.089163</td>\n",
              "      <td>2011</td>\n",
              "      <td>8</td>\n",
              "      <td>35</td>\n",
              "      <td>POINT (42.3913483333333 -88.0891633333333)</td>\n",
              "    </tr>\n",
              "    <tr>\n",
              "      <th>2</th>\n",
              "      <td>2011-08-29</td>\n",
              "      <td>42.391022</td>\n",
              "      <td>-88.089157</td>\n",
              "      <td>2011</td>\n",
              "      <td>8</td>\n",
              "      <td>35</td>\n",
              "      <td>POINT (42.3910216666667 -88.0891566666667)</td>\n",
              "    </tr>\n",
              "    <tr>\n",
              "      <th>3</th>\n",
              "      <td>2011-08-29</td>\n",
              "      <td>42.390637</td>\n",
              "      <td>-88.089158</td>\n",
              "      <td>2011</td>\n",
              "      <td>8</td>\n",
              "      <td>35</td>\n",
              "      <td>POINT (42.3906366666667 -88.0891583333333)</td>\n",
              "    </tr>\n",
              "    <tr>\n",
              "      <th>4</th>\n",
              "      <td>2011-08-29</td>\n",
              "      <td>42.390410</td>\n",
              "      <td>-88.088858</td>\n",
              "      <td>2011</td>\n",
              "      <td>8</td>\n",
              "      <td>35</td>\n",
              "      <td>POINT (42.39041 -88.08885833333331)</td>\n",
              "    </tr>\n",
              "  </tbody>\n",
              "</table>\n",
              "</div>"
            ],
            "text/plain": [
              "         Date  ...                            spray coordinate\n",
              "0  2011-08-29  ...  POINT (42.3916233333333 -88.0891633333333)\n",
              "1  2011-08-29  ...  POINT (42.3913483333333 -88.0891633333333)\n",
              "2  2011-08-29  ...  POINT (42.3910216666667 -88.0891566666667)\n",
              "3  2011-08-29  ...  POINT (42.3906366666667 -88.0891583333333)\n",
              "4  2011-08-29  ...         POINT (42.39041 -88.08885833333331)\n",
              "\n",
              "[5 rows x 7 columns]"
            ]
          },
          "metadata": {},
          "execution_count": 34
        }
      ]
    },
    {
      "cell_type": "markdown",
      "metadata": {
        "id": "t2pG9ddGTECe"
      },
      "source": [
        "### 3.3 Weather DF\n",
        "___"
      ]
    },
    {
      "cell_type": "code",
      "metadata": {
        "colab": {
          "base_uri": "https://localhost:8080/"
        },
        "id": "x7HcCMj5THUe",
        "outputId": "5ad25877-5254-4be3-cf51-369a28858fce"
      },
      "source": [
        "# replace trace and missing precip with 0s\n",
        "df_weather.PrecipTotal.replace(['  T','M'],0,inplace=True)\n",
        "df_weather.PrecipTotal = df_weather.PrecipTotal.astype(float)\n",
        "\n",
        "# check number of rows with missing avg temp\n",
        "print(df_weather.Tavg.value_counts()['M'])\n",
        "\n",
        "# imputing Tavg manually (increases accuracy)\n",
        "df_weather.Tavg = (df_weather.Tmax + df_weather.Tmin)/2\n",
        "df_weather.Tavg = df_weather.Tavg.astype(float)"
      ],
      "execution_count": 35,
      "outputs": [
        {
          "output_type": "stream",
          "name": "stdout",
          "text": [
            "11\n"
          ]
        }
      ]
    },
    {
      "cell_type": "code",
      "metadata": {
        "id": "HKtAytgmTQyu"
      },
      "source": [
        "df_train = pd.merge(df_train, df_weather , on=['Date', 'Year', 'WeekofYear', 'Month'] , how = 'left')"
      ],
      "execution_count": 36,
      "outputs": []
    },
    {
      "cell_type": "code",
      "metadata": {
        "colab": {
          "base_uri": "https://localhost:8080/"
        },
        "id": "354xYNQwTkFO",
        "outputId": "dbf41951-996c-4455-cfe4-b143a8c86dae"
      },
      "source": [
        "# Note that shape changes to double because there are 2 stations for a single coordinate.\n",
        "\n",
        "print('DF weather shape :' ,  df_weather.shape)\n",
        "print('DF train shape :' ,  df_train.shape)"
      ],
      "execution_count": 37,
      "outputs": [
        {
          "output_type": "stream",
          "name": "stdout",
          "text": [
            "DF weather shape : (2944, 25)\n",
            "DF train shape : (21012, 39)\n"
          ]
        }
      ]
    },
    {
      "cell_type": "markdown",
      "metadata": {
        "id": "mXyYYRQmHs5x"
      },
      "source": [
        "# 4.0 Preprocessing Dataframe\n",
        "___"
      ]
    },
    {
      "cell_type": "markdown",
      "metadata": {
        "id": "tWws-WOXL1po"
      },
      "source": [
        "### 4.1 Dropping Redundant Col\n",
        "___"
      ]
    },
    {
      "cell_type": "code",
      "metadata": {
        "id": "yA4H279ZLPjw"
      },
      "source": [
        "df_train.drop(['AddressAccuracy','Address','Street','AddressNumberAndStreet'],axis=1,inplace=True)\n",
        "df_train.drop(['Water1','Depart','Depth','SnowFall','AvgSpeed','ResultSpeed','ResultDir','SeaLevel','StnPressure','CodeSum','Heat','Cool'],axis=1,inplace=True)\n",
        "df_train.drop(['trap coordinate'],axis=1,inplace=True)"
      ],
      "execution_count": 38,
      "outputs": []
    },
    {
      "cell_type": "code",
      "metadata": {
        "colab": {
          "base_uri": "https://localhost:8080/"
        },
        "id": "9wiOvz0vMS44",
        "outputId": "fd2f6303-704b-4426-81a8-0990d7d7318a"
      },
      "source": [
        "df_train.columns"
      ],
      "execution_count": 39,
      "outputs": [
        {
          "output_type": "execute_result",
          "data": {
            "text/plain": [
              "Index(['Date', 'Species', 'Block', 'Trap', 'Latitude', 'Longitude',\n",
              "       'NumMosquitos', 'WnvPresent', 'Year', 'Month', 'WeekofYear',\n",
              "       'dist_spray', 'sprayed', 'Station', 'Tmax', 'Tmin', 'Tavg', 'DewPoint',\n",
              "       'WetBulb', 'Sunrise', 'Sunset', 'PrecipTotal'],\n",
              "      dtype='object')"
            ]
          },
          "metadata": {},
          "execution_count": 39
        }
      ]
    },
    {
      "cell_type": "markdown",
      "metadata": {
        "id": "mH1UUe6NOdpO"
      },
      "source": [
        "### 4.2 Preprocessing Dataframe\n",
        "___"
      ]
    },
    {
      "cell_type": "code",
      "metadata": {
        "id": "XgSmRUsiLd2f"
      },
      "source": [
        "def preprocess_df(df):\n",
        "  df['NumMosquitos'] = df['NumMosquitos'].fillna(0)\n",
        "  df['WnvPresent'] = df['WnvPresent'].fillna(0)\n",
        "  df['Species'] = df['Species'].map({'CULEX PIPIENS/RESTUANS': 2, 'CULEX PIPIENS': 2, 'CULEX RESTUANS': 1}) \\\n",
        "                                   .fillna(0)\n",
        "\n",
        "  df = pd.get_dummies(df, columns=['Trap'])\n",
        "  df.isin(['-']).sum()[df.isin(['-']).sum() > 0].sort_values(ascending=False)\n",
        "  df['Sunrise'] = np.where(df['Sunrise'].isin(['-']), 0 ,df['Sunrise'])\n",
        "  df['Sunset'] = np.where(df['Sunset'].isin(['-']), 0 ,df['Sunset'])\n",
        "  df['WetBulb'] = np.where(df['Sunset'].isin(['-']) , 0 , df['Sunset'])\n",
        "  df['WetBulb'] = np.where(df['WetBulb'].isin(['M']) , df['WetBulb'].mode() , df['WetBulb'])\n",
        "\n",
        "  return df                                     "
      ],
      "execution_count": 40,
      "outputs": []
    },
    {
      "cell_type": "code",
      "metadata": {
        "id": "biBIcWazLga7"
      },
      "source": [
        "df_train_processed = preprocess_df(df_train)"
      ],
      "execution_count": 41,
      "outputs": []
    },
    {
      "cell_type": "code",
      "metadata": {
        "id": "n41vYMMFNgw3"
      },
      "source": [
        "X = df_train_processed.drop(['Date','WnvPresent'], axis=1)\n",
        "y = df_train_processed['WnvPresent']"
      ],
      "execution_count": 42,
      "outputs": []
    },
    {
      "cell_type": "code",
      "metadata": {
        "colab": {
          "base_uri": "https://localhost:8080/",
          "height": 262
        },
        "id": "djFc56ZcOLA3",
        "outputId": "e54f61a9-007d-4706-f6ee-58c988b31445"
      },
      "source": [
        "y.value_counts().plot(kind = 'bar');"
      ],
      "execution_count": 43,
      "outputs": [
        {
          "output_type": "display_data",
          "data": {
            "image/png": "[encoded data removed]",
            "text/plain": [
              "<Figure size 432x288 with 1 Axes>"
            ]
          },
          "metadata": {
            "needs_background": "light"
          }
        }
      ]
    },
    {
      "cell_type": "markdown",
      "metadata": {
        "id": "SvfRiAHkQV82"
      },
      "source": [
        "### 4.3 Fitting into Model (Baseline No Smote)\n",
        "___"
      ]
    },
    {
      "cell_type": "code",
      "metadata": {
        "id": "XD8l6837Osum"
      },
      "source": [
        "X_train, X_test, y_train, y_test = train_test_split(X, y, test_size=0.3, stratify=y, random_state=42)"
      ],
      "execution_count": 44,
      "outputs": []
    },
    {
      "cell_type": "code",
      "metadata": {
        "id": "49xZujITOy7e"
      },
      "source": [
        "X_train_smote, y_train_smote = X_train , y_train"
      ],
      "execution_count": 45,
      "outputs": []
    },
    {
      "cell_type": "code",
      "metadata": {
        "colab": {
          "base_uri": "https://localhost:8080/",
          "height": 617
        },
        "id": "-I2kuoo1SMW1",
        "outputId": "1a56f581-f54a-4d20-d0f8-da7153be6f4c"
      },
      "source": [
        "df_train_processed"
      ],
      "execution_count": 46,
      "outputs": [
        {
          "output_type": "execute_result",
          "data": {
            "text/html": [
              "<div>\n",
              "<style scoped>\n",
              "    .dataframe tbody tr th:only-of-type {\n",
              "        vertical-align: middle;\n",
              "    }\n",
              "\n",
              "    .dataframe tbody tr th {\n",
              "        vertical-align: top;\n",
              "    }\n",
              "\n",
              "    .dataframe thead th {\n",
              "        text-align: right;\n",
              "    }\n",
              "</style>\n",
              "<table border=\"1\" class=\"dataframe\">\n",
              "  <thead>\n",
              "    <tr style=\"text-align: right;\">\n",
              "      <th></th>\n",
              "      <th>Date</th>\n",
              "      <th>Species</th>\n",
              "      <th>Block</th>\n",
              "      <th>Latitude</th>\n",
              "      <th>Longitude</th>\n",
              "      <th>NumMosquitos</th>\n",
              "      <th>WnvPresent</th>\n",
              "      <th>Year</th>\n",
              "      <th>Month</th>\n",
              "      <th>WeekofYear</th>\n",
              "      <th>dist_spray</th>\n",
              "      <th>sprayed</th>\n",
              "      <th>Station</th>\n",
              "      <th>Tmax</th>\n",
              "      <th>Tmin</th>\n",
              "      <th>Tavg</th>\n",
              "      <th>DewPoint</th>\n",
              "      <th>WetBulb</th>\n",
              "      <th>Sunrise</th>\n",
              "      <th>Sunset</th>\n",
              "      <th>PrecipTotal</th>\n",
              "      <th>Trap_T001</th>\n",
              "      <th>Trap_T002</th>\n",
              "      <th>Trap_T003</th>\n",
              "      <th>Trap_T004</th>\n",
              "      <th>Trap_T005</th>\n",
              "      <th>Trap_T006</th>\n",
              "      <th>Trap_T007</th>\n",
              "      <th>Trap_T008</th>\n",
              "      <th>Trap_T009</th>\n",
              "      <th>Trap_T011</th>\n",
              "      <th>Trap_T012</th>\n",
              "      <th>Trap_T013</th>\n",
              "      <th>Trap_T014</th>\n",
              "      <th>Trap_T015</th>\n",
              "      <th>Trap_T016</th>\n",
              "      <th>Trap_T017</th>\n",
              "      <th>Trap_T018</th>\n",
              "      <th>Trap_T019</th>\n",
              "      <th>Trap_T025</th>\n",
              "      <th>...</th>\n",
              "      <th>Trap_T150</th>\n",
              "      <th>Trap_T151</th>\n",
              "      <th>Trap_T152</th>\n",
              "      <th>Trap_T153</th>\n",
              "      <th>Trap_T154</th>\n",
              "      <th>Trap_T155</th>\n",
              "      <th>Trap_T156</th>\n",
              "      <th>Trap_T157</th>\n",
              "      <th>Trap_T158</th>\n",
              "      <th>Trap_T159</th>\n",
              "      <th>Trap_T160</th>\n",
              "      <th>Trap_T161</th>\n",
              "      <th>Trap_T162</th>\n",
              "      <th>Trap_T200</th>\n",
              "      <th>Trap_T206</th>\n",
              "      <th>Trap_T209</th>\n",
              "      <th>Trap_T212</th>\n",
              "      <th>Trap_T215</th>\n",
              "      <th>Trap_T218</th>\n",
              "      <th>Trap_T219</th>\n",
              "      <th>Trap_T220</th>\n",
              "      <th>Trap_T221</th>\n",
              "      <th>Trap_T222</th>\n",
              "      <th>Trap_T223</th>\n",
              "      <th>Trap_T224</th>\n",
              "      <th>Trap_T225</th>\n",
              "      <th>Trap_T226</th>\n",
              "      <th>Trap_T227</th>\n",
              "      <th>Trap_T228</th>\n",
              "      <th>Trap_T229</th>\n",
              "      <th>Trap_T230</th>\n",
              "      <th>Trap_T231</th>\n",
              "      <th>Trap_T232</th>\n",
              "      <th>Trap_T233</th>\n",
              "      <th>Trap_T235</th>\n",
              "      <th>Trap_T236</th>\n",
              "      <th>Trap_T237</th>\n",
              "      <th>Trap_T238</th>\n",
              "      <th>Trap_T900</th>\n",
              "      <th>Trap_T903</th>\n",
              "    </tr>\n",
              "  </thead>\n",
              "  <tbody>\n",
              "    <tr>\n",
              "      <th>0</th>\n",
              "      <td>2007-05-29</td>\n",
              "      <td>2.0</td>\n",
              "      <td>41</td>\n",
              "      <td>41.954690</td>\n",
              "      <td>-87.800991</td>\n",
              "      <td>1</td>\n",
              "      <td>0</td>\n",
              "      <td>2007</td>\n",
              "      <td>5</td>\n",
              "      <td>22</td>\n",
              "      <td>255.770357</td>\n",
              "      <td>1</td>\n",
              "      <td>1</td>\n",
              "      <td>88</td>\n",
              "      <td>60</td>\n",
              "      <td>74.0</td>\n",
              "      <td>58</td>\n",
              "      <td>1917</td>\n",
              "      <td>0421</td>\n",
              "      <td>1917</td>\n",
              "      <td>0.0</td>\n",
              "      <td>0</td>\n",
              "      <td>1</td>\n",
              "      <td>0</td>\n",
              "      <td>0</td>\n",
              "      <td>0</td>\n",
              "      <td>0</td>\n",
              "      <td>0</td>\n",
              "      <td>0</td>\n",
              "      <td>0</td>\n",
              "      <td>0</td>\n",
              "      <td>0</td>\n",
              "      <td>0</td>\n",
              "      <td>0</td>\n",
              "      <td>0</td>\n",
              "      <td>0</td>\n",
              "      <td>0</td>\n",
              "      <td>0</td>\n",
              "      <td>0</td>\n",
              "      <td>0</td>\n",
              "      <td>...</td>\n",
              "      <td>0</td>\n",
              "      <td>0</td>\n",
              "      <td>0</td>\n",
              "      <td>0</td>\n",
              "      <td>0</td>\n",
              "      <td>0</td>\n",
              "      <td>0</td>\n",
              "      <td>0</td>\n",
              "      <td>0</td>\n",
              "      <td>0</td>\n",
              "      <td>0</td>\n",
              "      <td>0</td>\n",
              "      <td>0</td>\n",
              "      <td>0</td>\n",
              "      <td>0</td>\n",
              "      <td>0</td>\n",
              "      <td>0</td>\n",
              "      <td>0</td>\n",
              "      <td>0</td>\n",
              "      <td>0</td>\n",
              "      <td>0</td>\n",
              "      <td>0</td>\n",
              "      <td>0</td>\n",
              "      <td>0</td>\n",
              "      <td>0</td>\n",
              "      <td>0</td>\n",
              "      <td>0</td>\n",
              "      <td>0</td>\n",
              "      <td>0</td>\n",
              "      <td>0</td>\n",
              "      <td>0</td>\n",
              "      <td>0</td>\n",
              "      <td>0</td>\n",
              "      <td>0</td>\n",
              "      <td>0</td>\n",
              "      <td>0</td>\n",
              "      <td>0</td>\n",
              "      <td>0</td>\n",
              "      <td>0</td>\n",
              "      <td>0</td>\n",
              "    </tr>\n",
              "    <tr>\n",
              "      <th>1</th>\n",
              "      <td>2007-05-29</td>\n",
              "      <td>2.0</td>\n",
              "      <td>41</td>\n",
              "      <td>41.954690</td>\n",
              "      <td>-87.800991</td>\n",
              "      <td>1</td>\n",
              "      <td>0</td>\n",
              "      <td>2007</td>\n",
              "      <td>5</td>\n",
              "      <td>22</td>\n",
              "      <td>255.770357</td>\n",
              "      <td>1</td>\n",
              "      <td>2</td>\n",
              "      <td>88</td>\n",
              "      <td>65</td>\n",
              "      <td>76.5</td>\n",
              "      <td>59</td>\n",
              "      <td>0</td>\n",
              "      <td>0</td>\n",
              "      <td>0</td>\n",
              "      <td>0.0</td>\n",
              "      <td>0</td>\n",
              "      <td>1</td>\n",
              "      <td>0</td>\n",
              "      <td>0</td>\n",
              "      <td>0</td>\n",
              "      <td>0</td>\n",
              "      <td>0</td>\n",
              "      <td>0</td>\n",
              "      <td>0</td>\n",
              "      <td>0</td>\n",
              "      <td>0</td>\n",
              "      <td>0</td>\n",
              "      <td>0</td>\n",
              "      <td>0</td>\n",
              "      <td>0</td>\n",
              "      <td>0</td>\n",
              "      <td>0</td>\n",
              "      <td>0</td>\n",
              "      <td>0</td>\n",
              "      <td>...</td>\n",
              "      <td>0</td>\n",
              "      <td>0</td>\n",
              "      <td>0</td>\n",
              "      <td>0</td>\n",
              "      <td>0</td>\n",
              "      <td>0</td>\n",
              "      <td>0</td>\n",
              "      <td>0</td>\n",
              "      <td>0</td>\n",
              "      <td>0</td>\n",
              "      <td>0</td>\n",
              "      <td>0</td>\n",
              "      <td>0</td>\n",
              "      <td>0</td>\n",
              "      <td>0</td>\n",
              "      <td>0</td>\n",
              "      <td>0</td>\n",
              "      <td>0</td>\n",
              "      <td>0</td>\n",
              "      <td>0</td>\n",
              "      <td>0</td>\n",
              "      <td>0</td>\n",
              "      <td>0</td>\n",
              "      <td>0</td>\n",
              "      <td>0</td>\n",
              "      <td>0</td>\n",
              "      <td>0</td>\n",
              "      <td>0</td>\n",
              "      <td>0</td>\n",
              "      <td>0</td>\n",
              "      <td>0</td>\n",
              "      <td>0</td>\n",
              "      <td>0</td>\n",
              "      <td>0</td>\n",
              "      <td>0</td>\n",
              "      <td>0</td>\n",
              "      <td>0</td>\n",
              "      <td>0</td>\n",
              "      <td>0</td>\n",
              "      <td>0</td>\n",
              "    </tr>\n",
              "    <tr>\n",
              "      <th>2</th>\n",
              "      <td>2007-05-29</td>\n",
              "      <td>1.0</td>\n",
              "      <td>41</td>\n",
              "      <td>41.954690</td>\n",
              "      <td>-87.800991</td>\n",
              "      <td>1</td>\n",
              "      <td>0</td>\n",
              "      <td>2007</td>\n",
              "      <td>5</td>\n",
              "      <td>22</td>\n",
              "      <td>255.770357</td>\n",
              "      <td>1</td>\n",
              "      <td>1</td>\n",
              "      <td>88</td>\n",
              "      <td>60</td>\n",
              "      <td>74.0</td>\n",
              "      <td>58</td>\n",
              "      <td>1917</td>\n",
              "      <td>0421</td>\n",
              "      <td>1917</td>\n",
              "      <td>0.0</td>\n",
              "      <td>0</td>\n",
              "      <td>1</td>\n",
              "      <td>0</td>\n",
              "      <td>0</td>\n",
              "      <td>0</td>\n",
              "      <td>0</td>\n",
              "      <td>0</td>\n",
              "      <td>0</td>\n",
              "      <td>0</td>\n",
              "      <td>0</td>\n",
              "      <td>0</td>\n",
              "      <td>0</td>\n",
              "      <td>0</td>\n",
              "      <td>0</td>\n",
              "      <td>0</td>\n",
              "      <td>0</td>\n",
              "      <td>0</td>\n",
              "      <td>0</td>\n",
              "      <td>0</td>\n",
              "      <td>...</td>\n",
              "      <td>0</td>\n",
              "      <td>0</td>\n",
              "      <td>0</td>\n",
              "      <td>0</td>\n",
              "      <td>0</td>\n",
              "      <td>0</td>\n",
              "      <td>0</td>\n",
              "      <td>0</td>\n",
              "      <td>0</td>\n",
              "      <td>0</td>\n",
              "      <td>0</td>\n",
              "      <td>0</td>\n",
              "      <td>0</td>\n",
              "      <td>0</td>\n",
              "      <td>0</td>\n",
              "      <td>0</td>\n",
              "      <td>0</td>\n",
              "      <td>0</td>\n",
              "      <td>0</td>\n",
              "      <td>0</td>\n",
              "      <td>0</td>\n",
              "      <td>0</td>\n",
              "      <td>0</td>\n",
              "      <td>0</td>\n",
              "      <td>0</td>\n",
              "      <td>0</td>\n",
              "      <td>0</td>\n",
              "      <td>0</td>\n",
              "      <td>0</td>\n",
              "      <td>0</td>\n",
              "      <td>0</td>\n",
              "      <td>0</td>\n",
              "      <td>0</td>\n",
              "      <td>0</td>\n",
              "      <td>0</td>\n",
              "      <td>0</td>\n",
              "      <td>0</td>\n",
              "      <td>0</td>\n",
              "      <td>0</td>\n",
              "      <td>0</td>\n",
              "    </tr>\n",
              "    <tr>\n",
              "      <th>3</th>\n",
              "      <td>2007-05-29</td>\n",
              "      <td>1.0</td>\n",
              "      <td>41</td>\n",
              "      <td>41.954690</td>\n",
              "      <td>-87.800991</td>\n",
              "      <td>1</td>\n",
              "      <td>0</td>\n",
              "      <td>2007</td>\n",
              "      <td>5</td>\n",
              "      <td>22</td>\n",
              "      <td>255.770357</td>\n",
              "      <td>1</td>\n",
              "      <td>2</td>\n",
              "      <td>88</td>\n",
              "      <td>65</td>\n",
              "      <td>76.5</td>\n",
              "      <td>59</td>\n",
              "      <td>0</td>\n",
              "      <td>0</td>\n",
              "      <td>0</td>\n",
              "      <td>0.0</td>\n",
              "      <td>0</td>\n",
              "      <td>1</td>\n",
              "      <td>0</td>\n",
              "      <td>0</td>\n",
              "      <td>0</td>\n",
              "      <td>0</td>\n",
              "      <td>0</td>\n",
              "      <td>0</td>\n",
              "      <td>0</td>\n",
              "      <td>0</td>\n",
              "      <td>0</td>\n",
              "      <td>0</td>\n",
              "      <td>0</td>\n",
              "      <td>0</td>\n",
              "      <td>0</td>\n",
              "      <td>0</td>\n",
              "      <td>0</td>\n",
              "      <td>0</td>\n",
              "      <td>0</td>\n",
              "      <td>...</td>\n",
              "      <td>0</td>\n",
              "      <td>0</td>\n",
              "      <td>0</td>\n",
              "      <td>0</td>\n",
              "      <td>0</td>\n",
              "      <td>0</td>\n",
              "      <td>0</td>\n",
              "      <td>0</td>\n",
              "      <td>0</td>\n",
              "      <td>0</td>\n",
              "      <td>0</td>\n",
              "      <td>0</td>\n",
              "      <td>0</td>\n",
              "      <td>0</td>\n",
              "      <td>0</td>\n",
              "      <td>0</td>\n",
              "      <td>0</td>\n",
              "      <td>0</td>\n",
              "      <td>0</td>\n",
              "      <td>0</td>\n",
              "      <td>0</td>\n",
              "      <td>0</td>\n",
              "      <td>0</td>\n",
              "      <td>0</td>\n",
              "      <td>0</td>\n",
              "      <td>0</td>\n",
              "      <td>0</td>\n",
              "      <td>0</td>\n",
              "      <td>0</td>\n",
              "      <td>0</td>\n",
              "      <td>0</td>\n",
              "      <td>0</td>\n",
              "      <td>0</td>\n",
              "      <td>0</td>\n",
              "      <td>0</td>\n",
              "      <td>0</td>\n",
              "      <td>0</td>\n",
              "      <td>0</td>\n",
              "      <td>0</td>\n",
              "      <td>0</td>\n",
              "    </tr>\n",
              "    <tr>\n",
              "      <th>4</th>\n",
              "      <td>2007-05-29</td>\n",
              "      <td>1.0</td>\n",
              "      <td>62</td>\n",
              "      <td>41.994991</td>\n",
              "      <td>-87.769279</td>\n",
              "      <td>1</td>\n",
              "      <td>0</td>\n",
              "      <td>2007</td>\n",
              "      <td>5</td>\n",
              "      <td>22</td>\n",
              "      <td>347.488585</td>\n",
              "      <td>1</td>\n",
              "      <td>1</td>\n",
              "      <td>88</td>\n",
              "      <td>60</td>\n",
              "      <td>74.0</td>\n",
              "      <td>58</td>\n",
              "      <td>1917</td>\n",
              "      <td>0421</td>\n",
              "      <td>1917</td>\n",
              "      <td>0.0</td>\n",
              "      <td>0</td>\n",
              "      <td>0</td>\n",
              "      <td>0</td>\n",
              "      <td>0</td>\n",
              "      <td>0</td>\n",
              "      <td>0</td>\n",
              "      <td>1</td>\n",
              "      <td>0</td>\n",
              "      <td>0</td>\n",
              "      <td>0</td>\n",
              "      <td>0</td>\n",
              "      <td>0</td>\n",
              "      <td>0</td>\n",
              "      <td>0</td>\n",
              "      <td>0</td>\n",
              "      <td>0</td>\n",
              "      <td>0</td>\n",
              "      <td>0</td>\n",
              "      <td>0</td>\n",
              "      <td>...</td>\n",
              "      <td>0</td>\n",
              "      <td>0</td>\n",
              "      <td>0</td>\n",
              "      <td>0</td>\n",
              "      <td>0</td>\n",
              "      <td>0</td>\n",
              "      <td>0</td>\n",
              "      <td>0</td>\n",
              "      <td>0</td>\n",
              "      <td>0</td>\n",
              "      <td>0</td>\n",
              "      <td>0</td>\n",
              "      <td>0</td>\n",
              "      <td>0</td>\n",
              "      <td>0</td>\n",
              "      <td>0</td>\n",
              "      <td>0</td>\n",
              "      <td>0</td>\n",
              "      <td>0</td>\n",
              "      <td>0</td>\n",
              "      <td>0</td>\n",
              "      <td>0</td>\n",
              "      <td>0</td>\n",
              "      <td>0</td>\n",
              "      <td>0</td>\n",
              "      <td>0</td>\n",
              "      <td>0</td>\n",
              "      <td>0</td>\n",
              "      <td>0</td>\n",
              "      <td>0</td>\n",
              "      <td>0</td>\n",
              "      <td>0</td>\n",
              "      <td>0</td>\n",
              "      <td>0</td>\n",
              "      <td>0</td>\n",
              "      <td>0</td>\n",
              "      <td>0</td>\n",
              "      <td>0</td>\n",
              "      <td>0</td>\n",
              "      <td>0</td>\n",
              "    </tr>\n",
              "    <tr>\n",
              "      <th>...</th>\n",
              "      <td>...</td>\n",
              "      <td>...</td>\n",
              "      <td>...</td>\n",
              "      <td>...</td>\n",
              "      <td>...</td>\n",
              "      <td>...</td>\n",
              "      <td>...</td>\n",
              "      <td>...</td>\n",
              "      <td>...</td>\n",
              "      <td>...</td>\n",
              "      <td>...</td>\n",
              "      <td>...</td>\n",
              "      <td>...</td>\n",
              "      <td>...</td>\n",
              "      <td>...</td>\n",
              "      <td>...</td>\n",
              "      <td>...</td>\n",
              "      <td>...</td>\n",
              "      <td>...</td>\n",
              "      <td>...</td>\n",
              "      <td>...</td>\n",
              "      <td>...</td>\n",
              "      <td>...</td>\n",
              "      <td>...</td>\n",
              "      <td>...</td>\n",
              "      <td>...</td>\n",
              "      <td>...</td>\n",
              "      <td>...</td>\n",
              "      <td>...</td>\n",
              "      <td>...</td>\n",
              "      <td>...</td>\n",
              "      <td>...</td>\n",
              "      <td>...</td>\n",
              "      <td>...</td>\n",
              "      <td>...</td>\n",
              "      <td>...</td>\n",
              "      <td>...</td>\n",
              "      <td>...</td>\n",
              "      <td>...</td>\n",
              "      <td>...</td>\n",
              "      <td>...</td>\n",
              "      <td>...</td>\n",
              "      <td>...</td>\n",
              "      <td>...</td>\n",
              "      <td>...</td>\n",
              "      <td>...</td>\n",
              "      <td>...</td>\n",
              "      <td>...</td>\n",
              "      <td>...</td>\n",
              "      <td>...</td>\n",
              "      <td>...</td>\n",
              "      <td>...</td>\n",
              "      <td>...</td>\n",
              "      <td>...</td>\n",
              "      <td>...</td>\n",
              "      <td>...</td>\n",
              "      <td>...</td>\n",
              "      <td>...</td>\n",
              "      <td>...</td>\n",
              "      <td>...</td>\n",
              "      <td>...</td>\n",
              "      <td>...</td>\n",
              "      <td>...</td>\n",
              "      <td>...</td>\n",
              "      <td>...</td>\n",
              "      <td>...</td>\n",
              "      <td>...</td>\n",
              "      <td>...</td>\n",
              "      <td>...</td>\n",
              "      <td>...</td>\n",
              "      <td>...</td>\n",
              "      <td>...</td>\n",
              "      <td>...</td>\n",
              "      <td>...</td>\n",
              "      <td>...</td>\n",
              "      <td>...</td>\n",
              "      <td>...</td>\n",
              "      <td>...</td>\n",
              "      <td>...</td>\n",
              "      <td>...</td>\n",
              "      <td>...</td>\n",
              "    </tr>\n",
              "    <tr>\n",
              "      <th>21007</th>\n",
              "      <td>2013-09-26</td>\n",
              "      <td>2.0</td>\n",
              "      <td>17</td>\n",
              "      <td>41.912563</td>\n",
              "      <td>-87.668055</td>\n",
              "      <td>1</td>\n",
              "      <td>0</td>\n",
              "      <td>2013</td>\n",
              "      <td>9</td>\n",
              "      <td>39</td>\n",
              "      <td>1078.872587</td>\n",
              "      <td>0</td>\n",
              "      <td>2</td>\n",
              "      <td>75</td>\n",
              "      <td>55</td>\n",
              "      <td>65.0</td>\n",
              "      <td>52</td>\n",
              "      <td>0</td>\n",
              "      <td>0</td>\n",
              "      <td>0</td>\n",
              "      <td>0.0</td>\n",
              "      <td>0</td>\n",
              "      <td>0</td>\n",
              "      <td>0</td>\n",
              "      <td>0</td>\n",
              "      <td>0</td>\n",
              "      <td>0</td>\n",
              "      <td>0</td>\n",
              "      <td>0</td>\n",
              "      <td>0</td>\n",
              "      <td>0</td>\n",
              "      <td>0</td>\n",
              "      <td>0</td>\n",
              "      <td>0</td>\n",
              "      <td>0</td>\n",
              "      <td>0</td>\n",
              "      <td>0</td>\n",
              "      <td>0</td>\n",
              "      <td>0</td>\n",
              "      <td>0</td>\n",
              "      <td>...</td>\n",
              "      <td>0</td>\n",
              "      <td>0</td>\n",
              "      <td>0</td>\n",
              "      <td>0</td>\n",
              "      <td>0</td>\n",
              "      <td>0</td>\n",
              "      <td>0</td>\n",
              "      <td>0</td>\n",
              "      <td>0</td>\n",
              "      <td>0</td>\n",
              "      <td>0</td>\n",
              "      <td>0</td>\n",
              "      <td>0</td>\n",
              "      <td>0</td>\n",
              "      <td>0</td>\n",
              "      <td>0</td>\n",
              "      <td>0</td>\n",
              "      <td>0</td>\n",
              "      <td>0</td>\n",
              "      <td>0</td>\n",
              "      <td>0</td>\n",
              "      <td>0</td>\n",
              "      <td>0</td>\n",
              "      <td>0</td>\n",
              "      <td>0</td>\n",
              "      <td>0</td>\n",
              "      <td>0</td>\n",
              "      <td>0</td>\n",
              "      <td>0</td>\n",
              "      <td>0</td>\n",
              "      <td>0</td>\n",
              "      <td>0</td>\n",
              "      <td>1</td>\n",
              "      <td>0</td>\n",
              "      <td>0</td>\n",
              "      <td>0</td>\n",
              "      <td>0</td>\n",
              "      <td>0</td>\n",
              "      <td>0</td>\n",
              "      <td>0</td>\n",
              "    </tr>\n",
              "    <tr>\n",
              "      <th>21008</th>\n",
              "      <td>2013-09-26</td>\n",
              "      <td>2.0</td>\n",
              "      <td>71</td>\n",
              "      <td>42.009876</td>\n",
              "      <td>-87.807277</td>\n",
              "      <td>5</td>\n",
              "      <td>0</td>\n",
              "      <td>2013</td>\n",
              "      <td>9</td>\n",
              "      <td>39</td>\n",
              "      <td>44.600309</td>\n",
              "      <td>1</td>\n",
              "      <td>1</td>\n",
              "      <td>75</td>\n",
              "      <td>50</td>\n",
              "      <td>62.5</td>\n",
              "      <td>52</td>\n",
              "      <td>1742</td>\n",
              "      <td>0543</td>\n",
              "      <td>1742</td>\n",
              "      <td>0.0</td>\n",
              "      <td>0</td>\n",
              "      <td>0</td>\n",
              "      <td>0</td>\n",
              "      <td>0</td>\n",
              "      <td>0</td>\n",
              "      <td>0</td>\n",
              "      <td>0</td>\n",
              "      <td>0</td>\n",
              "      <td>0</td>\n",
              "      <td>0</td>\n",
              "      <td>0</td>\n",
              "      <td>0</td>\n",
              "      <td>0</td>\n",
              "      <td>0</td>\n",
              "      <td>0</td>\n",
              "      <td>0</td>\n",
              "      <td>0</td>\n",
              "      <td>0</td>\n",
              "      <td>0</td>\n",
              "      <td>...</td>\n",
              "      <td>0</td>\n",
              "      <td>0</td>\n",
              "      <td>0</td>\n",
              "      <td>0</td>\n",
              "      <td>0</td>\n",
              "      <td>0</td>\n",
              "      <td>0</td>\n",
              "      <td>0</td>\n",
              "      <td>0</td>\n",
              "      <td>0</td>\n",
              "      <td>0</td>\n",
              "      <td>0</td>\n",
              "      <td>0</td>\n",
              "      <td>0</td>\n",
              "      <td>0</td>\n",
              "      <td>0</td>\n",
              "      <td>0</td>\n",
              "      <td>0</td>\n",
              "      <td>0</td>\n",
              "      <td>0</td>\n",
              "      <td>0</td>\n",
              "      <td>0</td>\n",
              "      <td>0</td>\n",
              "      <td>0</td>\n",
              "      <td>0</td>\n",
              "      <td>0</td>\n",
              "      <td>0</td>\n",
              "      <td>0</td>\n",
              "      <td>0</td>\n",
              "      <td>0</td>\n",
              "      <td>0</td>\n",
              "      <td>0</td>\n",
              "      <td>0</td>\n",
              "      <td>1</td>\n",
              "      <td>0</td>\n",
              "      <td>0</td>\n",
              "      <td>0</td>\n",
              "      <td>0</td>\n",
              "      <td>0</td>\n",
              "      <td>0</td>\n",
              "    </tr>\n",
              "    <tr>\n",
              "      <th>21009</th>\n",
              "      <td>2013-09-26</td>\n",
              "      <td>2.0</td>\n",
              "      <td>71</td>\n",
              "      <td>42.009876</td>\n",
              "      <td>-87.807277</td>\n",
              "      <td>5</td>\n",
              "      <td>0</td>\n",
              "      <td>2013</td>\n",
              "      <td>9</td>\n",
              "      <td>39</td>\n",
              "      <td>44.600309</td>\n",
              "      <td>1</td>\n",
              "      <td>2</td>\n",
              "      <td>75</td>\n",
              "      <td>55</td>\n",
              "      <td>65.0</td>\n",
              "      <td>52</td>\n",
              "      <td>0</td>\n",
              "      <td>0</td>\n",
              "      <td>0</td>\n",
              "      <td>0.0</td>\n",
              "      <td>0</td>\n",
              "      <td>0</td>\n",
              "      <td>0</td>\n",
              "      <td>0</td>\n",
              "      <td>0</td>\n",
              "      <td>0</td>\n",
              "      <td>0</td>\n",
              "      <td>0</td>\n",
              "      <td>0</td>\n",
              "      <td>0</td>\n",
              "      <td>0</td>\n",
              "      <td>0</td>\n",
              "      <td>0</td>\n",
              "      <td>0</td>\n",
              "      <td>0</td>\n",
              "      <td>0</td>\n",
              "      <td>0</td>\n",
              "      <td>0</td>\n",
              "      <td>0</td>\n",
              "      <td>...</td>\n",
              "      <td>0</td>\n",
              "      <td>0</td>\n",
              "      <td>0</td>\n",
              "      <td>0</td>\n",
              "      <td>0</td>\n",
              "      <td>0</td>\n",
              "      <td>0</td>\n",
              "      <td>0</td>\n",
              "      <td>0</td>\n",
              "      <td>0</td>\n",
              "      <td>0</td>\n",
              "      <td>0</td>\n",
              "      <td>0</td>\n",
              "      <td>0</td>\n",
              "      <td>0</td>\n",
              "      <td>0</td>\n",
              "      <td>0</td>\n",
              "      <td>0</td>\n",
              "      <td>0</td>\n",
              "      <td>0</td>\n",
              "      <td>0</td>\n",
              "      <td>0</td>\n",
              "      <td>0</td>\n",
              "      <td>0</td>\n",
              "      <td>0</td>\n",
              "      <td>0</td>\n",
              "      <td>0</td>\n",
              "      <td>0</td>\n",
              "      <td>0</td>\n",
              "      <td>0</td>\n",
              "      <td>0</td>\n",
              "      <td>0</td>\n",
              "      <td>0</td>\n",
              "      <td>1</td>\n",
              "      <td>0</td>\n",
              "      <td>0</td>\n",
              "      <td>0</td>\n",
              "      <td>0</td>\n",
              "      <td>0</td>\n",
              "      <td>0</td>\n",
              "    </tr>\n",
              "    <tr>\n",
              "      <th>21010</th>\n",
              "      <td>2013-09-26</td>\n",
              "      <td>2.0</td>\n",
              "      <td>42</td>\n",
              "      <td>41.776428</td>\n",
              "      <td>-87.627096</td>\n",
              "      <td>1</td>\n",
              "      <td>0</td>\n",
              "      <td>2013</td>\n",
              "      <td>9</td>\n",
              "      <td>39</td>\n",
              "      <td>1428.889647</td>\n",
              "      <td>0</td>\n",
              "      <td>1</td>\n",
              "      <td>75</td>\n",
              "      <td>50</td>\n",
              "      <td>62.5</td>\n",
              "      <td>52</td>\n",
              "      <td>1742</td>\n",
              "      <td>0543</td>\n",
              "      <td>1742</td>\n",
              "      <td>0.0</td>\n",
              "      <td>0</td>\n",
              "      <td>0</td>\n",
              "      <td>0</td>\n",
              "      <td>0</td>\n",
              "      <td>0</td>\n",
              "      <td>0</td>\n",
              "      <td>0</td>\n",
              "      <td>0</td>\n",
              "      <td>0</td>\n",
              "      <td>0</td>\n",
              "      <td>0</td>\n",
              "      <td>0</td>\n",
              "      <td>0</td>\n",
              "      <td>0</td>\n",
              "      <td>0</td>\n",
              "      <td>0</td>\n",
              "      <td>0</td>\n",
              "      <td>0</td>\n",
              "      <td>0</td>\n",
              "      <td>...</td>\n",
              "      <td>0</td>\n",
              "      <td>0</td>\n",
              "      <td>0</td>\n",
              "      <td>0</td>\n",
              "      <td>0</td>\n",
              "      <td>0</td>\n",
              "      <td>0</td>\n",
              "      <td>0</td>\n",
              "      <td>0</td>\n",
              "      <td>0</td>\n",
              "      <td>0</td>\n",
              "      <td>0</td>\n",
              "      <td>0</td>\n",
              "      <td>0</td>\n",
              "      <td>0</td>\n",
              "      <td>0</td>\n",
              "      <td>0</td>\n",
              "      <td>0</td>\n",
              "      <td>0</td>\n",
              "      <td>0</td>\n",
              "      <td>0</td>\n",
              "      <td>0</td>\n",
              "      <td>0</td>\n",
              "      <td>0</td>\n",
              "      <td>0</td>\n",
              "      <td>0</td>\n",
              "      <td>0</td>\n",
              "      <td>0</td>\n",
              "      <td>0</td>\n",
              "      <td>0</td>\n",
              "      <td>0</td>\n",
              "      <td>0</td>\n",
              "      <td>0</td>\n",
              "      <td>0</td>\n",
              "      <td>1</td>\n",
              "      <td>0</td>\n",
              "      <td>0</td>\n",
              "      <td>0</td>\n",
              "      <td>0</td>\n",
              "      <td>0</td>\n",
              "    </tr>\n",
              "    <tr>\n",
              "      <th>21011</th>\n",
              "      <td>2013-09-26</td>\n",
              "      <td>2.0</td>\n",
              "      <td>42</td>\n",
              "      <td>41.776428</td>\n",
              "      <td>-87.627096</td>\n",
              "      <td>1</td>\n",
              "      <td>0</td>\n",
              "      <td>2013</td>\n",
              "      <td>9</td>\n",
              "      <td>39</td>\n",
              "      <td>1428.889647</td>\n",
              "      <td>0</td>\n",
              "      <td>2</td>\n",
              "      <td>75</td>\n",
              "      <td>55</td>\n",
              "      <td>65.0</td>\n",
              "      <td>52</td>\n",
              "      <td>0</td>\n",
              "      <td>0</td>\n",
              "      <td>0</td>\n",
              "      <td>0.0</td>\n",
              "      <td>0</td>\n",
              "      <td>0</td>\n",
              "      <td>0</td>\n",
              "      <td>0</td>\n",
              "      <td>0</td>\n",
              "      <td>0</td>\n",
              "      <td>0</td>\n",
              "      <td>0</td>\n",
              "      <td>0</td>\n",
              "      <td>0</td>\n",
              "      <td>0</td>\n",
              "      <td>0</td>\n",
              "      <td>0</td>\n",
              "      <td>0</td>\n",
              "      <td>0</td>\n",
              "      <td>0</td>\n",
              "      <td>0</td>\n",
              "      <td>0</td>\n",
              "      <td>0</td>\n",
              "      <td>...</td>\n",
              "      <td>0</td>\n",
              "      <td>0</td>\n",
              "      <td>0</td>\n",
              "      <td>0</td>\n",
              "      <td>0</td>\n",
              "      <td>0</td>\n",
              "      <td>0</td>\n",
              "      <td>0</td>\n",
              "      <td>0</td>\n",
              "      <td>0</td>\n",
              "      <td>0</td>\n",
              "      <td>0</td>\n",
              "      <td>0</td>\n",
              "      <td>0</td>\n",
              "      <td>0</td>\n",
              "      <td>0</td>\n",
              "      <td>0</td>\n",
              "      <td>0</td>\n",
              "      <td>0</td>\n",
              "      <td>0</td>\n",
              "      <td>0</td>\n",
              "      <td>0</td>\n",
              "      <td>0</td>\n",
              "      <td>0</td>\n",
              "      <td>0</td>\n",
              "      <td>0</td>\n",
              "      <td>0</td>\n",
              "      <td>0</td>\n",
              "      <td>0</td>\n",
              "      <td>0</td>\n",
              "      <td>0</td>\n",
              "      <td>0</td>\n",
              "      <td>0</td>\n",
              "      <td>0</td>\n",
              "      <td>1</td>\n",
              "      <td>0</td>\n",
              "      <td>0</td>\n",
              "      <td>0</td>\n",
              "      <td>0</td>\n",
              "      <td>0</td>\n",
              "    </tr>\n",
              "  </tbody>\n",
              "</table>\n",
              "<p>21012 rows × 157 columns</p>\n",
              "</div>"
            ],
            "text/plain": [
              "             Date  Species  Block  ...  Trap_T238  Trap_T900  Trap_T903\n",
              "0      2007-05-29      2.0     41  ...          0          0          0\n",
              "1      2007-05-29      2.0     41  ...          0          0          0\n",
              "2      2007-05-29      1.0     41  ...          0          0          0\n",
              "3      2007-05-29      1.0     41  ...          0          0          0\n",
              "4      2007-05-29      1.0     62  ...          0          0          0\n",
              "...           ...      ...    ...  ...        ...        ...        ...\n",
              "21007  2013-09-26      2.0     17  ...          0          0          0\n",
              "21008  2013-09-26      2.0     71  ...          0          0          0\n",
              "21009  2013-09-26      2.0     71  ...          0          0          0\n",
              "21010  2013-09-26      2.0     42  ...          0          0          0\n",
              "21011  2013-09-26      2.0     42  ...          0          0          0\n",
              "\n",
              "[21012 rows x 157 columns]"
            ]
          },
          "metadata": {},
          "execution_count": 46
        }
      ]
    },
    {
      "cell_type": "code",
      "metadata": {
        "id": "vBVHIdJTQAuF"
      },
      "source": [
        "# Instiantiate models\n",
        "models = {'lr': LogisticRegression(max_iter=5_000, random_state=42, solver='saga'),\n",
        "          'rf': RandomForestClassifier(random_state=42),\n",
        "          'gb': GradientBoostingClassifier(random_state=42),\n",
        "          'xgb': XGBClassifier(random_state=42),\n",
        "        }"
      ],
      "execution_count": 47,
      "outputs": []
    },
    {
      "cell_type": "code",
      "metadata": {
        "id": "CnX_oUK3Qjt7"
      },
      "source": [
        "# Instantiate lists to store results\n",
        "init_list = []\n",
        "gs_list = []\n",
        "\n",
        "# Function to run model -- input scaler and model\n",
        "def run_model(mod, mod_params={}, grid_search=False):\n",
        "    \n",
        "    # Initial dictionary to hold model results\n",
        "    results = {}\n",
        "    \n",
        "    pipe = Pipeline([\n",
        "            ('ss', StandardScaler()),\n",
        "            (mod, models[mod])\n",
        "            ])\n",
        "    \n",
        "    if grid_search:\n",
        "        # Instantiate list to store gridsearch results\n",
        "        gs = GridSearchCV(pipe, param_grid=mod_params, cv=3, verbose=1, scoring='roc_auc', n_jobs=-1)\n",
        "        gs.fit(X_train_smote, y_train_smote)\n",
        "        pipe = gs\n",
        "        \n",
        "    else:\n",
        "        pipe.fit(X_train_smote, y_train_smote)\n",
        "    \n",
        "    # Retrieve metrics\n",
        "    predictions = pipe.predict(X_test)\n",
        "    tn, fp, fn, tp = confusion_matrix(y_test, predictions).ravel()\n",
        "    y_test_pred_prob = pipe.predict_proba(X_test)[:,1]\n",
        "    y_train_pred_prob = pipe.predict_proba(X_train_smote)[:,1]\n",
        "    \n",
        "    results['model'] = mod\n",
        "    results['train_auc'] = roc_auc_score(y_train_smote, y_train_pred_prob)\n",
        "    results['test_auc'] = roc_auc_score(y_test, y_test_pred_prob)\n",
        "    results['precision'] = precision_score(y_test, predictions)\n",
        "    results['specificity'] = tn / (tn + fp)\n",
        "    results['recall'] = recall_score(y_test, predictions)\n",
        "    results['f_score'] = f1_score(y_test, predictions)\n",
        "    \n",
        "    if grid_search:\n",
        "        gs_list.append(results)\n",
        "        print('### BEST PARAMS ###')\n",
        "        display(pipe.best_params_)\n",
        "        \n",
        "    else:\n",
        "        init_list.append(results)\n",
        "    \n",
        "    print('### METRICS ###')\n",
        "    display(results)\n",
        "    \n",
        "    print(f\"True Negatives: {tn}\")\n",
        "    print(f\"False Positives: {fp}\")\n",
        "    print(f\"False Negatives: {fn}\")\n",
        "    print(f\"True Positives: {tp}\")\n",
        "    \n",
        "    return pipe"
      ],
      "execution_count": 48,
      "outputs": []
    },
    {
      "cell_type": "code",
      "metadata": {
        "id": "Eo1eMoJbQohm"
      },
      "source": [
        "def predictions(pipeline):\n",
        "    pipeline.fit(X_train_smote.values,y_train_smote.values) #fit pipeline to training data\n",
        "    a = [pipeline.predict(X_train_smote.values), \n",
        " #      pipeline.predict(X_val.values),\n",
        "       pipeline.predict(X_test.values)]\n",
        "    b = [pipeline.predict_proba(X_train_smote.values),\n",
        " #      pipeline.predict_proba(X_val.values),\n",
        "       pipeline.predict_proba(X_test.values)]\n",
        "    return a,b"
      ],
      "execution_count": 49,
      "outputs": []
    },
    {
      "cell_type": "code",
      "metadata": {
        "colab": {
          "base_uri": "https://localhost:8080/",
          "height": 225
        },
        "id": "w-HLd6VOQuSF",
        "outputId": "88defcdb-fb2d-4cf2-944c-60cda98063af"
      },
      "source": [
        "xgb = run_model('xgb')"
      ],
      "execution_count": 50,
      "outputs": [
        {
          "output_type": "stream",
          "name": "stdout",
          "text": [
            "### METRICS ###\n"
          ]
        },
        {
          "output_type": "display_data",
          "data": {
            "text/plain": [
              "{'f_score': 0.0994475138121547,\n",
              " 'model': 'xgb',\n",
              " 'precision': 0.5806451612903226,\n",
              " 'recall': 0.054380664652567974,\n",
              " 'specificity': 0.9978235392600033,\n",
              " 'test_auc': 0.8988542600817475,\n",
              " 'train_auc': 0.9037619910311614}"
            ]
          },
          "metadata": {}
        },
        {
          "output_type": "stream",
          "name": "stdout",
          "text": [
            "True Negatives: 5960\n",
            "False Positives: 13\n",
            "False Negatives: 313\n",
            "True Positives: 18\n"
          ]
        }
      ]
    },
    {
      "cell_type": "code",
      "metadata": {
        "colab": {
          "base_uri": "https://localhost:8080/",
          "height": 225
        },
        "id": "MeVc37TjY78h",
        "outputId": "beefc748-3fe5-4ed7-edee-1cd85222c2c9"
      },
      "source": [
        "rfc = run_model('rf')"
      ],
      "execution_count": 51,
      "outputs": [
        {
          "output_type": "stream",
          "name": "stdout",
          "text": [
            "### METRICS ###\n"
          ]
        },
        {
          "output_type": "display_data",
          "data": {
            "text/plain": [
              "{'f_score': 0.2348008385744235,\n",
              " 'model': 'rf',\n",
              " 'precision': 0.3835616438356164,\n",
              " 'recall': 0.1691842900302115,\n",
              " 'specificity': 0.9849321948769463,\n",
              " 'test_auc': 0.8866164103015431,\n",
              " 'train_auc': 0.996990487209117}"
            ]
          },
          "metadata": {}
        },
        {
          "output_type": "stream",
          "name": "stdout",
          "text": [
            "True Negatives: 5883\n",
            "False Positives: 90\n",
            "False Negatives: 275\n",
            "True Positives: 56\n"
          ]
        }
      ]
    },
    {
      "cell_type": "markdown",
      "metadata": {
        "id": "k2kofkbiZT2T"
      },
      "source": [
        "### 4.4 Fitting into Model (With Smote)\n",
        "___"
      ]
    },
    {
      "cell_type": "code",
      "metadata": {
        "id": "mjzM2IUbZj0K"
      },
      "source": [
        "X_train, X_test, y_train, y_test = train_test_split(X, y, test_size=0.3, stratify=y, random_state=42)"
      ],
      "execution_count": 52,
      "outputs": []
    },
    {
      "cell_type": "code",
      "metadata": {
        "colab": {
          "base_uri": "https://localhost:8080/"
        },
        "id": "3hY4cHCNZrgz",
        "outputId": "c0f6f203-739c-460b-c301-5c79a287c125"
      },
      "source": [
        "# borderline-SMOTE with SVM for imbalanced dataset\n",
        "from collections import Counter\n",
        "from sklearn.datasets import make_classification\n",
        "from imblearn.combine import SMOTEENN\n",
        "from matplotlib import pyplot\n",
        "from numpy import where\n",
        "# summarize class distribution\n",
        "counter = Counter(y)\n",
        "print(counter)\n",
        "# transform the dataset\n",
        "smote = SMOTEENN()\n",
        "#X, y = smote.fit_resample(X, y)\n",
        "# summarize the new class distribution\n",
        "counter = Counter(y)\n",
        "print(counter)"
      ],
      "execution_count": 53,
      "outputs": [
        {
          "output_type": "stream",
          "name": "stdout",
          "text": [
            "Counter({0: 19910, 1: 1102})\n",
            "Counter({0: 19910, 1: 1102})\n"
          ]
        },
        {
          "output_type": "stream",
          "name": "stderr",
          "text": [
            "/usr/local/lib/python3.7/dist-packages/sklearn/externals/six.py:31: FutureWarning: The module is deprecated in version 0.21 and will be removed in version 0.23 since we've dropped support for Python 2.7. Please rely on the official version of six (https://pypi.org/project/six/).\n",
            "  \"(https://pypi.org/project/six/).\", FutureWarning)\n",
            "/usr/local/lib/python3.7/dist-packages/sklearn/utils/deprecation.py:144: FutureWarning: The sklearn.neighbors.base module is  deprecated in version 0.22 and will be removed in version 0.24. The corresponding classes / functions should instead be imported from sklearn.neighbors. Anything that cannot be imported from sklearn.neighbors is now part of the private API.\n",
            "  warnings.warn(message, FutureWarning)\n"
          ]
        }
      ]
    },
    {
      "cell_type": "code",
      "metadata": {
        "colab": {
          "base_uri": "https://localhost:8080/"
        },
        "id": "nAyY7LLmZt96",
        "outputId": "ceb2097e-4b42-48e7-b175-6bf6526ff5c2"
      },
      "source": [
        "X_train_smote, y_train_smote = smote.fit_resample(X_train,y_train)"
      ],
      "execution_count": 54,
      "outputs": [
        {
          "output_type": "stream",
          "name": "stderr",
          "text": [
            "/usr/local/lib/python3.7/dist-packages/sklearn/utils/deprecation.py:87: FutureWarning: Function safe_indexing is deprecated; safe_indexing is deprecated in version 0.22 and will be removed in version 0.24.\n",
            "  warnings.warn(msg, category=FutureWarning)\n",
            "/usr/local/lib/python3.7/dist-packages/sklearn/utils/deprecation.py:87: FutureWarning: Function safe_indexing is deprecated; safe_indexing is deprecated in version 0.22 and will be removed in version 0.24.\n",
            "  warnings.warn(msg, category=FutureWarning)\n",
            "/usr/local/lib/python3.7/dist-packages/sklearn/utils/deprecation.py:87: FutureWarning: Function safe_indexing is deprecated; safe_indexing is deprecated in version 0.22 and will be removed in version 0.24.\n",
            "  warnings.warn(msg, category=FutureWarning)\n",
            "/usr/local/lib/python3.7/dist-packages/sklearn/utils/deprecation.py:87: FutureWarning: Function safe_indexing is deprecated; safe_indexing is deprecated in version 0.22 and will be removed in version 0.24.\n",
            "  warnings.warn(msg, category=FutureWarning)\n"
          ]
        }
      ]
    },
    {
      "cell_type": "code",
      "metadata": {
        "colab": {
          "base_uri": "https://localhost:8080/"
        },
        "id": "Djqi0Y1ibauM",
        "outputId": "a262d8aa-f03b-40a6-a626-00223d7fd7f4"
      },
      "source": [
        "print('Before SMNOTE :', np.bincount(y_train))\n",
        "print('After SMNOTE :', np.bincount(y_train_smote))"
      ],
      "execution_count": 55,
      "outputs": [
        {
          "output_type": "stream",
          "name": "stdout",
          "text": [
            "Before SMNOTE : [13937   771]\n",
            "After SMNOTE : [11387 12537]\n"
          ]
        }
      ]
    },
    {
      "cell_type": "code",
      "metadata": {
        "colab": {
          "base_uri": "https://localhost:8080/",
          "height": 225
        },
        "id": "DaEQzAR_ZwRS",
        "outputId": "774cd50e-cde2-47b7-b261-2cf3a439e2c6"
      },
      "source": [
        "xgb_s = run_model('xgb')"
      ],
      "execution_count": 56,
      "outputs": [
        {
          "output_type": "stream",
          "name": "stdout",
          "text": [
            "### METRICS ###\n"
          ]
        },
        {
          "output_type": "display_data",
          "data": {
            "text/plain": [
              "{'f_score': 0.35147058823529415,\n",
              " 'model': 'xgb',\n",
              " 'precision': 0.23226433430515064,\n",
              " 'recall': 0.7220543806646526,\n",
              " 'specificity': 0.8677381550309727,\n",
              " 'test_auc': 0.8897088762472416,\n",
              " 'train_auc': 0.992270326921099}"
            ]
          },
          "metadata": {}
        },
        {
          "output_type": "stream",
          "name": "stdout",
          "text": [
            "True Negatives: 5183\n",
            "False Positives: 790\n",
            "False Negatives: 92\n",
            "True Positives: 239\n"
          ]
        }
      ]
    },
    {
      "cell_type": "code",
      "metadata": {
        "colab": {
          "base_uri": "https://localhost:8080/",
          "height": 225
        },
        "id": "y75V2lF_Z66D",
        "outputId": "423daa90-2c8f-4a90-a315-d83013e595d2"
      },
      "source": [
        "rfc_s = run_model('rf')"
      ],
      "execution_count": 57,
      "outputs": [
        {
          "output_type": "stream",
          "name": "stdout",
          "text": [
            "### METRICS ###\n"
          ]
        },
        {
          "output_type": "display_data",
          "data": {
            "text/plain": [
              "{'f_score': 0.38649592549476136,\n",
              " 'model': 'rf',\n",
              " 'precision': 0.3143939393939394,\n",
              " 'recall': 0.5015105740181269,\n",
              " 'specificity': 0.9393939393939394,\n",
              " 'test_auc': 0.8657913278433718,\n",
              " 'train_auc': 1.0}"
            ]
          },
          "metadata": {}
        },
        {
          "output_type": "stream",
          "name": "stdout",
          "text": [
            "True Negatives: 5611\n",
            "False Positives: 362\n",
            "False Negatives: 165\n",
            "True Positives: 166\n"
          ]
        }
      ]
    },
    {
      "cell_type": "code",
      "metadata": {
        "colab": {
          "base_uri": "https://localhost:8080/",
          "height": 225
        },
        "id": "C0CNVOlcaErr",
        "outputId": "e14857ca-56e6-437e-d030-a2d9df39b714"
      },
      "source": [
        "gb_s = run_model('gb')"
      ],
      "execution_count": 58,
      "outputs": [
        {
          "output_type": "stream",
          "name": "stdout",
          "text": [
            "### METRICS ###\n"
          ]
        },
        {
          "output_type": "display_data",
          "data": {
            "text/plain": [
              "{'f_score': 0.3634957463263728,\n",
              " 'model': 'gb',\n",
              " 'precision': 0.2442827442827443,\n",
              " 'recall': 0.7099697885196374,\n",
              " 'specificity': 0.8782856186171103,\n",
              " 'test_auc': 0.8868212596159051,\n",
              " 'train_auc': 0.9932325651979512}"
            ]
          },
          "metadata": {}
        },
        {
          "output_type": "stream",
          "name": "stdout",
          "text": [
            "True Negatives: 5246\n",
            "False Positives: 727\n",
            "False Negatives: 96\n",
            "True Positives: 235\n"
          ]
        }
      ]
    },
    {
      "cell_type": "code",
      "metadata": {
        "colab": {
          "base_uri": "https://localhost:8080/",
          "height": 206
        },
        "id": "FkS7rbdearAi",
        "outputId": "d1eef653-7182-46b9-e808-b420222e9d71"
      },
      "source": [
        "pd.DataFrame(init_list).sort_values(by='test_auc', ascending=False).reset_index(drop=True)"
      ],
      "execution_count": 59,
      "outputs": [
        {
          "output_type": "execute_result",
          "data": {
            "text/html": [
              "<div>\n",
              "<style scoped>\n",
              "    .dataframe tbody tr th:only-of-type {\n",
              "        vertical-align: middle;\n",
              "    }\n",
              "\n",
              "    .dataframe tbody tr th {\n",
              "        vertical-align: top;\n",
              "    }\n",
              "\n",
              "    .dataframe thead th {\n",
              "        text-align: right;\n",
              "    }\n",
              "</style>\n",
              "<table border=\"1\" class=\"dataframe\">\n",
              "  <thead>\n",
              "    <tr style=\"text-align: right;\">\n",
              "      <th></th>\n",
              "      <th>model</th>\n",
              "      <th>train_auc</th>\n",
              "      <th>test_auc</th>\n",
              "      <th>precision</th>\n",
              "      <th>specificity</th>\n",
              "      <th>recall</th>\n",
              "      <th>f_score</th>\n",
              "    </tr>\n",
              "  </thead>\n",
              "  <tbody>\n",
              "    <tr>\n",
              "      <th>0</th>\n",
              "      <td>xgb</td>\n",
              "      <td>0.903762</td>\n",
              "      <td>0.898854</td>\n",
              "      <td>0.580645</td>\n",
              "      <td>0.997824</td>\n",
              "      <td>0.054381</td>\n",
              "      <td>0.099448</td>\n",
              "    </tr>\n",
              "    <tr>\n",
              "      <th>1</th>\n",
              "      <td>xgb</td>\n",
              "      <td>0.992270</td>\n",
              "      <td>0.889709</td>\n",
              "      <td>0.232264</td>\n",
              "      <td>0.867738</td>\n",
              "      <td>0.722054</td>\n",
              "      <td>0.351471</td>\n",
              "    </tr>\n",
              "    <tr>\n",
              "      <th>2</th>\n",
              "      <td>gb</td>\n",
              "      <td>0.993233</td>\n",
              "      <td>0.886821</td>\n",
              "      <td>0.244283</td>\n",
              "      <td>0.878286</td>\n",
              "      <td>0.709970</td>\n",
              "      <td>0.363496</td>\n",
              "    </tr>\n",
              "    <tr>\n",
              "      <th>3</th>\n",
              "      <td>rf</td>\n",
              "      <td>0.996990</td>\n",
              "      <td>0.886616</td>\n",
              "      <td>0.383562</td>\n",
              "      <td>0.984932</td>\n",
              "      <td>0.169184</td>\n",
              "      <td>0.234801</td>\n",
              "    </tr>\n",
              "    <tr>\n",
              "      <th>4</th>\n",
              "      <td>rf</td>\n",
              "      <td>1.000000</td>\n",
              "      <td>0.865791</td>\n",
              "      <td>0.314394</td>\n",
              "      <td>0.939394</td>\n",
              "      <td>0.501511</td>\n",
              "      <td>0.386496</td>\n",
              "    </tr>\n",
              "  </tbody>\n",
              "</table>\n",
              "</div>"
            ],
            "text/plain": [
              "  model  train_auc  test_auc  precision  specificity    recall   f_score\n",
              "0   xgb   0.903762  0.898854   0.580645     0.997824  0.054381  0.099448\n",
              "1   xgb   0.992270  0.889709   0.232264     0.867738  0.722054  0.351471\n",
              "2    gb   0.993233  0.886821   0.244283     0.878286  0.709970  0.363496\n",
              "3    rf   0.996990  0.886616   0.383562     0.984932  0.169184  0.234801\n",
              "4    rf   1.000000  0.865791   0.314394     0.939394  0.501511  0.386496"
            ]
          },
          "metadata": {},
          "execution_count": 59
        }
      ]
    },
    {
      "cell_type": "code",
      "metadata": {
        "id": "ticrfLuka3Vy"
      },
      "source": [
        ""
      ],
      "execution_count": 59,
      "outputs": []
    }
  ]
}